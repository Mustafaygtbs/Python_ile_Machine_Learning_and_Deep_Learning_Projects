{
 "cells": [
  {
   "cell_type": "markdown",
   "id": "8a4079f8",
   "metadata": {},
   "source": [
    "# MULTIPLE LINEAR REGRESSION\n",
    "\n",
    "Multiple Linear Regression'da birden fazla bağımsız(independent) değişkene karşılık bir bağımlı(dependent) dğeişken bulunur.\n",
    "\n",
    "Linear Regression veriler arasında var olan korelasyonu(ilişkiyi) kullanarak yeni gelecek verileri tahmin etme modelidir. Burada makine öğrenimi bize veriler arasındaki bu ilişkiyi belirlememize yardımcı olur ve bu sayede yeni verileri tahmin edebiliriz. "
   ]
  },
  {
   "cell_type": "code",
   "id": "c1416c59",
   "metadata": {
    "ExecuteTime": {
     "end_time": "2025-02-28T15:22:02.677531Z",
     "start_time": "2025-02-28T15:22:02.668624Z"
    }
   },
   "source": [
    "\n",
    "import pandas as pd\n",
    "# sklearn library\n",
    "from sklearn import linear_model\n",
    "\n",
    "# veri setimizi import ediyoruz, ayraç olarak noktalı virgül olduğu için bunu belirtiyoruz:\n",
    "df = pd.read_csv(\"multilinearregression.csv\",sep = \";\")\n",
    "\n"
   ],
   "outputs": [],
   "execution_count": 46
  },
  {
   "cell_type": "code",
   "id": "cfcaf07e",
   "metadata": {
    "ExecuteTime": {
     "end_time": "2025-02-28T15:22:03.107217Z",
     "start_time": "2025-02-28T15:22:03.096656Z"
    }
   },
   "source": "df",
   "outputs": [
    {
     "data": {
      "text/plain": [
       "   alan  odasayisi  binayasi   fiyat\n",
       "0   180          5        10  510000\n",
       "1   225          4        18  508000\n",
       "2   260          3         2  548000\n",
       "3   320          6        10  650000\n",
       "4   335          4         9  628000\n",
       "5   345          5        14  632000\n",
       "6   355          3         0  680000\n",
       "7   400          4        10  725000"
      ],
      "text/html": [
       "<div>\n",
       "<style scoped>\n",
       "    .dataframe tbody tr th:only-of-type {\n",
       "        vertical-align: middle;\n",
       "    }\n",
       "\n",
       "    .dataframe tbody tr th {\n",
       "        vertical-align: top;\n",
       "    }\n",
       "\n",
       "    .dataframe thead th {\n",
       "        text-align: right;\n",
       "    }\n",
       "</style>\n",
       "<table border=\"1\" class=\"dataframe\">\n",
       "  <thead>\n",
       "    <tr style=\"text-align: right;\">\n",
       "      <th></th>\n",
       "      <th>alan</th>\n",
       "      <th>odasayisi</th>\n",
       "      <th>binayasi</th>\n",
       "      <th>fiyat</th>\n",
       "    </tr>\n",
       "  </thead>\n",
       "  <tbody>\n",
       "    <tr>\n",
       "      <th>0</th>\n",
       "      <td>180</td>\n",
       "      <td>5</td>\n",
       "      <td>10</td>\n",
       "      <td>510000</td>\n",
       "    </tr>\n",
       "    <tr>\n",
       "      <th>1</th>\n",
       "      <td>225</td>\n",
       "      <td>4</td>\n",
       "      <td>18</td>\n",
       "      <td>508000</td>\n",
       "    </tr>\n",
       "    <tr>\n",
       "      <th>2</th>\n",
       "      <td>260</td>\n",
       "      <td>3</td>\n",
       "      <td>2</td>\n",
       "      <td>548000</td>\n",
       "    </tr>\n",
       "    <tr>\n",
       "      <th>3</th>\n",
       "      <td>320</td>\n",
       "      <td>6</td>\n",
       "      <td>10</td>\n",
       "      <td>650000</td>\n",
       "    </tr>\n",
       "    <tr>\n",
       "      <th>4</th>\n",
       "      <td>335</td>\n",
       "      <td>4</td>\n",
       "      <td>9</td>\n",
       "      <td>628000</td>\n",
       "    </tr>\n",
       "    <tr>\n",
       "      <th>5</th>\n",
       "      <td>345</td>\n",
       "      <td>5</td>\n",
       "      <td>14</td>\n",
       "      <td>632000</td>\n",
       "    </tr>\n",
       "    <tr>\n",
       "      <th>6</th>\n",
       "      <td>355</td>\n",
       "      <td>3</td>\n",
       "      <td>0</td>\n",
       "      <td>680000</td>\n",
       "    </tr>\n",
       "    <tr>\n",
       "      <th>7</th>\n",
       "      <td>400</td>\n",
       "      <td>4</td>\n",
       "      <td>10</td>\n",
       "      <td>725000</td>\n",
       "    </tr>\n",
       "  </tbody>\n",
       "</table>\n",
       "</div>"
      ]
     },
     "execution_count": 47,
     "metadata": {},
     "output_type": "execute_result"
    }
   ],
   "execution_count": 47
  },
  {
   "cell_type": "code",
   "id": "c65de2c8",
   "metadata": {
    "ExecuteTime": {
     "end_time": "2025-02-28T15:22:03.437828Z",
     "start_time": "2025-02-28T15:22:03.426924Z"
    }
   },
   "source": [
    "df[['alan', 'odasayisi', 'binayasi']]"
   ],
   "outputs": [
    {
     "data": {
      "text/plain": [
       "   alan  odasayisi  binayasi\n",
       "0   180          5        10\n",
       "1   225          4        18\n",
       "2   260          3         2\n",
       "3   320          6        10\n",
       "4   335          4         9\n",
       "5   345          5        14\n",
       "6   355          3         0\n",
       "7   400          4        10"
      ],
      "text/html": [
       "<div>\n",
       "<style scoped>\n",
       "    .dataframe tbody tr th:only-of-type {\n",
       "        vertical-align: middle;\n",
       "    }\n",
       "\n",
       "    .dataframe tbody tr th {\n",
       "        vertical-align: top;\n",
       "    }\n",
       "\n",
       "    .dataframe thead th {\n",
       "        text-align: right;\n",
       "    }\n",
       "</style>\n",
       "<table border=\"1\" class=\"dataframe\">\n",
       "  <thead>\n",
       "    <tr style=\"text-align: right;\">\n",
       "      <th></th>\n",
       "      <th>alan</th>\n",
       "      <th>odasayisi</th>\n",
       "      <th>binayasi</th>\n",
       "    </tr>\n",
       "  </thead>\n",
       "  <tbody>\n",
       "    <tr>\n",
       "      <th>0</th>\n",
       "      <td>180</td>\n",
       "      <td>5</td>\n",
       "      <td>10</td>\n",
       "    </tr>\n",
       "    <tr>\n",
       "      <th>1</th>\n",
       "      <td>225</td>\n",
       "      <td>4</td>\n",
       "      <td>18</td>\n",
       "    </tr>\n",
       "    <tr>\n",
       "      <th>2</th>\n",
       "      <td>260</td>\n",
       "      <td>3</td>\n",
       "      <td>2</td>\n",
       "    </tr>\n",
       "    <tr>\n",
       "      <th>3</th>\n",
       "      <td>320</td>\n",
       "      <td>6</td>\n",
       "      <td>10</td>\n",
       "    </tr>\n",
       "    <tr>\n",
       "      <th>4</th>\n",
       "      <td>335</td>\n",
       "      <td>4</td>\n",
       "      <td>9</td>\n",
       "    </tr>\n",
       "    <tr>\n",
       "      <th>5</th>\n",
       "      <td>345</td>\n",
       "      <td>5</td>\n",
       "      <td>14</td>\n",
       "    </tr>\n",
       "    <tr>\n",
       "      <th>6</th>\n",
       "      <td>355</td>\n",
       "      <td>3</td>\n",
       "      <td>0</td>\n",
       "    </tr>\n",
       "    <tr>\n",
       "      <th>7</th>\n",
       "      <td>400</td>\n",
       "      <td>4</td>\n",
       "      <td>10</td>\n",
       "    </tr>\n",
       "  </tbody>\n",
       "</table>\n",
       "</div>"
      ]
     },
     "execution_count": 48,
     "metadata": {},
     "output_type": "execute_result"
    }
   ],
   "execution_count": 48
  },
  {
   "cell_type": "code",
   "id": "f9efa2f9",
   "metadata": {
    "ExecuteTime": {
     "end_time": "2025-02-28T15:22:03.761506Z",
     "start_time": "2025-02-28T15:22:03.753524Z"
    }
   },
   "source": [
    "df['fiyat']"
   ],
   "outputs": [
    {
     "data": {
      "text/plain": [
       "0    510000\n",
       "1    508000\n",
       "2    548000\n",
       "3    650000\n",
       "4    628000\n",
       "5    632000\n",
       "6    680000\n",
       "7    725000\n",
       "Name: fiyat, dtype: int64"
      ]
     },
     "execution_count": 49,
     "metadata": {},
     "output_type": "execute_result"
    }
   ],
   "execution_count": 49
  },
  {
   "cell_type": "code",
   "id": "38e4153f",
   "metadata": {
    "ExecuteTime": {
     "end_time": "2025-02-28T15:22:03.965319Z",
     "start_time": "2025-02-28T15:22:03.949544Z"
    }
   },
   "source": [
    "# linear regression modeli tanımlıyoruz:\n",
    "\n",
    "reg = linear_model.LinearRegression()\n",
    "reg.fit(df[['alan', 'odasayisi', 'binayasi']], df['fiyat'])\n",
    "\n",
    "# Prediction\n",
    "X_test=pd.DataFrame([[230,4,10]],columns=['alan', 'odasayisi', 'binayasi'])\n",
    "prediction = reg.predict(X_test)\n",
    "prediction"
   ],
   "outputs": [
    {
     "data": {
      "text/plain": [
       "array([530243.29284619])"
      ]
     },
     "execution_count": 50,
     "metadata": {},
     "output_type": "execute_result"
    }
   ],
   "execution_count": 50
  },
  {
   "cell_type": "code",
   "id": "71904ed1",
   "metadata": {
    "ExecuteTime": {
     "end_time": "2025-02-28T15:22:04.152693Z",
     "start_time": "2025-02-28T15:22:04.142859Z"
    }
   },
   "source": [
    "Y_test=pd.DataFrame([[200,5,0],[200,3,7],[130,5,2]],columns=['alan', 'odasayisi', 'binayasi'])\n",
    "prediction2 = reg.predict(Y_test)\n",
    "prediction2"
   ],
   "outputs": [
    {
     "data": {
      "text/plain": [
       "array([540633.99995967, 492599.56236017, 464090.72554219])"
      ]
     },
     "execution_count": 51,
     "metadata": {},
     "output_type": "execute_result"
    }
   ],
   "execution_count": 51
  },
  {
   "metadata": {
    "ExecuteTime": {
     "end_time": "2025-02-28T15:22:04.306722Z",
     "start_time": "2025-02-28T15:22:04.299859Z"
    }
   },
   "cell_type": "code",
   "source": "reg.coef_",
   "id": "1ae9c5dd",
   "outputs": [
    {
     "data": {
      "text/plain": [
       "array([ 1018.99865454, 14893.82374984, -2606.68429997])"
      ]
     },
     "execution_count": 52,
     "metadata": {},
     "output_type": "execute_result"
    }
   ],
   "execution_count": 52
  },
  {
   "cell_type": "code",
   "id": "081f56e1",
   "metadata": {
    "ExecuteTime": {
     "end_time": "2025-02-28T15:22:04.761934Z",
     "start_time": "2025-02-28T15:22:04.756209Z"
    }
   },
   "source": [
    "reg.intercept_"
   ],
   "outputs": [
    {
     "data": {
      "text/plain": [
       "262365.1503032055"
      ]
     },
     "execution_count": 53,
     "metadata": {},
     "output_type": "execute_result"
    }
   ],
   "execution_count": 53
  },
  {
   "cell_type": "code",
   "id": "d0759595",
   "metadata": {
    "ExecuteTime": {
     "end_time": "2025-02-28T15:22:05.322971Z",
     "start_time": "2025-02-28T15:22:05.315683Z"
    }
   },
   "source": [
    "# Multiple Linear regression formülümü:\n",
    "# y= a + b1X1 + b2X2 + b3X3 + ...\n",
    "\n",
    "a = reg.intercept_\n",
    "b1 = reg.coef_[0]\n",
    "b2 = reg.coef_[1]\n",
    "b3 = reg.coef_[2]\n",
    "\n",
    "x1 = 230\n",
    "x2 = 4\n",
    "x3 = 10\n",
    "y = a + b1*x1 + b2*x2 + b3*x3\n",
    "\n",
    "y"
   ],
   "outputs": [
    {
     "data": {
      "text/plain": [
       "530243.2928461881"
      ]
     },
     "execution_count": 54,
     "metadata": {},
     "output_type": "execute_result"
    }
   ],
   "execution_count": 54
  },
  {
   "cell_type": "code",
   "id": "2baef1c4",
   "metadata": {
    "ExecuteTime": {
     "end_time": "2025-02-28T15:22:05.631232Z",
     "start_time": "2025-02-28T15:22:05.627567Z"
    }
   },
   "source": [],
   "outputs": [],
   "execution_count": null
  },
  {
   "cell_type": "code",
   "execution_count": null,
   "id": "c9f7c16a",
   "metadata": {},
   "outputs": [],
   "source": []
  },
  {
   "cell_type": "code",
   "execution_count": null,
   "id": "fc1faff9",
   "metadata": {},
   "outputs": [],
   "source": []
  },
  {
   "cell_type": "code",
   "execution_count": null,
   "id": "b911bc9f",
   "metadata": {},
   "outputs": [],
   "source": []
  },
  {
   "cell_type": "code",
   "execution_count": null,
   "id": "6aecd53b",
   "metadata": {},
   "outputs": [],
   "source": []
  }
 ],
 "metadata": {
  "kernelspec": {
   "display_name": "Python 3",
   "language": "python",
   "name": "python3"
  },
  "language_info": {
   "codemirror_mode": {
    "name": "ipython",
    "version": 3
   },
   "file_extension": ".py",
   "mimetype": "text/x-python",
   "name": "python",
   "nbconvert_exporter": "python",
   "pygments_lexer": "ipython3",
   "version": "3.8.8"
  }
 },
 "nbformat": 4,
 "nbformat_minor": 5
}
