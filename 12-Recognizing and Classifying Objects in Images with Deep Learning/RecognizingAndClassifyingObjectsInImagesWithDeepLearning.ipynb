{
 "cells": [
  {
   "metadata": {},
   "cell_type": "markdown",
   "source": "#  (Convolutional Neural Networks - CNN)",
   "id": "2c0ab638685f9970"
  },
  {
   "metadata": {},
   "cell_type": "markdown",
   "source": [
    "CNN, görüntü işleme ve nesne tanıma görevlerinde son derece etkili olan bir derin öğrenme mimarisidir.\n",
    "\n",
    " ##Temel özellikleri şunlardır:\n",
    "\n",
    "### 1-Katman Yapısı:\n",
    "CNN'ler genellikle üç temel katman türünden oluşur:\n",
    "\n",
    "Evrişim (Convolutional) Katmanları: Görüntüdeki özellikleri çıkaran katmanlardır. Küçük filtreler (kernel'ler) kullanarak görüntünün farklı bölgelerindeki desenleri yakalarlar.\n",
    "\n",
    "Havuzlama (Pooling) Katmanları: Görüntü boyutunu küçültür ve hesaplama karmaşıklığını azaltırlar. Genellikle max pooling veya average pooling kullanılır.\n",
    "\n",
    "Tam Bağlantılı (Fully Connected) Katmanlar: Çıkarılan özellikleri sınıflandırma veya tanıma için kullanırlar."
   ],
   "id": "dc42c94bec3eb92b"
  },
  {
   "metadata": {},
   "cell_type": "markdown",
   "source": [
    "### 2-Çalışma Prensibi\n",
    "\n",
    "Evrişim katmanları, görüntü üzerinde süzgeçler (filtreler) gezdirerek farklı özellikleri tespit ederler.\n",
    "\n",
    "İlk katmanlar basit kenarları ve şekilleri, sonraki katmanlar daha karmaşık desenleri yakalarlar.\n",
    "\n",
    "Her katman bir önceki katmanın çıktısını girdi olarak alır ve daha yüksek seviye özellikleri çıkarır."
   ],
   "id": "eeeb161fdd206f4c"
  },
  {
   "metadata": {},
   "cell_type": "markdown",
   "source": [
    "### 3-Popüler Mimariler\n",
    "\n",
    "LeNet-5: İlk CNN modellerinden biri\n",
    "\n",
    "AlexNet: Görüntü tanımada devrim yaratan model\n",
    "\n",
    "VGGNet: Derinliği artıran mimari\n",
    "\n",
    "ResNet: Çok derin ağlar için artık bağlantılar (residual connections) kullanan model\n",
    "\n",
    "### 4-Uygulama Alanları\n",
    "\n",
    "Nesne tanıma\n",
    "\n",
    "Yüz tanıma\n",
    "\n",
    "Tıbbi görüntü analizi\n",
    "\n",
    "Otonom araçlarda görsel algılama\n",
    "\n",
    "Robotik\n",
    "\n",
    "\n",
    "### 5-Avantajları\n",
    "\n",
    "Görüntü özelliklerini otomatik olarak çıkarabilme\n",
    "\n",
    "Düşük seviye görsel özellikleri yakalayabilme\n",
    "\n",
    "Transfer öğrenme desteği\n",
    "\n",
    "Yüksek doğruluk oranları"
   ],
   "id": "35c4545cb1b3427e"
  },
  {
   "metadata": {},
   "cell_type": "markdown",
   "source": [
    "Nesne tanıma için CNN kullanırken dikkat etmeniz gereken bazı önemli noktalar:\n",
    "\n",
    "Yeterli ve kaliteli eğitim verisi\n",
    "\n",
    "Uygun veri ön işleme\n",
    "\n",
    "Transfer öğrenme (pre-trained modeller kullanma)\n",
    "\n",
    "Aşırı uyum (overfitting) probleminden kaçınma"
   ],
   "id": "60a48601d451e2e0"
  },
  {
   "metadata": {
    "ExecuteTime": {
     "end_time": "2025-03-15T21:33:00.616861Z",
     "start_time": "2025-03-15T21:33:00.604874Z"
    }
   },
   "cell_type": "code",
   "source": [
    "import tensorflow as tf\n",
    "from tensorflow.keras import datasets,layers,models\n",
    "import numpy as np\n",
    "import pandas as pd\n",
    "import matplotlib.pyplot as plt\n",
    "import warnings\n",
    "warnings.filterwarnings('ignore')"
   ],
   "id": "41c6c66075ead09d",
   "outputs": [],
   "execution_count": 57
  },
  {
   "metadata": {
    "ExecuteTime": {
     "end_time": "2025-03-15T21:33:03.552923Z",
     "start_time": "2025-03-15T21:33:01.017134Z"
    }
   },
   "cell_type": "code",
   "source": "(x_train, y_train), (x_test, y_test) = datasets.cifar10.load_data()",
   "id": "3afa29bfda48c13a",
   "outputs": [],
   "execution_count": 58
  },
  {
   "metadata": {
    "ExecuteTime": {
     "end_time": "2025-03-15T21:33:03.574036Z",
     "start_time": "2025-03-15T21:33:03.566700Z"
    }
   },
   "cell_type": "code",
   "source": "x_train.shape",
   "id": "d56549ced9c69e8b",
   "outputs": [
    {
     "data": {
      "text/plain": [
       "(50000, 32, 32, 3)"
      ]
     },
     "execution_count": 59,
     "metadata": {},
     "output_type": "execute_result"
    }
   ],
   "execution_count": 59
  },
  {
   "metadata": {},
   "cell_type": "markdown",
   "source": "50.000 train data var 32x32 pixel kare boyutunda ve renkli 3 kanal RGB fotoğraflar mevcut",
   "id": "9cfadbc6be70beb0"
  },
  {
   "metadata": {
    "ExecuteTime": {
     "end_time": "2025-03-15T21:33:03.603230Z",
     "start_time": "2025-03-15T21:33:03.597086Z"
    }
   },
   "cell_type": "code",
   "source": "x_test.shape",
   "id": "520d563e23736366",
   "outputs": [
    {
     "data": {
      "text/plain": [
       "(10000, 32, 32, 3)"
      ]
     },
     "execution_count": 60,
     "metadata": {},
     "output_type": "execute_result"
    }
   ],
   "execution_count": 60
  },
  {
   "metadata": {
    "ExecuteTime": {
     "end_time": "2025-03-15T21:33:03.634849Z",
     "start_time": "2025-03-15T21:33:03.626984Z"
    }
   },
   "cell_type": "code",
   "source": "y_train[:4]",
   "id": "a367bbaa5df8f3c8",
   "outputs": [
    {
     "data": {
      "text/plain": [
       "array([[6],\n",
       "       [9],\n",
       "       [9],\n",
       "       [4]], dtype=uint8)"
      ]
     },
     "execution_count": 61,
     "metadata": {},
     "output_type": "execute_result"
    }
   ],
   "execution_count": 61
  },
  {
   "metadata": {},
   "cell_type": "markdown",
   "source": "y_train ve y_test 2 boyutlu bir array olarak tutuluyor cifar10 setinde. Biz bu verileri görsel olarak daha rahat anlamak için tek boyutlu hale getiriyoruz. 2 boyutlu bir arrayi tekboyutlu hale getirmeliyiz.",
   "id": "2f5f69311b0d80fe"
  },
  {
   "metadata": {
    "ExecuteTime": {
     "end_time": "2025-03-15T21:33:03.742223Z",
     "start_time": "2025-03-15T21:33:03.734743Z"
    }
   },
   "cell_type": "code",
   "source": [
    "y_test=y_test.reshape(-1,)\n",
    "y_test"
   ],
   "id": "6dab52ef3803b6bb",
   "outputs": [
    {
     "data": {
      "text/plain": [
       "array([3, 8, 8, ..., 5, 1, 7], dtype=uint8)"
      ]
     },
     "execution_count": 62,
     "metadata": {},
     "output_type": "execute_result"
    }
   ],
   "execution_count": 62
  },
  {
   "metadata": {
    "ExecuteTime": {
     "end_time": "2025-03-15T21:33:03.839015Z",
     "start_time": "2025-03-15T21:33:03.832201Z"
    }
   },
   "cell_type": "code",
   "source": "resim_sutunlari = [\"airplane\",\"automobile\",\"bird\",\"cat\",\"deer\",\"dog\",\"frog\",\"horse\",\"ship\",\"truck\"]",
   "id": "be292ec5eed89dcd",
   "outputs": [],
   "execution_count": 63
  },
  {
   "metadata": {
    "ExecuteTime": {
     "end_time": "2025-03-15T21:33:03.896076Z",
     "start_time": "2025-03-15T21:33:03.890888Z"
    }
   },
   "cell_type": "code",
   "source": [
    "def plot_sample(X, y, index):\n",
    "    plt.figure(figsize = (15,2))\n",
    "    plt.imshow(X[index])\n",
    "    plt.xlabel(resim_sutunlari[y[index]])\n",
    "    plt.show()\n"
   ],
   "id": "992935578ec52fd2",
   "outputs": [],
   "execution_count": 64
  },
  {
   "metadata": {
    "ExecuteTime": {
     "end_time": "2025-03-15T22:02:36.169585Z",
     "start_time": "2025-03-15T22:02:36.091984Z"
    }
   },
   "cell_type": "code",
   "source": "plot_sample(x_test,y_test,0)",
   "id": "cf93d1764d27192",
   "outputs": [
    {
     "data": {
      "text/plain": [
       "<Figure size 1500x200 with 1 Axes>"
      ],
      "image/png": "[encoded data removed]"
     },
     "metadata": {},
     "output_type": "display_data"
    }
   ],
   "execution_count": 100
  },
  {
   "metadata": {},
   "cell_type": "markdown",
   "source": [
    "Normalization\n",
    "\n",
    "Verilerimizi normalize etmemiz gerekiyor. Aksi takdirde CNN algoritmaları yanlış sonuç verebiliyor, Fotoğraflar RGB olarak 3 kanal ve her bir pixel 0-255\n",
    "arasında değer aldığı için normalization için basitçe her bir pixel değerini 255'e bölmemiz yeterli.."
   ],
   "id": "a8ac4db05324f23b"
  },
  {
   "metadata": {
    "ExecuteTime": {
     "end_time": "2025-03-15T21:33:04.086441300Z",
     "start_time": "2025-03-15T21:31:34.199077Z"
    }
   },
   "cell_type": "code",
   "source": [
    "x_train=x_train/255\n",
    "x_test=x_test/255"
   ],
   "id": "c5ccaaa8fe1c3147",
   "outputs": [],
   "execution_count": 53
  },
  {
   "metadata": {
    "ExecuteTime": {
     "end_time": "2025-03-15T21:55:34.825825Z",
     "start_time": "2025-03-15T21:55:34.785242Z"
    }
   },
   "cell_type": "code",
   "source": [
    "deep_learning_model=models.Sequential([\n",
    "    layers.Conv2D(filters=32,kernel_size=(3,3),activation='relu',input_shape=(32,32,3)),\n",
    "    layers.MaxPooling2D(pool_size=(2,2)),\n",
    "\n",
    "    layers.Conv2D(filters=64,kernel_size=(3,3),activation='relu'),\n",
    "    layers.MaxPooling2D(pool_size=(2,2)),\n",
    "\n",
    "    layers.Flatten(),\n",
    "    layers.Dense(64,activation='relu'),\n",
    "    layers.Dense(10,activation='softmax'),\n",
    "])"
   ],
   "id": "2079bfc82f782d19",
   "outputs": [],
   "execution_count": 86
  },
  {
   "metadata": {},
   "cell_type": "markdown",
   "source": [
    "### 1-layers.Conv2D(filters=32, kernel_size=(3,3), activation='relu', input_shape=(32,32,3)):\n",
    "\n",
    "İlk konvolüsyonel (evrişimsel) katman\n",
    "\n",
    "32 adet 3x3 boyutunda filtre kullanır\n",
    "\n",
    "ReLU aktivasyon fonksiyonu kullanır\n",
    "\n",
    "Giriş görüntüsü 32x32 piksel, 3 renk kanalı (RGB)\n",
    "\n",
    "Görüntüdeki özellikleri çıkarmaya başlayan ilk katman\n",
    "\n",
    "### 2-layers.MaxPooling2D(pool_size=(2,2)):\n",
    "\n",
    "2x2 boyutunda havuzlama (pooling) katmanı\n",
    "\n",
    "Görüntü boyutunu küçültür\n",
    "\n",
    "En büyük değeri seçerek boyutu azaltır\n",
    "\n",
    "Hesaplama maliyetini düşürür ve aşırı uyumu önler\n",
    "\n",
    "### 3-layers.Conv2D(filters=64, kernel_size=(3,3), activation='relu'):\n",
    "\n",
    "İkinci konvolüsyonel katman\n",
    "\n",
    "64 adet 3x3 filtre\n",
    "\n",
    "Daha karmaşık özellikleri yakalamak için önceki katmandan daha fazla filtre\n",
    "\n",
    "### 4-layers.MaxPooling2D(pool_size=(2,2)):\n",
    "\n",
    "İkinci havuzlama katmanı\n",
    "\n",
    "Yine görüntü boyutunu küçültür\n",
    "\n",
    "### 5-layers.Flatten():\n",
    "\n",
    "Çok boyutlu girdiyi düz (1 boyutlu) bir diziye dönüştürür\n",
    "\n",
    "Konvolüsyonel katmanlardan gelen çıktıyı tam bağlantılı (dense) katmanlara hazırlar\n",
    "\n",
    "### 6-layers.Dense(64, activation='relu'):\n",
    "\n",
    "64 nöronlu tam bağlantılı katman\n",
    "\n",
    "ReLU aktivasyon fonksiyonu\n",
    "\n",
    "Öğrenilen özellikleri birleştirir\n",
    "\n",
    "### 7-layers.Dense(10, activation='softmax'):\n",
    "\n",
    "Son çıkış katmanı\n",
    "\n",
    "10 nöron\n",
    "\n",
    "Softmax aktivasyonu, çıkış olasılıklarını verir\n",
    "\n",
    "Her sınıf için olasılık hesaplar"
   ],
   "id": "e48ddaead26729bf"
  },
  {
   "metadata": {
    "ExecuteTime": {
     "end_time": "2025-03-15T21:55:35.691502Z",
     "start_time": "2025-03-15T21:55:35.682709Z"
    }
   },
   "cell_type": "code",
   "source": [
    "deep_learning_model.compile(\n",
    "    optimizer=\"adam\",\n",
    "    loss=\"sparse_categorical_crossentropy\",\n",
    "    metrics=[\"accuracy\"])"
   ],
   "id": "a5652db6293600d",
   "outputs": [],
   "execution_count": 87
  },
  {
   "metadata": {},
   "cell_type": "markdown",
   "source": [
    "### 1-optimizer=\"adam\":\n",
    "\n",
    "Adam (Adaptive Moment Estimation) optimizasyon algoritması\n",
    "\n",
    "Ağırlıkların güncellenmesi için etkin bir yöntem\n",
    "\n",
    "Öğrenme hızını dinamik olarak ayarlar\n",
    "\n",
    "Farklı parametreler için uyarlanabilir adım boyutu sağlar\n",
    "\n",
    "### 2-loss=\"sparse_categorical_crossentropy\":\n",
    "\n",
    "Çoklu sınıf sınıflandırma problemleri için kayıp fonksiyonu\n",
    "\n",
    "\"Sparse\" etiketi tam sayı olarak kullanır (one-hot encoding gerekmez)\n",
    "\n",
    "Her sınıf için olasılık dağılımını hesaplar\n",
    "\n",
    "Modelin tahminleri ile gerçek etiketler arasındaki farkı ölçer\n",
    "\n",
    "### 3-metrics=[\"accuracy\"]:\n",
    "\n",
    "Modelin performansını ölçmek için doğruluk metriği\n",
    "\n",
    "Doğru sınıflandırılan örnek yüzdesini hesaplar\n",
    "\n",
    "Eğitim sırasında izlenecek ek bir performans göstergesi"
   ],
   "id": "431a03d54b049634"
  },
  {
   "metadata": {
    "ExecuteTime": {
     "end_time": "2025-03-15T21:56:32.445554Z",
     "start_time": "2025-03-15T21:55:37.059137Z"
    }
   },
   "cell_type": "code",
   "source": "deep_learning_model.fit(x_train,y_train,epochs=5)",
   "id": "98992775d28e30ba",
   "outputs": [
    {
     "name": "stdout",
     "output_type": "stream",
     "text": [
      "Epoch 1/5\n",
      "\u001B[1m1563/1563\u001B[0m \u001B[32m━━━━━━━━━━━━━━━━━━━━\u001B[0m\u001B[37m\u001B[0m \u001B[1m12s\u001B[0m 7ms/step - accuracy: 0.3074 - loss: 3.4575\n",
      "Epoch 2/5\n",
      "\u001B[1m1563/1563\u001B[0m \u001B[32m━━━━━━━━━━━━━━━━━━━━\u001B[0m\u001B[37m\u001B[0m \u001B[1m10s\u001B[0m 7ms/step - accuracy: 0.5166 - loss: 1.3563\n",
      "Epoch 3/5\n",
      "\u001B[1m1563/1563\u001B[0m \u001B[32m━━━━━━━━━━━━━━━━━━━━\u001B[0m\u001B[37m\u001B[0m \u001B[1m11s\u001B[0m 7ms/step - accuracy: 0.5898 - loss: 1.1769\n",
      "Epoch 4/5\n",
      "\u001B[1m1563/1563\u001B[0m \u001B[32m━━━━━━━━━━━━━━━━━━━━\u001B[0m\u001B[37m\u001B[0m \u001B[1m11s\u001B[0m 7ms/step - accuracy: 0.6388 - loss: 1.0454\n",
      "Epoch 5/5\n",
      "\u001B[1m1563/1563\u001B[0m \u001B[32m━━━━━━━━━━━━━━━━━━━━\u001B[0m\u001B[37m\u001B[0m \u001B[1m11s\u001B[0m 7ms/step - accuracy: 0.6751 - loss: 0.9544\n"
     ]
    },
    {
     "data": {
      "text/plain": [
       "<keras.src.callbacks.history.History at 0x1a2873ddaf0>"
      ]
     },
     "execution_count": 88,
     "metadata": {},
     "output_type": "execute_result"
    }
   ],
   "execution_count": 88
  },
  {
   "metadata": {
    "ExecuteTime": {
     "end_time": "2025-03-15T21:56:53.758809Z",
     "start_time": "2025-03-15T21:56:52.497308Z"
    }
   },
   "cell_type": "code",
   "source": "deep_learning_model.evaluate(x_test,y_test)",
   "id": "f8386ff7783a7557",
   "outputs": [
    {
     "name": "stdout",
     "output_type": "stream",
     "text": [
      "\u001B[1m313/313\u001B[0m \u001B[32m━━━━━━━━━━━━━━━━━━━━\u001B[0m\u001B[37m\u001B[0m \u001B[1m1s\u001B[0m 3ms/step - accuracy: 0.6171 - loss: 1.1650\n"
     ]
    },
    {
     "data": {
      "text/plain": [
       "[1.173210620880127, 0.6169999837875366]"
      ]
     },
     "execution_count": 89,
     "metadata": {},
     "output_type": "execute_result"
    }
   ],
   "execution_count": 89
  },
  {
   "metadata": {
    "ExecuteTime": {
     "end_time": "2025-03-15T21:56:58.958597Z",
     "start_time": "2025-03-15T21:56:57.719055Z"
    }
   },
   "cell_type": "code",
   "source": [
    "y_pred=deep_learning_model.predict(x_test)\n",
    "y_pred"
   ],
   "id": "bf01f6f7461d674a",
   "outputs": [
    {
     "name": "stdout",
     "output_type": "stream",
     "text": [
      "\u001B[1m313/313\u001B[0m \u001B[32m━━━━━━━━━━━━━━━━━━━━\u001B[0m\u001B[37m\u001B[0m \u001B[1m1s\u001B[0m 3ms/step\n"
     ]
    },
    {
     "data": {
      "text/plain": [
       "array([[1.1730501e-04, 1.1478867e-04, 4.2865379e-03, ..., 1.6842869e-03,\n",
       "        9.8093832e-03, 2.6036339e-04],\n",
       "       [1.1226863e-01, 3.4109408e-01, 1.7954023e-03, ..., 6.7554014e-05,\n",
       "        5.2295178e-01, 1.9637214e-02],\n",
       "       [1.8938731e-01, 1.7303126e-01, 1.1631382e-01, ..., 5.4614540e-02,\n",
       "        1.0348567e-01, 1.1104909e-01],\n",
       "       ...,\n",
       "       [1.1091068e-06, 1.9222614e-07, 2.2889441e-03, ..., 3.3504749e-04,\n",
       "        2.4001335e-07, 2.7673957e-06],\n",
       "       [8.4619066e-03, 1.1472298e-02, 2.3746412e-02, ..., 1.5145361e-02,\n",
       "        1.8545551e-03, 8.6383434e-04],\n",
       "       [9.3357867e-06, 3.2707075e-07, 1.4521050e-06, ..., 9.7659278e-01,\n",
       "        2.6347564e-06, 1.3385814e-08]], dtype=float32)"
      ]
     },
     "execution_count": 90,
     "metadata": {},
     "output_type": "execute_result"
    }
   ],
   "execution_count": 90
  },
  {
   "metadata": {
    "ExecuteTime": {
     "end_time": "2025-03-15T21:57:14.037792Z",
     "start_time": "2025-03-15T21:57:14.009138Z"
    }
   },
   "cell_type": "code",
   "source": [
    "y_predictions_sutunlari=[np.argmax(element) for element in y_pred]\n",
    "y_predictions_sutunlari[:3]"
   ],
   "id": "90bb65b8e96bd66b",
   "outputs": [
    {
     "data": {
      "text/plain": [
       "[3, 8, 0]"
      ]
     },
     "execution_count": 93,
     "metadata": {},
     "output_type": "execute_result"
    }
   ],
   "execution_count": 93
  },
  {
   "metadata": {
    "ExecuteTime": {
     "end_time": "2025-03-15T21:57:27.227720Z",
     "start_time": "2025-03-15T21:57:27.220436Z"
    }
   },
   "cell_type": "code",
   "source": "y_test[:3]",
   "id": "5f71a3cb98907bb6",
   "outputs": [
    {
     "data": {
      "text/plain": [
       "array([3, 8, 8], dtype=uint8)"
      ]
     },
     "execution_count": 94,
     "metadata": {},
     "output_type": "execute_result"
    }
   ],
   "execution_count": 94
  },
  {
   "metadata": {
    "ExecuteTime": {
     "end_time": "2025-03-15T21:58:02.610083Z",
     "start_time": "2025-03-15T21:58:02.533773Z"
    }
   },
   "cell_type": "code",
   "source": "plot_sample(x_test,y_test,0)",
   "id": "8969d735e33a6d35",
   "outputs": [
    {
     "data": {
      "text/plain": [
       "<Figure size 1500x200 with 1 Axes>"
      ],
      "image/png": "[encoded data removed]"
     },
     "metadata": {},
     "output_type": "display_data"
    }
   ],
   "execution_count": 96
  },
  {
   "metadata": {
    "ExecuteTime": {
     "end_time": "2025-03-15T21:58:19.621909Z",
     "start_time": "2025-03-15T21:58:19.615167Z"
    }
   },
   "cell_type": "code",
   "source": "resim_sutunlari[y_predictions_sutunlari[0]]",
   "id": "37b01cff12f90a81",
   "outputs": [
    {
     "data": {
      "text/plain": [
       "'cat'"
      ]
     },
     "execution_count": 97,
     "metadata": {},
     "output_type": "execute_result"
    }
   ],
   "execution_count": 97
  },
  {
   "metadata": {
    "ExecuteTime": {
     "end_time": "2025-03-15T21:58:29.170294Z",
     "start_time": "2025-03-15T21:58:29.096903Z"
    }
   },
   "cell_type": "code",
   "source": "plot_sample(x_test,y_test,1)",
   "id": "5dd2005de1b39c89",
   "outputs": [
    {
     "data": {
      "text/plain": [
       "<Figure size 1500x200 with 1 Axes>"
      ],
      "image/png": "[encoded data removed]"
     },
     "metadata": {},
     "output_type": "display_data"
    }
   ],
   "execution_count": 98
  },
  {
   "metadata": {
    "ExecuteTime": {
     "end_time": "2025-03-15T21:58:35.533841Z",
     "start_time": "2025-03-15T21:58:35.527009Z"
    }
   },
   "cell_type": "code",
   "source": "resim_sutunlari[y_predictions_sutunlari[1]]",
   "id": "947a26f18de725ad",
   "outputs": [
    {
     "data": {
      "text/plain": [
       "'ship'"
      ]
     },
     "execution_count": 99,
     "metadata": {},
     "output_type": "execute_result"
    }
   ],
   "execution_count": 99
  },
  {
   "metadata": {},
   "cell_type": "code",
   "outputs": [],
   "execution_count": null,
   "source": "",
   "id": "e82f7c96c1c55693"
  }
 ],
 "metadata": {
  "kernelspec": {
   "display_name": "Python 3",
   "language": "python",
   "name": "python3"
  },
  "language_info": {
   "codemirror_mode": {
    "name": "ipython",
    "version": 2
   },
   "file_extension": ".py",
   "mimetype": "text/x-python",
   "name": "python",
   "nbconvert_exporter": "python",
   "pygments_lexer": "ipython2",
   "version": "2.7.6"
  }
 },
 "nbformat": 4,
 "nbformat_minor": 5
}
