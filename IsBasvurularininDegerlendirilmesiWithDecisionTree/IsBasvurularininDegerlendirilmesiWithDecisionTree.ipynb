{
 "cells": [
  {
   "metadata": {},
   "cell_type": "markdown",
   "source": "# Decision Tree Classification\n",
   "id": "66da3ad0da335632"
  },
  {
   "metadata": {},
   "cell_type": "markdown",
   "source": "Decision Tree Classification (Karar Ağacı Sınıflandırması), veriyi dallara ayırarak sınıflandıran ve ağaç yapısı ile karar mekanizmasını oluşturan bir makine öğrenimi algoritmasıdır. Ağaç yapısı düğümler (nodes) ve dallar (branches) şeklinde temsil edilir:\n",
   "id": "f4a179f4ba770d64"
  },
  {
   "metadata": {},
   "cell_type": "markdown",
   "source": [
    "Kök düğüm (Root Node): Tüm veri kümesini temsil eden başlangıç noktasıdır.\n",
    "\n",
    "Dahili düğümler (Internal Nodes): Verinin belirli özelliklere göre bölündüğü düğümlerdir.\n",
    "\n",
    "Yaprak düğümler (Leaf Nodes): Son kararların verildiği düğümlerdir. Burada sınıflar belirlenir.\n"
   ],
   "id": "69ae3b5b2029752e"
  },
  {
   "metadata": {},
   "cell_type": "markdown",
   "source": [
    "## Decision Tree Nasıl Çalışır?\n",
    "Karar ağacı algoritması, genellikle ID3, C4.5, CART gibi yöntemlerle veriyi analiz eder. Çalışma mantığı şu şekildedir:\n",
    "\n",
    "En iyi ayrımı yapan özellik seçilir:\n",
    "\n",
    "Veri setindeki tüm özellikler için entropi ve bilgi kazancı (Information Gain) hesaplanır.\n",
    "\n",
    "En iyi ayrımı yapan (en fazla bilgi kazancı sağlayan) özellik seçilir.\n",
    "\n",
    "\n",
    "\n",
    "Veri ikiye bölünür:\n",
    "\n",
    "Seçilen özelliğe göre veri bölünerek iki yeni düğüm oluşturulur.\n",
    "Bu adımlar yaprak düğüme ulaşana kadar tekrarlanır\n",
    "\n",
    "Düğümler arasında bölünme devam eder.\n",
    "\n",
    "Sonuç olarak, sınıflandırma kuralları içeren bir ağaç oluşturulur."
   ],
   "id": "6e636e01df44e58d"
  },
  {
   "metadata": {},
   "cell_type": "markdown",
   "source": [
    "## Decision Tree Kullanım Alanları\n",
    "\n",
    "Karar ağaçları, kolay yorumlanabilir olması, hızlı çalışması ve görselleştirme kolaylığı nedeniyle birçok alanda yaygın olarak kullanılır:\n",
    "\n",
    "1. Finans ve Bankacılık:\n",
    "\n",
    "Müşteri Kredibilitesi Analizi: Bir müşterinin kredi alıp alamayacağını belirlemek için kullanılır.\n",
    "\n",
    "Dolandırıcılık Tespiti: Bankacılık işlemlerindeki anormallikleri belirlemek için kullanılır.\n",
    "\n",
    "2. Sağlık ve Tıp\n",
    "\n",
    "Hastalık Teşhisi: Belirtilere göre hastalık sınıflandırması yapar.\n",
    "\n",
    "Tedavi Önerileri: Hastanın geçmiş sağlık verilerine dayanarak en iyi tedaviyi önerir.\n",
    "\n",
    "3. Pazarlama ve Satış\n",
    "\n",
    "Müşteri Segmentasyonu: Müşterileri belirli gruplara ayırarak hedefli pazarlama yapar.\n",
    "\n",
    "Satış Tahmini: Ürün satışlarını tahmin etmek için geçmiş verileri analiz eder.\n",
    "\n",
    "4. Üretim ve Kalite Kontrol\n",
    "\n",
    "Ürün Hata Analizi: Üretimde oluşan hataların nedenlerini belirlemek için kullanılır.\n",
    "\n",
    "Bakım Planlaması: Makine arızalarını önceden tahmin ederek bakım süreçlerini optimize eder.\n",
    "\n",
    "5. E-Ticaret ve Öneri Sistemleri\n",
    "\n",
    "Kullanıcı Davranışı Analizi: Kullanıcının geçmiş alışverişlerine göre ürün önerileri sunar.\n",
    "\n",
    "Spam Filtreleme: E-postaları spam veya normal olarak sınıflandırmak için kullanılır.\n",
    "\n",
    "6. Hukuk ve Adli Bilişim\n",
    "\n",
    "Dolandırıcılık ve Sahtekarlık Tespiti: Sahte işlemleri tespit etmek için analizler yapar.\n",
    "\n",
    "Mahkeme Karar Tahminleri: Geçmiş davalar baz alınarak mahkeme kararlarını tahmin edebilir"
   ],
   "id": "677acdc098cbade5"
  },
  {
   "metadata": {},
   "cell_type": "markdown",
   "source": [
    "### Avantajları:\n",
    "\n",
    "✅ Kolay yorumlanabilir: Ağaç yapısı, insan tarafından kolayca anlaşılabilir.\n",
    "\n",
    "✅ Özellik seçimi gerektirmez: Model, önemli özellikleri kendisi belirler.\n",
    "\n",
    "✅ Hızlı ve düşük hesaplama maliyetine sahiptir: Büyük veri setlerinde bile hızlı çalışır.\n",
    "\n",
    "✅ Eksik veriye karşı dayanıklıdır: Eksik verilerle çalışabilir ve alternatif yollar üretir.\n",
    "\n",
    "### Dezavantajları:\n",
    "\n",
    "❌ Aşırı öğrenme (Overfitting) riski vardır: Model, çok fazla detaya odaklanarak genelleme yapamayabilir.\n",
    "\n",
    "❌ Dengesiz veri setlerinde yanlılık gösterebilir: Eğer sınıflar dengesizse, model çoğunluk sınıfa yönelme eğiliminde olabilir.\n",
    "\n",
    "❌ Veri gürültüsüne duyarlıdır: Gürültülü (hatalı) veriler, karar ağacının yanlış dallara ayrılmasına neden olabilir.\n"
   ],
   "id": "77326ffdc069cc25"
  },
  {
   "metadata": {},
   "cell_type": "markdown",
   "source": "Decision Tree Classification, birçok alanda kullanılan etkili bir makine öğrenmesi algoritmasıdır. Kolay yorumlanabilir olması sayesinde özellikle iş dünyasında sıkça tercih edilir. Ancak, aşırı öğrenme gibi bazı dezavantajları nedeniyle Random Forest gibi daha gelişmiş tekniklerle birleştirilerek daha güçlü modeller elde edilebilir.",
   "id": "3f2e5583ddafeea9"
  },
  {
   "metadata": {
    "ExecuteTime": {
     "end_time": "2025-03-03T20:41:10.555631Z",
     "start_time": "2025-03-03T20:41:07.394039Z"
    }
   },
   "cell_type": "code",
   "source": [
    "import numpy as np\n",
    "import pandas as pd\n",
    "from sklearn import tree\n",
    "\n",
    "df=pd.read_csv('DecisionTreesClassificationDataSet.csv')"
   ],
   "id": "d71052c2ac089911",
   "outputs": [],
   "execution_count": 2
  },
  {
   "metadata": {
    "ExecuteTime": {
     "end_time": "2025-03-03T20:41:12.123743Z",
     "start_time": "2025-03-03T20:41:12.101229Z"
    }
   },
   "cell_type": "code",
   "source": "df.head()",
   "id": "9fc73b2e0acd1c1b",
   "outputs": [
    {
     "data": {
      "text/plain": [
       "   Deneyim Yili SuanCalisiyor?  Eski Calistigi Firmalar Egitim Seviyesi  \\\n",
       "0            11              Y                        4              BS   \n",
       "1             0              N                        0             PhD   \n",
       "2             5              Y                        2              MS   \n",
       "3             3              N                        1              BS   \n",
       "4             0              N                        0              BS   \n",
       "\n",
       "  Top10 Universite? StajBizdeYaptimi? IseAlindi  \n",
       "0                 N                 N         Y  \n",
       "1                 Y                 Y         Y  \n",
       "2                 N                 Y         Y  \n",
       "3                 N                 Y         Y  \n",
       "4                 N                 N         N  "
      ],
      "text/html": [
       "<div>\n",
       "<style scoped>\n",
       "    .dataframe tbody tr th:only-of-type {\n",
       "        vertical-align: middle;\n",
       "    }\n",
       "\n",
       "    .dataframe tbody tr th {\n",
       "        vertical-align: top;\n",
       "    }\n",
       "\n",
       "    .dataframe thead th {\n",
       "        text-align: right;\n",
       "    }\n",
       "</style>\n",
       "<table border=\"1\" class=\"dataframe\">\n",
       "  <thead>\n",
       "    <tr style=\"text-align: right;\">\n",
       "      <th></th>\n",
       "      <th>Deneyim Yili</th>\n",
       "      <th>SuanCalisiyor?</th>\n",
       "      <th>Eski Calistigi Firmalar</th>\n",
       "      <th>Egitim Seviyesi</th>\n",
       "      <th>Top10 Universite?</th>\n",
       "      <th>StajBizdeYaptimi?</th>\n",
       "      <th>IseAlindi</th>\n",
       "    </tr>\n",
       "  </thead>\n",
       "  <tbody>\n",
       "    <tr>\n",
       "      <th>0</th>\n",
       "      <td>11</td>\n",
       "      <td>Y</td>\n",
       "      <td>4</td>\n",
       "      <td>BS</td>\n",
       "      <td>N</td>\n",
       "      <td>N</td>\n",
       "      <td>Y</td>\n",
       "    </tr>\n",
       "    <tr>\n",
       "      <th>1</th>\n",
       "      <td>0</td>\n",
       "      <td>N</td>\n",
       "      <td>0</td>\n",
       "      <td>PhD</td>\n",
       "      <td>Y</td>\n",
       "      <td>Y</td>\n",
       "      <td>Y</td>\n",
       "    </tr>\n",
       "    <tr>\n",
       "      <th>2</th>\n",
       "      <td>5</td>\n",
       "      <td>Y</td>\n",
       "      <td>2</td>\n",
       "      <td>MS</td>\n",
       "      <td>N</td>\n",
       "      <td>Y</td>\n",
       "      <td>Y</td>\n",
       "    </tr>\n",
       "    <tr>\n",
       "      <th>3</th>\n",
       "      <td>3</td>\n",
       "      <td>N</td>\n",
       "      <td>1</td>\n",
       "      <td>BS</td>\n",
       "      <td>N</td>\n",
       "      <td>Y</td>\n",
       "      <td>Y</td>\n",
       "    </tr>\n",
       "    <tr>\n",
       "      <th>4</th>\n",
       "      <td>0</td>\n",
       "      <td>N</td>\n",
       "      <td>0</td>\n",
       "      <td>BS</td>\n",
       "      <td>N</td>\n",
       "      <td>N</td>\n",
       "      <td>N</td>\n",
       "    </tr>\n",
       "  </tbody>\n",
       "</table>\n",
       "</div>"
      ]
     },
     "execution_count": 3,
     "metadata": {},
     "output_type": "execute_result"
    }
   ],
   "execution_count": 3
  },
  {
   "metadata": {},
   "cell_type": "markdown",
   "source": [
    "scikit-learn kütüphanesi decision tree'lerin düzgün çalışması için herşeyin rakamlsal olmasını bekliyor bu nedenle veri setimizdeki tüm Y ve N değerlerini 0 ve 1 olarak düzeltiyoruz. Aynı sebeple eğitim seviyesini de BS:O MS:I ve PhD:2 olarak güncelliyoruz. map() kullanarak boş hücreler veya geçersiz değer girilen\n",
    "hücreler NaN ile dolacak"
   ],
   "id": "1b94c2e91bec544e"
  },
  {
   "metadata": {
    "ExecuteTime": {
     "end_time": "2025-03-03T20:41:13.522885Z",
     "start_time": "2025-03-03T20:41:13.498510Z"
    }
   },
   "cell_type": "code",
   "source": [
    "duzeltme_mapping={\"Y\":1,\"N\":0}\n",
    "df[\"IseAlindi\"]=df[\"IseAlindi\"].map(duzeltme_mapping)\n",
    "df[\"SuanCalisiyor?\"]=df[\"SuanCalisiyor?\"].map(duzeltme_mapping)\n",
    "df[\"Top10 Universite?\"]=df[\"Top10 Universite?\"].map(duzeltme_mapping)\n",
    "df[\"StajBizdeYaptimi?\"]=df[\"StajBizdeYaptimi?\"].map(duzeltme_mapping)\n",
    "duzeltme_mapping_egitim={\"BS\":0,\"MS\":1,\"PhD\":2}\n",
    "df['Egitim Seviyesi']=df[\"Egitim Seviyesi\"].map(duzeltme_mapping_egitim)\n",
    "df.head()"
   ],
   "id": "8d0b1c908aeb7ed",
   "outputs": [
    {
     "data": {
      "text/plain": [
       "   Deneyim Yili  SuanCalisiyor?  Eski Calistigi Firmalar  Egitim Seviyesi  \\\n",
       "0            11               1                        4                0   \n",
       "1             0               0                        0                2   \n",
       "2             5               1                        2                1   \n",
       "3             3               0                        1                0   \n",
       "4             0               0                        0                0   \n",
       "\n",
       "   Top10 Universite?  StajBizdeYaptimi?  IseAlindi  \n",
       "0                  0                  0          1  \n",
       "1                  1                  1          1  \n",
       "2                  0                  1          1  \n",
       "3                  0                  1          1  \n",
       "4                  0                  0          0  "
      ],
      "text/html": [
       "<div>\n",
       "<style scoped>\n",
       "    .dataframe tbody tr th:only-of-type {\n",
       "        vertical-align: middle;\n",
       "    }\n",
       "\n",
       "    .dataframe tbody tr th {\n",
       "        vertical-align: top;\n",
       "    }\n",
       "\n",
       "    .dataframe thead th {\n",
       "        text-align: right;\n",
       "    }\n",
       "</style>\n",
       "<table border=\"1\" class=\"dataframe\">\n",
       "  <thead>\n",
       "    <tr style=\"text-align: right;\">\n",
       "      <th></th>\n",
       "      <th>Deneyim Yili</th>\n",
       "      <th>SuanCalisiyor?</th>\n",
       "      <th>Eski Calistigi Firmalar</th>\n",
       "      <th>Egitim Seviyesi</th>\n",
       "      <th>Top10 Universite?</th>\n",
       "      <th>StajBizdeYaptimi?</th>\n",
       "      <th>IseAlindi</th>\n",
       "    </tr>\n",
       "  </thead>\n",
       "  <tbody>\n",
       "    <tr>\n",
       "      <th>0</th>\n",
       "      <td>11</td>\n",
       "      <td>1</td>\n",
       "      <td>4</td>\n",
       "      <td>0</td>\n",
       "      <td>0</td>\n",
       "      <td>0</td>\n",
       "      <td>1</td>\n",
       "    </tr>\n",
       "    <tr>\n",
       "      <th>1</th>\n",
       "      <td>0</td>\n",
       "      <td>0</td>\n",
       "      <td>0</td>\n",
       "      <td>2</td>\n",
       "      <td>1</td>\n",
       "      <td>1</td>\n",
       "      <td>1</td>\n",
       "    </tr>\n",
       "    <tr>\n",
       "      <th>2</th>\n",
       "      <td>5</td>\n",
       "      <td>1</td>\n",
       "      <td>2</td>\n",
       "      <td>1</td>\n",
       "      <td>0</td>\n",
       "      <td>1</td>\n",
       "      <td>1</td>\n",
       "    </tr>\n",
       "    <tr>\n",
       "      <th>3</th>\n",
       "      <td>3</td>\n",
       "      <td>0</td>\n",
       "      <td>1</td>\n",
       "      <td>0</td>\n",
       "      <td>0</td>\n",
       "      <td>1</td>\n",
       "      <td>1</td>\n",
       "    </tr>\n",
       "    <tr>\n",
       "      <th>4</th>\n",
       "      <td>0</td>\n",
       "      <td>0</td>\n",
       "      <td>0</td>\n",
       "      <td>0</td>\n",
       "      <td>0</td>\n",
       "      <td>0</td>\n",
       "      <td>0</td>\n",
       "    </tr>\n",
       "  </tbody>\n",
       "</table>\n",
       "</div>"
      ]
     },
     "execution_count": 4,
     "metadata": {},
     "output_type": "execute_result"
    }
   ],
   "execution_count": 4
  },
  {
   "metadata": {
    "ExecuteTime": {
     "end_time": "2025-03-03T20:43:43.637934Z",
     "start_time": "2025-03-03T20:43:43.633151Z"
    }
   },
   "cell_type": "code",
   "source": [
    "y=df[\"IseAlindi\"]\n",
    "X=df.drop([\"IseAlindi\"],axis=1)"
   ],
   "id": "c17435badca3edb2",
   "outputs": [],
   "execution_count": 13
  },
  {
   "metadata": {
    "ExecuteTime": {
     "end_time": "2025-03-03T20:43:44.163707Z",
     "start_time": "2025-03-03T20:43:44.155441Z"
    }
   },
   "cell_type": "code",
   "source": [
    "clf=tree.DecisionTreeClassifier()\n",
    "clf=clf.fit(X,y)"
   ],
   "id": "4c86346fc4c110d9",
   "outputs": [],
   "execution_count": 14
  },
  {
   "metadata": {
    "ExecuteTime": {
     "end_time": "2025-03-03T20:44:01.582133Z",
     "start_time": "2025-03-03T20:44:01.575414Z"
    }
   },
   "cell_type": "code",
   "source": [
    "# deneme yapalım 3 yıl deneyimli , halihazırda bir yerde çalışan ve 3 eski şirkette çalışmış olan , eğitim seviyesi lisans , top10 mezunu değil\n",
    "print(clf.predict([[3,1,3,0,0,0]]))"
   ],
   "id": "d3d0e3ede5cc5143",
   "outputs": [
    {
     "name": "stdout",
     "output_type": "stream",
     "text": [
      "[1]\n"
     ]
    },
    {
     "name": "stderr",
     "output_type": "stream",
     "text": [
      "C:\\Users\\yigit\\anaconda3\\Lib\\site-packages\\sklearn\\base.py:493: UserWarning: X does not have valid feature names, but DecisionTreeClassifier was fitted with feature names\n",
      "  warnings.warn(\n"
     ]
    }
   ],
   "execution_count": 16
  },
  {
   "metadata": {},
   "cell_type": "code",
   "outputs": [],
   "execution_count": null,
   "source": "",
   "id": "139b46c982850682"
  }
 ],
 "metadata": {
  "kernelspec": {
   "display_name": "Python 3",
   "language": "python",
   "name": "python3"
  },
  "language_info": {
   "codemirror_mode": {
    "name": "ipython",
    "version": 2
   },
   "file_extension": ".py",
   "mimetype": "text/x-python",
   "name": "python",
   "nbconvert_exporter": "python",
   "pygments_lexer": "ipython2",
   "version": "2.7.6"
  }
 },
 "nbformat": 4,
 "nbformat_minor": 5
}
