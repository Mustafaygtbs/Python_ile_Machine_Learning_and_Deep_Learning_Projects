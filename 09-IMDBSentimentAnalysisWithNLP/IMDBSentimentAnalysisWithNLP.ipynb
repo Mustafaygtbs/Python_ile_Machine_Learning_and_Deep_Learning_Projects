{
 "cells": [
  {
   "metadata": {},
   "cell_type": "markdown",
   "source": "# NLP Ile IMDB Duygu Analizi",
   "id": "5b6260c9abc27f8f"
  },
  {
   "metadata": {},
   "cell_type": "markdown",
   "source": [
    "### sklearn.feature_extraction.text.CountVectorizer:\n",
    "Scikit-learn kütüphanesinin metin özellik çıkarımı modülüdür. CountVectorizer sınıfı, metinleri sayısal vektörlere dönüştürmek için kullanılır. Her belge için kelime sayısını hesaplayarak bir belge-terim matrisi oluşturur.\n",
    "### sklearn.ensemble.RandomForestClassifier:\n",
    "Scikit-learn kütüphanesinin ensemble (topluluk) öğrenme modülüdür. RandomForestClassifier sınıfı, rastgele orman algoritmasını kullanarak sınıflandırma yapmayı sağlar. Birden çok karar ağacını birleştirerek güçlü ve doğru sınıflandırma modelleri oluşturur.\n",
    "### bs4.BeautifulSoup:\n",
    " BeautifulSoup, HTML ve XML belgelerini işlemek için kullanılan bir Python kütüphanesidir. Web sayfalarından veri kazımak (web scraping) ve belgeleri ayrıştırmak için kullanışlıdır\n",
    " ### re:\n",
    " Python'un düzenli ifade (regular expression) modülüdür. Metin işleme ve desen eşleme işlemleri için kullanılır. Metinleri belirli kurallara göre filtrelemek, bölmek veya değiştirmek için kullanışlıdır.\n",
    " ### nltk:\n",
    " NLTK (Natural Language Toolkit), doğal dil işleme için kullanılan bir Python kütüphanesidir. Metin önişleme, tokenizasyon, kelime kökü bulma, durdurma kelimeleri (stopwords) filtreleme gibi dil işleme görevlerini gerçekleştirmek için araçlar sağlar.\n",
    " ### nltk.corpus.stopwords:\n",
    " NLTK kütüphanesinin corpus (metin koleksiyonu) modülüdür. stopwords alt modülü, yaygın olarak kullanılan durdurma kelimelerinin (stopwords) listesini sağlar. Durdurma kelimeleri, metinlerde sık görülen ancak anlamsal olarak az bilgi taşıyan kelimelerdir (örneğin, \"the\", \"and\", \"is\" gibi). Metin önişleme aşamasında genellikle filtrelenir."
   ],
   "id": "26d5fe54ca671876"
  },
  {
   "metadata": {
    "ExecuteTime": {
     "end_time": "2025-03-09T14:09:52.686717Z",
     "start_time": "2025-03-09T14:09:52.681648Z"
    }
   },
   "cell_type": "code",
   "source": [
    "import numpy as np\n",
    "import pandas as pd\n",
    "import matplotlib.pyplot as plt\n",
    "from sklearn.feature_extraction.text import CountVectorizer\n",
    "from sklearn.ensemble import RandomForestClassifier\n",
    "from sklearn.metrics import roc_auc_score\n",
    "from bs4 import BeautifulSoup\n",
    "import re\n",
    "import nltk\n",
    "from sklearn.model_selection import train_test_split\n",
    "from nltk.corpus import stopwords"
   ],
   "id": "caaf03788466627b",
   "outputs": [],
   "execution_count": 37
  },
  {
   "metadata": {
    "ExecuteTime": {
     "end_time": "2025-03-09T14:09:53.445004Z",
     "start_time": "2025-03-09T14:09:53.025Z"
    }
   },
   "cell_type": "code",
   "source": "df=pd.read_csv('NLPlabeledData.tsv',delimiter='\\t',quoting=3)",
   "id": "d1df4993eda94439",
   "outputs": [],
   "execution_count": 38
  },
  {
   "metadata": {
    "ExecuteTime": {
     "end_time": "2025-03-09T14:09:53.484815Z",
     "start_time": "2025-03-09T14:09:53.473960Z"
    }
   },
   "cell_type": "code",
   "source": "df.head()",
   "id": "e417ef8b3514085a",
   "outputs": [
    {
     "data": {
      "text/plain": [
       "         id  sentiment                                             review\n",
       "0  \"5814_8\"          1  \"With all this stuff going down at the moment ...\n",
       "1  \"2381_9\"          1  \"\\\"The Classic War of the Worlds\\\" by Timothy ...\n",
       "2  \"7759_3\"          0  \"The film starts with a manager (Nicholas Bell...\n",
       "3  \"3630_4\"          0  \"It must be assumed that those who praised thi...\n",
       "4  \"9495_8\"          1  \"Superbly trashy and wondrously unpretentious ..."
      ],
      "text/html": [
       "<div>\n",
       "<style scoped>\n",
       "    .dataframe tbody tr th:only-of-type {\n",
       "        vertical-align: middle;\n",
       "    }\n",
       "\n",
       "    .dataframe tbody tr th {\n",
       "        vertical-align: top;\n",
       "    }\n",
       "\n",
       "    .dataframe thead th {\n",
       "        text-align: right;\n",
       "    }\n",
       "</style>\n",
       "<table border=\"1\" class=\"dataframe\">\n",
       "  <thead>\n",
       "    <tr style=\"text-align: right;\">\n",
       "      <th></th>\n",
       "      <th>id</th>\n",
       "      <th>sentiment</th>\n",
       "      <th>review</th>\n",
       "    </tr>\n",
       "  </thead>\n",
       "  <tbody>\n",
       "    <tr>\n",
       "      <th>0</th>\n",
       "      <td>\"5814_8\"</td>\n",
       "      <td>1</td>\n",
       "      <td>\"With all this stuff going down at the moment ...</td>\n",
       "    </tr>\n",
       "    <tr>\n",
       "      <th>1</th>\n",
       "      <td>\"2381_9\"</td>\n",
       "      <td>1</td>\n",
       "      <td>\"\\\"The Classic War of the Worlds\\\" by Timothy ...</td>\n",
       "    </tr>\n",
       "    <tr>\n",
       "      <th>2</th>\n",
       "      <td>\"7759_3\"</td>\n",
       "      <td>0</td>\n",
       "      <td>\"The film starts with a manager (Nicholas Bell...</td>\n",
       "    </tr>\n",
       "    <tr>\n",
       "      <th>3</th>\n",
       "      <td>\"3630_4\"</td>\n",
       "      <td>0</td>\n",
       "      <td>\"It must be assumed that those who praised thi...</td>\n",
       "    </tr>\n",
       "    <tr>\n",
       "      <th>4</th>\n",
       "      <td>\"9495_8\"</td>\n",
       "      <td>1</td>\n",
       "      <td>\"Superbly trashy and wondrously unpretentious ...</td>\n",
       "    </tr>\n",
       "  </tbody>\n",
       "</table>\n",
       "</div>"
      ]
     },
     "execution_count": 39,
     "metadata": {},
     "output_type": "execute_result"
    }
   ],
   "execution_count": 39
  },
  {
   "metadata": {
    "ExecuteTime": {
     "end_time": "2025-03-09T14:09:53.719357Z",
     "start_time": "2025-03-09T14:09:53.713281Z"
    }
   },
   "cell_type": "code",
   "source": "len(df)",
   "id": "24eeceda3cf27ed",
   "outputs": [
    {
     "data": {
      "text/plain": [
       "25000"
      ]
     },
     "execution_count": 40,
     "metadata": {},
     "output_type": "execute_result"
    }
   ],
   "execution_count": 40
  },
  {
   "metadata": {
    "ExecuteTime": {
     "end_time": "2025-03-09T14:09:54.195372Z",
     "start_time": "2025-03-09T14:09:54.188576Z"
    }
   },
   "cell_type": "code",
   "source": [
    "# stopwords'ü temizlemek için nltk kütüphanesinden stopwords kelime setini bilgisayarımıza indirmemiz gerekiyor,\n",
    "# Bu işlemi nltk ile yapıyoruz\n",
    "nltk.download('stopwords')"
   ],
   "id": "82a8cc793c7d6069",
   "outputs": [
    {
     "name": "stderr",
     "output_type": "stream",
     "text": [
      "[nltk_data] Downloading package stopwords to\n",
      "[nltk_data]     C:\\Users\\yigit\\AppData\\Roaming\\nltk_data...\n",
      "[nltk_data]   Package stopwords is already up-to-date!\n"
     ]
    },
    {
     "data": {
      "text/plain": [
       "True"
      ]
     },
     "execution_count": 41,
     "metadata": {},
     "output_type": "execute_result"
    }
   ],
   "execution_count": 41
  },
  {
   "metadata": {},
   "cell_type": "markdown",
   "source": [
    "## Veri Temizleme\n",
    "Veri setinde HTML tagları bulunmakta bunlar modeli şaşırtabilir bunlar temizlenmeli."
   ],
   "id": "51425223ca15ce61"
  },
  {
   "metadata": {
    "ExecuteTime": {
     "end_time": "2025-03-09T14:09:55.531526Z",
     "start_time": "2025-03-09T14:09:55.525918Z"
    }
   },
   "cell_type": "code",
   "source": [
    "sample_review = df.review[0]\n",
    "sample_review"
   ],
   "id": "6fc2336848540051",
   "outputs": [
    {
     "data": {
      "text/plain": [
       "'\"With all this stuff going down at the moment with MJ i\\'ve started listening to his music, watching the odd documentary here and there, watched The Wiz and watched Moonwalker again. Maybe i just want to get a certain insight into this guy who i thought was really cool in the eighties just to maybe make up my mind whether he is guilty or innocent. Moonwalker is part biography, part feature film which i remember going to see at the cinema when it was originally released. Some of it has subtle messages about MJ\\'s feeling towards the press and also the obvious message of drugs are bad m\\'kay.<br /><br />Visually impressive but of course this is all about Michael Jackson so unless you remotely like MJ in anyway then you are going to hate this and find it boring. Some may call MJ an egotist for consenting to the making of this movie BUT MJ and most of his fans would say that he made it for the fans which if true is really nice of him.<br /><br />The actual feature film bit when it finally starts is only on for 20 minutes or so excluding the Smooth Criminal sequence and Joe Pesci is convincing as a psychopathic all powerful drug lord. Why he wants MJ dead so bad is beyond me. Because MJ overheard his plans? Nah, Joe Pesci\\'s character ranted that he wanted people to know it is he who is supplying drugs etc so i dunno, maybe he just hates MJ\\'s music.<br /><br />Lots of cool things in this like MJ turning into a car and a robot and the whole Speed Demon sequence. Also, the director must have had the patience of a saint when it came to filming the kiddy Bad sequence as usually directors hate working with one kid let alone a whole bunch of them performing a complex dance scene.<br /><br />Bottom line, this movie is for people who like MJ on one level or another (which i think is most people). If not, then stay away. It does try and give off a wholesome message and ironically MJ\\'s bestest buddy in this movie is a girl! Michael Jackson is truly one of the most talented people ever to grace this planet but is he guilty? Well, with all the attention i\\'ve gave this subject....hmmm well i don\\'t know because people can be different behind closed doors, i know this for a fact. He is either an extremely nice but stupid guy or one of the most sickest liars. I hope he is not the latter.\"'"
      ]
     },
     "execution_count": 42,
     "metadata": {},
     "output_type": "execute_result"
    }
   ],
   "execution_count": 42
  },
  {
   "metadata": {
    "ExecuteTime": {
     "end_time": "2025-03-09T14:09:56.179443Z",
     "start_time": "2025-03-09T14:09:56.171625Z"
    }
   },
   "cell_type": "code",
   "source": [
    "sample_review=BeautifulSoup(sample_review).get_text()\n",
    "sample_review\n",
    "# html taglarından kurtulduk"
   ],
   "id": "95bc07f7b6d37d1c",
   "outputs": [
    {
     "data": {
      "text/plain": [
       "'\"With all this stuff going down at the moment with MJ i\\'ve started listening to his music, watching the odd documentary here and there, watched The Wiz and watched Moonwalker again. Maybe i just want to get a certain insight into this guy who i thought was really cool in the eighties just to maybe make up my mind whether he is guilty or innocent. Moonwalker is part biography, part feature film which i remember going to see at the cinema when it was originally released. Some of it has subtle messages about MJ\\'s feeling towards the press and also the obvious message of drugs are bad m\\'kay.Visually impressive but of course this is all about Michael Jackson so unless you remotely like MJ in anyway then you are going to hate this and find it boring. Some may call MJ an egotist for consenting to the making of this movie BUT MJ and most of his fans would say that he made it for the fans which if true is really nice of him.The actual feature film bit when it finally starts is only on for 20 minutes or so excluding the Smooth Criminal sequence and Joe Pesci is convincing as a psychopathic all powerful drug lord. Why he wants MJ dead so bad is beyond me. Because MJ overheard his plans? Nah, Joe Pesci\\'s character ranted that he wanted people to know it is he who is supplying drugs etc so i dunno, maybe he just hates MJ\\'s music.Lots of cool things in this like MJ turning into a car and a robot and the whole Speed Demon sequence. Also, the director must have had the patience of a saint when it came to filming the kiddy Bad sequence as usually directors hate working with one kid let alone a whole bunch of them performing a complex dance scene.Bottom line, this movie is for people who like MJ on one level or another (which i think is most people). If not, then stay away. It does try and give off a wholesome message and ironically MJ\\'s bestest buddy in this movie is a girl! Michael Jackson is truly one of the most talented people ever to grace this planet but is he guilty? Well, with all the attention i\\'ve gave this subject....hmmm well i don\\'t know because people can be different behind closed doors, i know this for a fact. He is either an extremely nice but stupid guy or one of the most sickest liars. I hope he is not the latter.\"'"
      ]
     },
     "execution_count": 43,
     "metadata": {},
     "output_type": "execute_result"
    }
   ],
   "execution_count": 43
  },
  {
   "metadata": {
    "ExecuteTime": {
     "end_time": "2025-03-09T14:09:56.705589Z",
     "start_time": "2025-03-09T14:09:56.699343Z"
    }
   },
   "cell_type": "code",
   "source": [
    "sample_review=re.sub(\"[^a-zA-Z]\",\" \",sample_review)\n",
    "sample_review\n",
    "# noktalama işareti ve sayılardan temizle"
   ],
   "id": "e1d104f5cd395d4d",
   "outputs": [
    {
     "data": {
      "text/plain": [
       "' With all this stuff going down at the moment with MJ i ve started listening to his music  watching the odd documentary here and there  watched The Wiz and watched Moonwalker again  Maybe i just want to get a certain insight into this guy who i thought was really cool in the eighties just to maybe make up my mind whether he is guilty or innocent  Moonwalker is part biography  part feature film which i remember going to see at the cinema when it was originally released  Some of it has subtle messages about MJ s feeling towards the press and also the obvious message of drugs are bad m kay Visually impressive but of course this is all about Michael Jackson so unless you remotely like MJ in anyway then you are going to hate this and find it boring  Some may call MJ an egotist for consenting to the making of this movie BUT MJ and most of his fans would say that he made it for the fans which if true is really nice of him The actual feature film bit when it finally starts is only on for    minutes or so excluding the Smooth Criminal sequence and Joe Pesci is convincing as a psychopathic all powerful drug lord  Why he wants MJ dead so bad is beyond me  Because MJ overheard his plans  Nah  Joe Pesci s character ranted that he wanted people to know it is he who is supplying drugs etc so i dunno  maybe he just hates MJ s music Lots of cool things in this like MJ turning into a car and a robot and the whole Speed Demon sequence  Also  the director must have had the patience of a saint when it came to filming the kiddy Bad sequence as usually directors hate working with one kid let alone a whole bunch of them performing a complex dance scene Bottom line  this movie is for people who like MJ on one level or another  which i think is most people   If not  then stay away  It does try and give off a wholesome message and ironically MJ s bestest buddy in this movie is a girl  Michael Jackson is truly one of the most talented people ever to grace this planet but is he guilty  Well  with all the attention i ve gave this subject    hmmm well i don t know because people can be different behind closed doors  i know this for a fact  He is either an extremely nice but stupid guy or one of the most sickest liars  I hope he is not the latter  '"
      ]
     },
     "execution_count": 44,
     "metadata": {},
     "output_type": "execute_result"
    }
   ],
   "execution_count": 44
  },
  {
   "metadata": {
    "ExecuteTime": {
     "end_time": "2025-03-09T14:09:57.233908Z",
     "start_time": "2025-03-09T14:09:57.228343Z"
    }
   },
   "cell_type": "code",
   "source": [
    "sample_review=sample_review.lower()\n",
    "sample_review\n",
    "# tüm harfleri küçük yap"
   ],
   "id": "bf390e6f9287c419",
   "outputs": [
    {
     "data": {
      "text/plain": [
       "' with all this stuff going down at the moment with mj i ve started listening to his music  watching the odd documentary here and there  watched the wiz and watched moonwalker again  maybe i just want to get a certain insight into this guy who i thought was really cool in the eighties just to maybe make up my mind whether he is guilty or innocent  moonwalker is part biography  part feature film which i remember going to see at the cinema when it was originally released  some of it has subtle messages about mj s feeling towards the press and also the obvious message of drugs are bad m kay visually impressive but of course this is all about michael jackson so unless you remotely like mj in anyway then you are going to hate this and find it boring  some may call mj an egotist for consenting to the making of this movie but mj and most of his fans would say that he made it for the fans which if true is really nice of him the actual feature film bit when it finally starts is only on for    minutes or so excluding the smooth criminal sequence and joe pesci is convincing as a psychopathic all powerful drug lord  why he wants mj dead so bad is beyond me  because mj overheard his plans  nah  joe pesci s character ranted that he wanted people to know it is he who is supplying drugs etc so i dunno  maybe he just hates mj s music lots of cool things in this like mj turning into a car and a robot and the whole speed demon sequence  also  the director must have had the patience of a saint when it came to filming the kiddy bad sequence as usually directors hate working with one kid let alone a whole bunch of them performing a complex dance scene bottom line  this movie is for people who like mj on one level or another  which i think is most people   if not  then stay away  it does try and give off a wholesome message and ironically mj s bestest buddy in this movie is a girl  michael jackson is truly one of the most talented people ever to grace this planet but is he guilty  well  with all the attention i ve gave this subject    hmmm well i don t know because people can be different behind closed doors  i know this for a fact  he is either an extremely nice but stupid guy or one of the most sickest liars  i hope he is not the latter  '"
      ]
     },
     "execution_count": 45,
     "metadata": {},
     "output_type": "execute_result"
    }
   ],
   "execution_count": 45
  },
  {
   "metadata": {
    "ExecuteTime": {
     "end_time": "2025-03-09T14:09:57.653122Z",
     "start_time": "2025-03-09T14:09:57.648416Z"
    }
   },
   "cell_type": "code",
   "source": [
    "# stopwords (yani the, is, ane gibi kelimeler yapay zeka tarafından kullanılmamasını istiyoruz. Bunlar gramer kelimeni.. )\n",
    "# önce split ite kelimeleri bölüyoruz ve listeye dönüştürüyoruz. amacımız stopwords kelimelerini çıkarmak.\n",
    "sample_review=sample_review.split()"
   ],
   "id": "1bd613d650103d56",
   "outputs": [],
   "execution_count": 46
  },
  {
   "metadata": {
    "ExecuteTime": {
     "end_time": "2025-03-09T14:09:58.176831Z",
     "start_time": "2025-03-09T14:09:58.166051Z"
    }
   },
   "cell_type": "code",
   "source": "sample_review",
   "id": "bc3db5575cd012a7",
   "outputs": [
    {
     "data": {
      "text/plain": [
       "['with',\n",
       " 'all',\n",
       " 'this',\n",
       " 'stuff',\n",
       " 'going',\n",
       " 'down',\n",
       " 'at',\n",
       " 'the',\n",
       " 'moment',\n",
       " 'with',\n",
       " 'mj',\n",
       " 'i',\n",
       " 've',\n",
       " 'started',\n",
       " 'listening',\n",
       " 'to',\n",
       " 'his',\n",
       " 'music',\n",
       " 'watching',\n",
       " 'the',\n",
       " 'odd',\n",
       " 'documentary',\n",
       " 'here',\n",
       " 'and',\n",
       " 'there',\n",
       " 'watched',\n",
       " 'the',\n",
       " 'wiz',\n",
       " 'and',\n",
       " 'watched',\n",
       " 'moonwalker',\n",
       " 'again',\n",
       " 'maybe',\n",
       " 'i',\n",
       " 'just',\n",
       " 'want',\n",
       " 'to',\n",
       " 'get',\n",
       " 'a',\n",
       " 'certain',\n",
       " 'insight',\n",
       " 'into',\n",
       " 'this',\n",
       " 'guy',\n",
       " 'who',\n",
       " 'i',\n",
       " 'thought',\n",
       " 'was',\n",
       " 'really',\n",
       " 'cool',\n",
       " 'in',\n",
       " 'the',\n",
       " 'eighties',\n",
       " 'just',\n",
       " 'to',\n",
       " 'maybe',\n",
       " 'make',\n",
       " 'up',\n",
       " 'my',\n",
       " 'mind',\n",
       " 'whether',\n",
       " 'he',\n",
       " 'is',\n",
       " 'guilty',\n",
       " 'or',\n",
       " 'innocent',\n",
       " 'moonwalker',\n",
       " 'is',\n",
       " 'part',\n",
       " 'biography',\n",
       " 'part',\n",
       " 'feature',\n",
       " 'film',\n",
       " 'which',\n",
       " 'i',\n",
       " 'remember',\n",
       " 'going',\n",
       " 'to',\n",
       " 'see',\n",
       " 'at',\n",
       " 'the',\n",
       " 'cinema',\n",
       " 'when',\n",
       " 'it',\n",
       " 'was',\n",
       " 'originally',\n",
       " 'released',\n",
       " 'some',\n",
       " 'of',\n",
       " 'it',\n",
       " 'has',\n",
       " 'subtle',\n",
       " 'messages',\n",
       " 'about',\n",
       " 'mj',\n",
       " 's',\n",
       " 'feeling',\n",
       " 'towards',\n",
       " 'the',\n",
       " 'press',\n",
       " 'and',\n",
       " 'also',\n",
       " 'the',\n",
       " 'obvious',\n",
       " 'message',\n",
       " 'of',\n",
       " 'drugs',\n",
       " 'are',\n",
       " 'bad',\n",
       " 'm',\n",
       " 'kay',\n",
       " 'visually',\n",
       " 'impressive',\n",
       " 'but',\n",
       " 'of',\n",
       " 'course',\n",
       " 'this',\n",
       " 'is',\n",
       " 'all',\n",
       " 'about',\n",
       " 'michael',\n",
       " 'jackson',\n",
       " 'so',\n",
       " 'unless',\n",
       " 'you',\n",
       " 'remotely',\n",
       " 'like',\n",
       " 'mj',\n",
       " 'in',\n",
       " 'anyway',\n",
       " 'then',\n",
       " 'you',\n",
       " 'are',\n",
       " 'going',\n",
       " 'to',\n",
       " 'hate',\n",
       " 'this',\n",
       " 'and',\n",
       " 'find',\n",
       " 'it',\n",
       " 'boring',\n",
       " 'some',\n",
       " 'may',\n",
       " 'call',\n",
       " 'mj',\n",
       " 'an',\n",
       " 'egotist',\n",
       " 'for',\n",
       " 'consenting',\n",
       " 'to',\n",
       " 'the',\n",
       " 'making',\n",
       " 'of',\n",
       " 'this',\n",
       " 'movie',\n",
       " 'but',\n",
       " 'mj',\n",
       " 'and',\n",
       " 'most',\n",
       " 'of',\n",
       " 'his',\n",
       " 'fans',\n",
       " 'would',\n",
       " 'say',\n",
       " 'that',\n",
       " 'he',\n",
       " 'made',\n",
       " 'it',\n",
       " 'for',\n",
       " 'the',\n",
       " 'fans',\n",
       " 'which',\n",
       " 'if',\n",
       " 'true',\n",
       " 'is',\n",
       " 'really',\n",
       " 'nice',\n",
       " 'of',\n",
       " 'him',\n",
       " 'the',\n",
       " 'actual',\n",
       " 'feature',\n",
       " 'film',\n",
       " 'bit',\n",
       " 'when',\n",
       " 'it',\n",
       " 'finally',\n",
       " 'starts',\n",
       " 'is',\n",
       " 'only',\n",
       " 'on',\n",
       " 'for',\n",
       " 'minutes',\n",
       " 'or',\n",
       " 'so',\n",
       " 'excluding',\n",
       " 'the',\n",
       " 'smooth',\n",
       " 'criminal',\n",
       " 'sequence',\n",
       " 'and',\n",
       " 'joe',\n",
       " 'pesci',\n",
       " 'is',\n",
       " 'convincing',\n",
       " 'as',\n",
       " 'a',\n",
       " 'psychopathic',\n",
       " 'all',\n",
       " 'powerful',\n",
       " 'drug',\n",
       " 'lord',\n",
       " 'why',\n",
       " 'he',\n",
       " 'wants',\n",
       " 'mj',\n",
       " 'dead',\n",
       " 'so',\n",
       " 'bad',\n",
       " 'is',\n",
       " 'beyond',\n",
       " 'me',\n",
       " 'because',\n",
       " 'mj',\n",
       " 'overheard',\n",
       " 'his',\n",
       " 'plans',\n",
       " 'nah',\n",
       " 'joe',\n",
       " 'pesci',\n",
       " 's',\n",
       " 'character',\n",
       " 'ranted',\n",
       " 'that',\n",
       " 'he',\n",
       " 'wanted',\n",
       " 'people',\n",
       " 'to',\n",
       " 'know',\n",
       " 'it',\n",
       " 'is',\n",
       " 'he',\n",
       " 'who',\n",
       " 'is',\n",
       " 'supplying',\n",
       " 'drugs',\n",
       " 'etc',\n",
       " 'so',\n",
       " 'i',\n",
       " 'dunno',\n",
       " 'maybe',\n",
       " 'he',\n",
       " 'just',\n",
       " 'hates',\n",
       " 'mj',\n",
       " 's',\n",
       " 'music',\n",
       " 'lots',\n",
       " 'of',\n",
       " 'cool',\n",
       " 'things',\n",
       " 'in',\n",
       " 'this',\n",
       " 'like',\n",
       " 'mj',\n",
       " 'turning',\n",
       " 'into',\n",
       " 'a',\n",
       " 'car',\n",
       " 'and',\n",
       " 'a',\n",
       " 'robot',\n",
       " 'and',\n",
       " 'the',\n",
       " 'whole',\n",
       " 'speed',\n",
       " 'demon',\n",
       " 'sequence',\n",
       " 'also',\n",
       " 'the',\n",
       " 'director',\n",
       " 'must',\n",
       " 'have',\n",
       " 'had',\n",
       " 'the',\n",
       " 'patience',\n",
       " 'of',\n",
       " 'a',\n",
       " 'saint',\n",
       " 'when',\n",
       " 'it',\n",
       " 'came',\n",
       " 'to',\n",
       " 'filming',\n",
       " 'the',\n",
       " 'kiddy',\n",
       " 'bad',\n",
       " 'sequence',\n",
       " 'as',\n",
       " 'usually',\n",
       " 'directors',\n",
       " 'hate',\n",
       " 'working',\n",
       " 'with',\n",
       " 'one',\n",
       " 'kid',\n",
       " 'let',\n",
       " 'alone',\n",
       " 'a',\n",
       " 'whole',\n",
       " 'bunch',\n",
       " 'of',\n",
       " 'them',\n",
       " 'performing',\n",
       " 'a',\n",
       " 'complex',\n",
       " 'dance',\n",
       " 'scene',\n",
       " 'bottom',\n",
       " 'line',\n",
       " 'this',\n",
       " 'movie',\n",
       " 'is',\n",
       " 'for',\n",
       " 'people',\n",
       " 'who',\n",
       " 'like',\n",
       " 'mj',\n",
       " 'on',\n",
       " 'one',\n",
       " 'level',\n",
       " 'or',\n",
       " 'another',\n",
       " 'which',\n",
       " 'i',\n",
       " 'think',\n",
       " 'is',\n",
       " 'most',\n",
       " 'people',\n",
       " 'if',\n",
       " 'not',\n",
       " 'then',\n",
       " 'stay',\n",
       " 'away',\n",
       " 'it',\n",
       " 'does',\n",
       " 'try',\n",
       " 'and',\n",
       " 'give',\n",
       " 'off',\n",
       " 'a',\n",
       " 'wholesome',\n",
       " 'message',\n",
       " 'and',\n",
       " 'ironically',\n",
       " 'mj',\n",
       " 's',\n",
       " 'bestest',\n",
       " 'buddy',\n",
       " 'in',\n",
       " 'this',\n",
       " 'movie',\n",
       " 'is',\n",
       " 'a',\n",
       " 'girl',\n",
       " 'michael',\n",
       " 'jackson',\n",
       " 'is',\n",
       " 'truly',\n",
       " 'one',\n",
       " 'of',\n",
       " 'the',\n",
       " 'most',\n",
       " 'talented',\n",
       " 'people',\n",
       " 'ever',\n",
       " 'to',\n",
       " 'grace',\n",
       " 'this',\n",
       " 'planet',\n",
       " 'but',\n",
       " 'is',\n",
       " 'he',\n",
       " 'guilty',\n",
       " 'well',\n",
       " 'with',\n",
       " 'all',\n",
       " 'the',\n",
       " 'attention',\n",
       " 'i',\n",
       " 've',\n",
       " 'gave',\n",
       " 'this',\n",
       " 'subject',\n",
       " 'hmmm',\n",
       " 'well',\n",
       " 'i',\n",
       " 'don',\n",
       " 't',\n",
       " 'know',\n",
       " 'because',\n",
       " 'people',\n",
       " 'can',\n",
       " 'be',\n",
       " 'different',\n",
       " 'behind',\n",
       " 'closed',\n",
       " 'doors',\n",
       " 'i',\n",
       " 'know',\n",
       " 'this',\n",
       " 'for',\n",
       " 'a',\n",
       " 'fact',\n",
       " 'he',\n",
       " 'is',\n",
       " 'either',\n",
       " 'an',\n",
       " 'extremely',\n",
       " 'nice',\n",
       " 'but',\n",
       " 'stupid',\n",
       " 'guy',\n",
       " 'or',\n",
       " 'one',\n",
       " 'of',\n",
       " 'the',\n",
       " 'most',\n",
       " 'sickest',\n",
       " 'liars',\n",
       " 'i',\n",
       " 'hope',\n",
       " 'he',\n",
       " 'is',\n",
       " 'not',\n",
       " 'the',\n",
       " 'latter']"
      ]
     },
     "execution_count": 47,
     "metadata": {},
     "output_type": "execute_result"
    }
   ],
   "execution_count": 47
  },
  {
   "metadata": {
    "ExecuteTime": {
     "end_time": "2025-03-09T14:09:58.669733Z",
     "start_time": "2025-03-09T14:09:58.664176Z"
    }
   },
   "cell_type": "code",
   "source": "len(sample_review)",
   "id": "99d64d80bee069df",
   "outputs": [
    {
     "data": {
      "text/plain": [
       "437"
      ]
     },
     "execution_count": 48,
     "metadata": {},
     "output_type": "execute_result"
    }
   ],
   "execution_count": 48
  },
  {
   "metadata": {
    "ExecuteTime": {
     "end_time": "2025-03-09T14:09:59.321758Z",
     "start_time": "2025-03-09T14:09:59.312923Z"
    }
   },
   "cell_type": "code",
   "source": [
    "swords=set(stopwords.words('english'))\n",
    "sample_review=[w for w in sample_review if w not in swords]\n",
    "sample_review"
   ],
   "id": "2b38f5039b5116d9",
   "outputs": [
    {
     "data": {
      "text/plain": [
       "['stuff',\n",
       " 'going',\n",
       " 'moment',\n",
       " 'mj',\n",
       " 'started',\n",
       " 'listening',\n",
       " 'music',\n",
       " 'watching',\n",
       " 'odd',\n",
       " 'documentary',\n",
       " 'watched',\n",
       " 'wiz',\n",
       " 'watched',\n",
       " 'moonwalker',\n",
       " 'maybe',\n",
       " 'want',\n",
       " 'get',\n",
       " 'certain',\n",
       " 'insight',\n",
       " 'guy',\n",
       " 'thought',\n",
       " 'really',\n",
       " 'cool',\n",
       " 'eighties',\n",
       " 'maybe',\n",
       " 'make',\n",
       " 'mind',\n",
       " 'whether',\n",
       " 'guilty',\n",
       " 'innocent',\n",
       " 'moonwalker',\n",
       " 'part',\n",
       " 'biography',\n",
       " 'part',\n",
       " 'feature',\n",
       " 'film',\n",
       " 'remember',\n",
       " 'going',\n",
       " 'see',\n",
       " 'cinema',\n",
       " 'originally',\n",
       " 'released',\n",
       " 'subtle',\n",
       " 'messages',\n",
       " 'mj',\n",
       " 'feeling',\n",
       " 'towards',\n",
       " 'press',\n",
       " 'also',\n",
       " 'obvious',\n",
       " 'message',\n",
       " 'drugs',\n",
       " 'bad',\n",
       " 'kay',\n",
       " 'visually',\n",
       " 'impressive',\n",
       " 'course',\n",
       " 'michael',\n",
       " 'jackson',\n",
       " 'unless',\n",
       " 'remotely',\n",
       " 'like',\n",
       " 'mj',\n",
       " 'anyway',\n",
       " 'going',\n",
       " 'hate',\n",
       " 'find',\n",
       " 'boring',\n",
       " 'may',\n",
       " 'call',\n",
       " 'mj',\n",
       " 'egotist',\n",
       " 'consenting',\n",
       " 'making',\n",
       " 'movie',\n",
       " 'mj',\n",
       " 'fans',\n",
       " 'would',\n",
       " 'say',\n",
       " 'made',\n",
       " 'fans',\n",
       " 'true',\n",
       " 'really',\n",
       " 'nice',\n",
       " 'actual',\n",
       " 'feature',\n",
       " 'film',\n",
       " 'bit',\n",
       " 'finally',\n",
       " 'starts',\n",
       " 'minutes',\n",
       " 'excluding',\n",
       " 'smooth',\n",
       " 'criminal',\n",
       " 'sequence',\n",
       " 'joe',\n",
       " 'pesci',\n",
       " 'convincing',\n",
       " 'psychopathic',\n",
       " 'powerful',\n",
       " 'drug',\n",
       " 'lord',\n",
       " 'wants',\n",
       " 'mj',\n",
       " 'dead',\n",
       " 'bad',\n",
       " 'beyond',\n",
       " 'mj',\n",
       " 'overheard',\n",
       " 'plans',\n",
       " 'nah',\n",
       " 'joe',\n",
       " 'pesci',\n",
       " 'character',\n",
       " 'ranted',\n",
       " 'wanted',\n",
       " 'people',\n",
       " 'know',\n",
       " 'supplying',\n",
       " 'drugs',\n",
       " 'etc',\n",
       " 'dunno',\n",
       " 'maybe',\n",
       " 'hates',\n",
       " 'mj',\n",
       " 'music',\n",
       " 'lots',\n",
       " 'cool',\n",
       " 'things',\n",
       " 'like',\n",
       " 'mj',\n",
       " 'turning',\n",
       " 'car',\n",
       " 'robot',\n",
       " 'whole',\n",
       " 'speed',\n",
       " 'demon',\n",
       " 'sequence',\n",
       " 'also',\n",
       " 'director',\n",
       " 'must',\n",
       " 'patience',\n",
       " 'saint',\n",
       " 'came',\n",
       " 'filming',\n",
       " 'kiddy',\n",
       " 'bad',\n",
       " 'sequence',\n",
       " 'usually',\n",
       " 'directors',\n",
       " 'hate',\n",
       " 'working',\n",
       " 'one',\n",
       " 'kid',\n",
       " 'let',\n",
       " 'alone',\n",
       " 'whole',\n",
       " 'bunch',\n",
       " 'performing',\n",
       " 'complex',\n",
       " 'dance',\n",
       " 'scene',\n",
       " 'bottom',\n",
       " 'line',\n",
       " 'movie',\n",
       " 'people',\n",
       " 'like',\n",
       " 'mj',\n",
       " 'one',\n",
       " 'level',\n",
       " 'another',\n",
       " 'think',\n",
       " 'people',\n",
       " 'stay',\n",
       " 'away',\n",
       " 'try',\n",
       " 'give',\n",
       " 'wholesome',\n",
       " 'message',\n",
       " 'ironically',\n",
       " 'mj',\n",
       " 'bestest',\n",
       " 'buddy',\n",
       " 'movie',\n",
       " 'girl',\n",
       " 'michael',\n",
       " 'jackson',\n",
       " 'truly',\n",
       " 'one',\n",
       " 'talented',\n",
       " 'people',\n",
       " 'ever',\n",
       " 'grace',\n",
       " 'planet',\n",
       " 'guilty',\n",
       " 'well',\n",
       " 'attention',\n",
       " 'gave',\n",
       " 'subject',\n",
       " 'hmmm',\n",
       " 'well',\n",
       " 'know',\n",
       " 'people',\n",
       " 'different',\n",
       " 'behind',\n",
       " 'closed',\n",
       " 'doors',\n",
       " 'know',\n",
       " 'fact',\n",
       " 'either',\n",
       " 'extremely',\n",
       " 'nice',\n",
       " 'stupid',\n",
       " 'guy',\n",
       " 'one',\n",
       " 'sickest',\n",
       " 'liars',\n",
       " 'hope',\n",
       " 'latter']"
      ]
     },
     "execution_count": 49,
     "metadata": {},
     "output_type": "execute_result"
    }
   ],
   "execution_count": 49
  },
  {
   "metadata": {
    "ExecuteTime": {
     "end_time": "2025-03-09T14:09:59.880613Z",
     "start_time": "2025-03-09T14:09:59.873852Z"
    }
   },
   "cell_type": "code",
   "source": "len(sample_review)",
   "id": "472ebd622bd76d2f",
   "outputs": [
    {
     "data": {
      "text/plain": [
       "219"
      ]
     },
     "execution_count": 50,
     "metadata": {},
     "output_type": "execute_result"
    }
   ],
   "execution_count": 50
  },
  {
   "metadata": {},
   "cell_type": "markdown",
   "source": "bu şekilde bir sample ı temizlemiş olduk şimdi tüm data frame i temizleyelim",
   "id": "8fbede9afbe65c20"
  },
  {
   "metadata": {
    "ExecuteTime": {
     "end_time": "2025-03-09T14:10:01.046903Z",
     "start_time": "2025-03-09T14:10:01.040472Z"
    }
   },
   "cell_type": "code",
   "source": [
    "def process(review):\n",
    "    # html taglarından temizlemek için\n",
    "    review=BeautifulSoup(review).get_text()\n",
    "    # noktalama işareti ve sayıları kaldırmak için\n",
    "    review=re.sub(\"[^a-zA-Z]\",\" \",review)\n",
    "    # hepsini küçük harf yap\n",
    "    review=review.lower()\n",
    "    review=review.split()\n",
    "    swords=set(stopwords.words('english'))\n",
    "    review=[w for w in review if w not in swords]\n",
    "    return(\" \".join(review))"
   ],
   "id": "15ff136b9869baee",
   "outputs": [],
   "execution_count": 51
  },
  {
   "metadata": {
    "ExecuteTime": {
     "end_time": "2025-03-09T14:10:19.130360Z",
     "start_time": "2025-03-09T14:10:02.170638Z"
    }
   },
   "cell_type": "code",
   "source": [
    "train_x_all= []\n",
    "for r in range(len(df[\"review\"])):\n",
    "    if(r+1)%1000==0:\n",
    "        print(\"No of reviews processed: \",r+1)\n",
    "    train_x_all.append(process(df[\"review\"][r]))"
   ],
   "id": "cab2ebc2c77c10d7",
   "outputs": [
    {
     "name": "stderr",
     "output_type": "stream",
     "text": [
      "C:\\Users\\yigit\\AppData\\Local\\Temp\\ipykernel_17848\\3318684267.py:3: MarkupResemblesLocatorWarning: The input looks more like a filename than markup. You may want to open this file and pass the filehandle into Beautiful Soup.\n",
      "  review=BeautifulSoup(review).get_text()\n"
     ]
    },
    {
     "name": "stdout",
     "output_type": "stream",
     "text": [
      "No of reviews processed:  1000\n",
      "No of reviews processed:  2000\n",
      "No of reviews processed:  3000\n",
      "No of reviews processed:  4000\n",
      "No of reviews processed:  5000\n",
      "No of reviews processed:  6000\n",
      "No of reviews processed:  7000\n",
      "No of reviews processed:  8000\n",
      "No of reviews processed:  9000\n",
      "No of reviews processed:  10000\n",
      "No of reviews processed:  11000\n",
      "No of reviews processed:  12000\n",
      "No of reviews processed:  13000\n",
      "No of reviews processed:  14000\n",
      "No of reviews processed:  15000\n",
      "No of reviews processed:  16000\n",
      "No of reviews processed:  17000\n",
      "No of reviews processed:  18000\n",
      "No of reviews processed:  19000\n",
      "No of reviews processed:  20000\n",
      "No of reviews processed:  21000\n",
      "No of reviews processed:  22000\n",
      "No of reviews processed:  23000\n",
      "No of reviews processed:  24000\n",
      "No of reviews processed:  25000\n"
     ]
    }
   ],
   "execution_count": 52
  },
  {
   "metadata": {
    "ExecuteTime": {
     "end_time": "2025-03-09T14:14:07.491650Z",
     "start_time": "2025-03-09T14:14:07.478869Z"
    }
   },
   "cell_type": "code",
   "source": [
    "x=train_x_all\n",
    "y=np.array(df[\"sentiment\"])\n",
    "train_x,test_x,train_y,test_y=train_test_split(x,y,test_size=0.1,random_state=42)"
   ],
   "id": "51384684c449f930",
   "outputs": [],
   "execution_count": 56
  },
  {
   "metadata": {},
   "cell_type": "markdown",
   "source": [
    "### Bag of Words oluşturuyoruz !\n",
    "\n",
    "Verilerimizi temizledik ancak yapay zekanın çalışması için bu metin tabanlı verileri sayılara ve bag of words denilen matrise çevirmek gerekiyor. işte bu amaçla sklearn içinde bulunan CountVectorizer aracını kullanıyoruz:"
   ],
   "id": "b98c4835118a6954"
  },
  {
   "metadata": {
    "ExecuteTime": {
     "end_time": "2025-03-09T14:14:11.673089Z",
     "start_time": "2025-03-09T14:14:09.203827Z"
    }
   },
   "cell_type": "code",
   "source": [
    "# skleann içinde bulunan countvectorizen fonksiyonunu kullanarak max 5000 kelimelik bag of words oluşturuyoruz.\n",
    "vectorizer = CountVectorizer(max_features=5000)\n",
    "train_x=vectorizer.fit_transform(train_x)"
   ],
   "id": "6b67e159bca8d48",
   "outputs": [],
   "execution_count": 57
  },
  {
   "metadata": {},
   "cell_type": "markdown",
   "source": [
    "## Bag of Words (BoW)\n",
    " metin verilerini sayısal vektörlere dönüştürmek için kullanılan bir yaklaşımdır. Bu yaklaşımda, her belge (metin) bir \"kelime torbası\" olarak temsil edilir ve her kelimenin belgede kaç kez geçtiği sayılır. Belgenin anlamsal yapısı veya kelimelerin sırası dikkate alınmaz, sadece kelimelerin frekansları önemlidir.\n",
    "\n",
    "Bag of Words'ün temel adımları şunlardır:\n",
    "\n",
    "1. Kelimeleri Ayırma (Tokenization): Metinler, bireysel kelimelere veya belirteçlere (token) ayrılır. Örneğin, \"The quick brown fox jumps over the lazy dog\" cümlesi [\"The\", \"quick\", \"brown\", \"fox\", \"jumps\", \"over\", \"the\", \"lazy\", \"dog\"] şeklinde ayrılır.\n",
    "\n",
    "2. Sözlük Oluşturma (Vocabulary Creation): Tüm belgeler işlendikten sonra, tüm benzersiz kelimelerden oluşan bir sözlük oluşturulur. Bu sözlük, tüm belgelerde geçen kelimeleri içerir.\n",
    "\n",
    "3. Kelime Frekansı Hesaplama: Her belge için, sözlükteki her kelimenin o belgede kaç kez geçtiği sayılır. Bu işlem sonucunda, her belge için bir kelime frekans vektörü oluşturulur.\n",
    "\n",
    "Örneğin, aşağıdaki iki belgeyi ele alalım:\n",
    "- Belge 1: \"The quick brown fox jumps over the lazy dog\"\n",
    "- Belge 2: \"A quick brown dog jumps over the lazy fox\"\n",
    "\n",
    "Sözlük: [\"a\", \"brown\", \"dog\", \"fox\", \"jumps\", \"lazy\", \"over\", \"quick\", \"the\"]\n",
    "\n",
    "Kelime frekans vektörleri:\n",
    "- Belge 1: [0, 1, 1, 1, 1, 1, 1, 1, 2]\n",
    "- Belge 2: [1, 1, 1, 1, 1, 1, 1, 1, 1]\n",
    "\n",
    "Bu vektörler, her belgenin sözlükteki kelimelerin frekanslarını temsil eder. Örneğin, Belge 1'de \"the\" kelimesi 2 kez geçerken, Belge 2'de 1 kez geçmektedir.\n",
    "\n",
    "Bag of Words, metinleri sayısal vektörlere dönüştürerek makine öğrenmesi algoritmalarının metinler üzerinde çalışmasını sağlar. Ancak, kelimelerin sırası ve bağlamı kaybolduğu için bazı anlamsal bilgiler de kaybedilir. Ayrıca, seyrek ve yüksek boyutlu vektörler oluşturma eğilimindedir.\n",
    "\n",
    "Bag of Words, metin sınıflandırma, spam filtreleme, duygu analizi gibi birçok doğal dil işleme (NLP) uygulamasında yaygın olarak kullanılır. Scikit-learn kütüphanesindeki CountVectorizer sınıfı, Bag of Words yaklaşımını uygulayan bir araçtır."
   ],
   "id": "60584a9cc514d894"
  },
  {
   "metadata": {
    "ExecuteTime": {
     "end_time": "2025-03-09T14:20:28.519085Z",
     "start_time": "2025-03-09T14:20:28.511250Z"
    }
   },
   "cell_type": "code",
   "source": "train_x",
   "id": "382e57307654ca68",
   "outputs": [
    {
     "data": {
      "text/plain": [
       "<22500x5000 sparse matrix of type '<class 'numpy.int64'>'\n",
       "\twith 1776690 stored elements in Compressed Sparse Row format>"
      ]
     },
     "execution_count": 58,
     "metadata": {},
     "output_type": "execute_result"
    }
   ],
   "execution_count": 58
  },
  {
   "metadata": {
    "ExecuteTime": {
     "end_time": "2025-03-09T14:20:44.635067Z",
     "start_time": "2025-03-09T14:20:44.234425Z"
    }
   },
   "cell_type": "code",
   "source": "train_x=train_x.toarray()",
   "id": "a957588911470f8b",
   "outputs": [],
   "execution_count": 59
  },
  {
   "metadata": {
    "ExecuteTime": {
     "end_time": "2025-03-09T14:22:34.685344Z",
     "start_time": "2025-03-09T14:22:34.679091Z"
    }
   },
   "cell_type": "code",
   "source": [
    "y_train=train_y\n",
    "y_train"
   ],
   "id": "e87596d21b4307c2",
   "outputs": [
    {
     "data": {
      "text/plain": [
       "array([0, 1, 1, ..., 1, 1, 0], dtype=int64)"
      ]
     },
     "execution_count": 61,
     "metadata": {},
     "output_type": "execute_result"
    }
   ],
   "execution_count": 61
  },
  {
   "metadata": {
    "ExecuteTime": {
     "end_time": "2025-03-09T14:23:02.879930Z",
     "start_time": "2025-03-09T14:23:02.873641Z"
    }
   },
   "cell_type": "code",
   "source": "len(y_train)",
   "id": "a111d313f20f1507",
   "outputs": [
    {
     "data": {
      "text/plain": [
       "22500"
      ]
     },
     "execution_count": 62,
     "metadata": {},
     "output_type": "execute_result"
    }
   ],
   "execution_count": 62
  },
  {
   "metadata": {},
   "cell_type": "markdown",
   "source": "## Random Forest Model i oluşturuyoruz ve fit ediyoruz",
   "id": "59d670d0e1b8cfeb"
  },
  {
   "metadata": {
    "ExecuteTime": {
     "end_time": "2025-03-09T14:46:23.252516Z",
     "start_time": "2025-03-09T14:44:04.694841Z"
    }
   },
   "cell_type": "code",
   "source": [
    "model=RandomForestClassifier(n_estimators=200)\n",
    "model.fit(train_x,y_train)"
   ],
   "id": "55d66f7ea1608932",
   "outputs": [
    {
     "data": {
      "text/plain": [
       "RandomForestClassifier(n_estimators=200)"
      ],
      "text/html": [
       "<style>#sk-container-id-2 {\n",
       "  /* Definition of color scheme common for light and dark mode */\n",
       "  --sklearn-color-text: black;\n",
       "  --sklearn-color-line: gray;\n",
       "  /* Definition of color scheme for unfitted estimators */\n",
       "  --sklearn-color-unfitted-level-0: #fff5e6;\n",
       "  --sklearn-color-unfitted-level-1: #f6e4d2;\n",
       "  --sklearn-color-unfitted-level-2: #ffe0b3;\n",
       "  --sklearn-color-unfitted-level-3: chocolate;\n",
       "  /* Definition of color scheme for fitted estimators */\n",
       "  --sklearn-color-fitted-level-0: #f0f8ff;\n",
       "  --sklearn-color-fitted-level-1: #d4ebff;\n",
       "  --sklearn-color-fitted-level-2: #b3dbfd;\n",
       "  --sklearn-color-fitted-level-3: cornflowerblue;\n",
       "\n",
       "  /* Specific color for light theme */\n",
       "  --sklearn-color-text-on-default-background: var(--sg-text-color, var(--theme-code-foreground, var(--jp-content-font-color1, black)));\n",
       "  --sklearn-color-background: var(--sg-background-color, var(--theme-background, var(--jp-layout-color0, white)));\n",
       "  --sklearn-color-border-box: var(--sg-text-color, var(--theme-code-foreground, var(--jp-content-font-color1, black)));\n",
       "  --sklearn-color-icon: #696969;\n",
       "\n",
       "  @media (prefers-color-scheme: dark) {\n",
       "    /* Redefinition of color scheme for dark theme */\n",
       "    --sklearn-color-text-on-default-background: var(--sg-text-color, var(--theme-code-foreground, var(--jp-content-font-color1, white)));\n",
       "    --sklearn-color-background: var(--sg-background-color, var(--theme-background, var(--jp-layout-color0, #111)));\n",
       "    --sklearn-color-border-box: var(--sg-text-color, var(--theme-code-foreground, var(--jp-content-font-color1, white)));\n",
       "    --sklearn-color-icon: #878787;\n",
       "  }\n",
       "}\n",
       "\n",
       "#sk-container-id-2 {\n",
       "  color: var(--sklearn-color-text);\n",
       "}\n",
       "\n",
       "#sk-container-id-2 pre {\n",
       "  padding: 0;\n",
       "}\n",
       "\n",
       "#sk-container-id-2 input.sk-hidden--visually {\n",
       "  border: 0;\n",
       "  clip: rect(1px 1px 1px 1px);\n",
       "  clip: rect(1px, 1px, 1px, 1px);\n",
       "  height: 1px;\n",
       "  margin: -1px;\n",
       "  overflow: hidden;\n",
       "  padding: 0;\n",
       "  position: absolute;\n",
       "  width: 1px;\n",
       "}\n",
       "\n",
       "#sk-container-id-2 div.sk-dashed-wrapped {\n",
       "  border: 1px dashed var(--sklearn-color-line);\n",
       "  margin: 0 0.4em 0.5em 0.4em;\n",
       "  box-sizing: border-box;\n",
       "  padding-bottom: 0.4em;\n",
       "  background-color: var(--sklearn-color-background);\n",
       "}\n",
       "\n",
       "#sk-container-id-2 div.sk-container {\n",
       "  /* jupyter's `normalize.less` sets `[hidden] { display: none; }`\n",
       "     but bootstrap.min.css set `[hidden] { display: none !important; }`\n",
       "     so we also need the `!important` here to be able to override the\n",
       "     default hidden behavior on the sphinx rendered scikit-learn.org.\n",
       "     See: https://github.com/scikit-learn/scikit-learn/issues/21755 */\n",
       "  display: inline-block !important;\n",
       "  position: relative;\n",
       "}\n",
       "\n",
       "#sk-container-id-2 div.sk-text-repr-fallback {\n",
       "  display: none;\n",
       "}\n",
       "\n",
       "div.sk-parallel-item,\n",
       "div.sk-serial,\n",
       "div.sk-item {\n",
       "  /* draw centered vertical line to link estimators */\n",
       "  background-image: linear-gradient(var(--sklearn-color-text-on-default-background), var(--sklearn-color-text-on-default-background));\n",
       "  background-size: 2px 100%;\n",
       "  background-repeat: no-repeat;\n",
       "  background-position: center center;\n",
       "}\n",
       "\n",
       "/* Parallel-specific style estimator block */\n",
       "\n",
       "#sk-container-id-2 div.sk-parallel-item::after {\n",
       "  content: \"\";\n",
       "  width: 100%;\n",
       "  border-bottom: 2px solid var(--sklearn-color-text-on-default-background);\n",
       "  flex-grow: 1;\n",
       "}\n",
       "\n",
       "#sk-container-id-2 div.sk-parallel {\n",
       "  display: flex;\n",
       "  align-items: stretch;\n",
       "  justify-content: center;\n",
       "  background-color: var(--sklearn-color-background);\n",
       "  position: relative;\n",
       "}\n",
       "\n",
       "#sk-container-id-2 div.sk-parallel-item {\n",
       "  display: flex;\n",
       "  flex-direction: column;\n",
       "}\n",
       "\n",
       "#sk-container-id-2 div.sk-parallel-item:first-child::after {\n",
       "  align-self: flex-end;\n",
       "  width: 50%;\n",
       "}\n",
       "\n",
       "#sk-container-id-2 div.sk-parallel-item:last-child::after {\n",
       "  align-self: flex-start;\n",
       "  width: 50%;\n",
       "}\n",
       "\n",
       "#sk-container-id-2 div.sk-parallel-item:only-child::after {\n",
       "  width: 0;\n",
       "}\n",
       "\n",
       "/* Serial-specific style estimator block */\n",
       "\n",
       "#sk-container-id-2 div.sk-serial {\n",
       "  display: flex;\n",
       "  flex-direction: column;\n",
       "  align-items: center;\n",
       "  background-color: var(--sklearn-color-background);\n",
       "  padding-right: 1em;\n",
       "  padding-left: 1em;\n",
       "}\n",
       "\n",
       "\n",
       "/* Toggleable style: style used for estimator/Pipeline/ColumnTransformer box that is\n",
       "clickable and can be expanded/collapsed.\n",
       "- Pipeline and ColumnTransformer use this feature and define the default style\n",
       "- Estimators will overwrite some part of the style using the `sk-estimator` class\n",
       "*/\n",
       "\n",
       "/* Pipeline and ColumnTransformer style (default) */\n",
       "\n",
       "#sk-container-id-2 div.sk-toggleable {\n",
       "  /* Default theme specific background. It is overwritten whether we have a\n",
       "  specific estimator or a Pipeline/ColumnTransformer */\n",
       "  background-color: var(--sklearn-color-background);\n",
       "}\n",
       "\n",
       "/* Toggleable label */\n",
       "#sk-container-id-2 label.sk-toggleable__label {\n",
       "  cursor: pointer;\n",
       "  display: block;\n",
       "  width: 100%;\n",
       "  margin-bottom: 0;\n",
       "  padding: 0.5em;\n",
       "  box-sizing: border-box;\n",
       "  text-align: center;\n",
       "}\n",
       "\n",
       "#sk-container-id-2 label.sk-toggleable__label-arrow:before {\n",
       "  /* Arrow on the left of the label */\n",
       "  content: \"▸\";\n",
       "  float: left;\n",
       "  margin-right: 0.25em;\n",
       "  color: var(--sklearn-color-icon);\n",
       "}\n",
       "\n",
       "#sk-container-id-2 label.sk-toggleable__label-arrow:hover:before {\n",
       "  color: var(--sklearn-color-text);\n",
       "}\n",
       "\n",
       "/* Toggleable content - dropdown */\n",
       "\n",
       "#sk-container-id-2 div.sk-toggleable__content {\n",
       "  max-height: 0;\n",
       "  max-width: 0;\n",
       "  overflow: hidden;\n",
       "  text-align: left;\n",
       "  /* unfitted */\n",
       "  background-color: var(--sklearn-color-unfitted-level-0);\n",
       "}\n",
       "\n",
       "#sk-container-id-2 div.sk-toggleable__content.fitted {\n",
       "  /* fitted */\n",
       "  background-color: var(--sklearn-color-fitted-level-0);\n",
       "}\n",
       "\n",
       "#sk-container-id-2 div.sk-toggleable__content pre {\n",
       "  margin: 0.2em;\n",
       "  border-radius: 0.25em;\n",
       "  color: var(--sklearn-color-text);\n",
       "  /* unfitted */\n",
       "  background-color: var(--sklearn-color-unfitted-level-0);\n",
       "}\n",
       "\n",
       "#sk-container-id-2 div.sk-toggleable__content.fitted pre {\n",
       "  /* unfitted */\n",
       "  background-color: var(--sklearn-color-fitted-level-0);\n",
       "}\n",
       "\n",
       "#sk-container-id-2 input.sk-toggleable__control:checked~div.sk-toggleable__content {\n",
       "  /* Expand drop-down */\n",
       "  max-height: 200px;\n",
       "  max-width: 100%;\n",
       "  overflow: auto;\n",
       "}\n",
       "\n",
       "#sk-container-id-2 input.sk-toggleable__control:checked~label.sk-toggleable__label-arrow:before {\n",
       "  content: \"▾\";\n",
       "}\n",
       "\n",
       "/* Pipeline/ColumnTransformer-specific style */\n",
       "\n",
       "#sk-container-id-2 div.sk-label input.sk-toggleable__control:checked~label.sk-toggleable__label {\n",
       "  color: var(--sklearn-color-text);\n",
       "  background-color: var(--sklearn-color-unfitted-level-2);\n",
       "}\n",
       "\n",
       "#sk-container-id-2 div.sk-label.fitted input.sk-toggleable__control:checked~label.sk-toggleable__label {\n",
       "  background-color: var(--sklearn-color-fitted-level-2);\n",
       "}\n",
       "\n",
       "/* Estimator-specific style */\n",
       "\n",
       "/* Colorize estimator box */\n",
       "#sk-container-id-2 div.sk-estimator input.sk-toggleable__control:checked~label.sk-toggleable__label {\n",
       "  /* unfitted */\n",
       "  background-color: var(--sklearn-color-unfitted-level-2);\n",
       "}\n",
       "\n",
       "#sk-container-id-2 div.sk-estimator.fitted input.sk-toggleable__control:checked~label.sk-toggleable__label {\n",
       "  /* fitted */\n",
       "  background-color: var(--sklearn-color-fitted-level-2);\n",
       "}\n",
       "\n",
       "#sk-container-id-2 div.sk-label label.sk-toggleable__label,\n",
       "#sk-container-id-2 div.sk-label label {\n",
       "  /* The background is the default theme color */\n",
       "  color: var(--sklearn-color-text-on-default-background);\n",
       "}\n",
       "\n",
       "/* On hover, darken the color of the background */\n",
       "#sk-container-id-2 div.sk-label:hover label.sk-toggleable__label {\n",
       "  color: var(--sklearn-color-text);\n",
       "  background-color: var(--sklearn-color-unfitted-level-2);\n",
       "}\n",
       "\n",
       "/* Label box, darken color on hover, fitted */\n",
       "#sk-container-id-2 div.sk-label.fitted:hover label.sk-toggleable__label.fitted {\n",
       "  color: var(--sklearn-color-text);\n",
       "  background-color: var(--sklearn-color-fitted-level-2);\n",
       "}\n",
       "\n",
       "/* Estimator label */\n",
       "\n",
       "#sk-container-id-2 div.sk-label label {\n",
       "  font-family: monospace;\n",
       "  font-weight: bold;\n",
       "  display: inline-block;\n",
       "  line-height: 1.2em;\n",
       "}\n",
       "\n",
       "#sk-container-id-2 div.sk-label-container {\n",
       "  text-align: center;\n",
       "}\n",
       "\n",
       "/* Estimator-specific */\n",
       "#sk-container-id-2 div.sk-estimator {\n",
       "  font-family: monospace;\n",
       "  border: 1px dotted var(--sklearn-color-border-box);\n",
       "  border-radius: 0.25em;\n",
       "  box-sizing: border-box;\n",
       "  margin-bottom: 0.5em;\n",
       "  /* unfitted */\n",
       "  background-color: var(--sklearn-color-unfitted-level-0);\n",
       "}\n",
       "\n",
       "#sk-container-id-2 div.sk-estimator.fitted {\n",
       "  /* fitted */\n",
       "  background-color: var(--sklearn-color-fitted-level-0);\n",
       "}\n",
       "\n",
       "/* on hover */\n",
       "#sk-container-id-2 div.sk-estimator:hover {\n",
       "  /* unfitted */\n",
       "  background-color: var(--sklearn-color-unfitted-level-2);\n",
       "}\n",
       "\n",
       "#sk-container-id-2 div.sk-estimator.fitted:hover {\n",
       "  /* fitted */\n",
       "  background-color: var(--sklearn-color-fitted-level-2);\n",
       "}\n",
       "\n",
       "/* Specification for estimator info (e.g. \"i\" and \"?\") */\n",
       "\n",
       "/* Common style for \"i\" and \"?\" */\n",
       "\n",
       ".sk-estimator-doc-link,\n",
       "a:link.sk-estimator-doc-link,\n",
       "a:visited.sk-estimator-doc-link {\n",
       "  float: right;\n",
       "  font-size: smaller;\n",
       "  line-height: 1em;\n",
       "  font-family: monospace;\n",
       "  background-color: var(--sklearn-color-background);\n",
       "  border-radius: 1em;\n",
       "  height: 1em;\n",
       "  width: 1em;\n",
       "  text-decoration: none !important;\n",
       "  margin-left: 1ex;\n",
       "  /* unfitted */\n",
       "  border: var(--sklearn-color-unfitted-level-1) 1pt solid;\n",
       "  color: var(--sklearn-color-unfitted-level-1);\n",
       "}\n",
       "\n",
       ".sk-estimator-doc-link.fitted,\n",
       "a:link.sk-estimator-doc-link.fitted,\n",
       "a:visited.sk-estimator-doc-link.fitted {\n",
       "  /* fitted */\n",
       "  border: var(--sklearn-color-fitted-level-1) 1pt solid;\n",
       "  color: var(--sklearn-color-fitted-level-1);\n",
       "}\n",
       "\n",
       "/* On hover */\n",
       "div.sk-estimator:hover .sk-estimator-doc-link:hover,\n",
       ".sk-estimator-doc-link:hover,\n",
       "div.sk-label-container:hover .sk-estimator-doc-link:hover,\n",
       ".sk-estimator-doc-link:hover {\n",
       "  /* unfitted */\n",
       "  background-color: var(--sklearn-color-unfitted-level-3);\n",
       "  color: var(--sklearn-color-background);\n",
       "  text-decoration: none;\n",
       "}\n",
       "\n",
       "div.sk-estimator.fitted:hover .sk-estimator-doc-link.fitted:hover,\n",
       ".sk-estimator-doc-link.fitted:hover,\n",
       "div.sk-label-container:hover .sk-estimator-doc-link.fitted:hover,\n",
       ".sk-estimator-doc-link.fitted:hover {\n",
       "  /* fitted */\n",
       "  background-color: var(--sklearn-color-fitted-level-3);\n",
       "  color: var(--sklearn-color-background);\n",
       "  text-decoration: none;\n",
       "}\n",
       "\n",
       "/* Span, style for the box shown on hovering the info icon */\n",
       ".sk-estimator-doc-link span {\n",
       "  display: none;\n",
       "  z-index: 9999;\n",
       "  position: relative;\n",
       "  font-weight: normal;\n",
       "  right: .2ex;\n",
       "  padding: .5ex;\n",
       "  margin: .5ex;\n",
       "  width: min-content;\n",
       "  min-width: 20ex;\n",
       "  max-width: 50ex;\n",
       "  color: var(--sklearn-color-text);\n",
       "  box-shadow: 2pt 2pt 4pt #999;\n",
       "  /* unfitted */\n",
       "  background: var(--sklearn-color-unfitted-level-0);\n",
       "  border: .5pt solid var(--sklearn-color-unfitted-level-3);\n",
       "}\n",
       "\n",
       ".sk-estimator-doc-link.fitted span {\n",
       "  /* fitted */\n",
       "  background: var(--sklearn-color-fitted-level-0);\n",
       "  border: var(--sklearn-color-fitted-level-3);\n",
       "}\n",
       "\n",
       ".sk-estimator-doc-link:hover span {\n",
       "  display: block;\n",
       "}\n",
       "\n",
       "/* \"?\"-specific style due to the `<a>` HTML tag */\n",
       "\n",
       "#sk-container-id-2 a.estimator_doc_link {\n",
       "  float: right;\n",
       "  font-size: 1rem;\n",
       "  line-height: 1em;\n",
       "  font-family: monospace;\n",
       "  background-color: var(--sklearn-color-background);\n",
       "  border-radius: 1rem;\n",
       "  height: 1rem;\n",
       "  width: 1rem;\n",
       "  text-decoration: none;\n",
       "  /* unfitted */\n",
       "  color: var(--sklearn-color-unfitted-level-1);\n",
       "  border: var(--sklearn-color-unfitted-level-1) 1pt solid;\n",
       "}\n",
       "\n",
       "#sk-container-id-2 a.estimator_doc_link.fitted {\n",
       "  /* fitted */\n",
       "  border: var(--sklearn-color-fitted-level-1) 1pt solid;\n",
       "  color: var(--sklearn-color-fitted-level-1);\n",
       "}\n",
       "\n",
       "/* On hover */\n",
       "#sk-container-id-2 a.estimator_doc_link:hover {\n",
       "  /* unfitted */\n",
       "  background-color: var(--sklearn-color-unfitted-level-3);\n",
       "  color: var(--sklearn-color-background);\n",
       "  text-decoration: none;\n",
       "}\n",
       "\n",
       "#sk-container-id-2 a.estimator_doc_link.fitted:hover {\n",
       "  /* fitted */\n",
       "  background-color: var(--sklearn-color-fitted-level-3);\n",
       "}\n",
       "</style><div id=\"sk-container-id-2\" class=\"sk-top-container\"><div class=\"sk-text-repr-fallback\"><pre>RandomForestClassifier(n_estimators=200)</pre><b>In a Jupyter environment, please rerun this cell to show the HTML representation or trust the notebook. <br />On GitHub, the HTML representation is unable to render, please try loading this page with nbviewer.org.</b></div><div class=\"sk-container\" hidden><div class=\"sk-item\"><div class=\"sk-estimator fitted sk-toggleable\"><input class=\"sk-toggleable__control sk-hidden--visually\" id=\"sk-estimator-id-2\" type=\"checkbox\" checked><label for=\"sk-estimator-id-2\" class=\"sk-toggleable__label fitted sk-toggleable__label-arrow fitted\">&nbsp;&nbsp;RandomForestClassifier<a class=\"sk-estimator-doc-link fitted\" rel=\"noreferrer\" target=\"_blank\" href=\"https://scikit-learn.org/1.5/modules/generated/sklearn.ensemble.RandomForestClassifier.html\">?<span>Documentation for RandomForestClassifier</span></a><span class=\"sk-estimator-doc-link fitted\">i<span>Fitted</span></span></label><div class=\"sk-toggleable__content fitted\"><pre>RandomForestClassifier(n_estimators=200)</pre></div> </div></div></div></div>"
      ]
     },
     "execution_count": 70,
     "metadata": {},
     "output_type": "execute_result"
    }
   ],
   "execution_count": 70
  },
  {
   "metadata": {},
   "cell_type": "markdown",
   "source": "RandomForestClassifier'daki n_estimators parametresi, modelin kaç adet karar ağacından oluşacağını belirtir. Örneğin, n_estimators=100 demek, rastgele orman modelinin 100 tane bağımsız karar ağacı içereceği anlamına gelir. Her ağaç, verilerin rastgele bir alt kümesi üzerinde eğitilir ve kendi tahminlerini yapar. Sonuçta tüm ağaçların tahminleri birleştirilerek nihai sınıflandırma kararı verilir. Daha fazla ağaç genelde daha iyi performans sağlar ama eğitim süresini de artırır.",
   "id": "eef8b308a68b4faa"
  },
  {
   "metadata": {
    "ExecuteTime": {
     "end_time": "2025-03-09T14:39:23.266271Z",
     "start_time": "2025-03-09T14:39:23.008413Z"
    }
   },
   "cell_type": "code",
   "source": "test_xx=vectorizer.transform(test_x)",
   "id": "763cc5eb9d66f120",
   "outputs": [],
   "execution_count": 64
  },
  {
   "metadata": {
    "ExecuteTime": {
     "end_time": "2025-03-09T14:39:33.361630Z",
     "start_time": "2025-03-09T14:39:33.331449Z"
    }
   },
   "cell_type": "code",
   "source": "test_xx=test_xx.toarray()",
   "id": "b4d244a887eb3297",
   "outputs": [],
   "execution_count": 65
  },
  {
   "metadata": {
    "ExecuteTime": {
     "end_time": "2025-03-09T14:40:01.408583Z",
     "start_time": "2025-03-09T14:40:01.400515Z"
    }
   },
   "cell_type": "code",
   "source": "test_xx.shape",
   "id": "94b0b1ee37cd732f",
   "outputs": [
    {
     "data": {
      "text/plain": [
       "(2500, 5000)"
      ]
     },
     "execution_count": 68,
     "metadata": {},
     "output_type": "execute_result"
    }
   ],
   "execution_count": 68
  },
  {
   "metadata": {
    "ExecuteTime": {
     "end_time": "2025-03-09T14:41:14.441940Z",
     "start_time": "2025-03-09T14:41:14.175043Z"
    }
   },
   "cell_type": "code",
   "source": [
    "test_prediction=model.predict(test_xx)\n",
    "dogruluk=roc_auc_score(test_y,test_prediction)\n",
    "print(\"Doğruluk Oranı : % \",dogruluk * 100)"
   ],
   "id": "e0578004e21e9e57",
   "outputs": [
    {
     "name": "stdout",
     "output_type": "stream",
     "text": [
      "Doğruluk Oranı : %  85.16314813676684\n"
     ]
    }
   ],
   "execution_count": 69
  }
 ],
 "metadata": {
  "kernelspec": {
   "display_name": "Python 3",
   "language": "python",
   "name": "python3"
  },
  "language_info": {
   "codemirror_mode": {
    "name": "ipython",
    "version": 2
   },
   "file_extension": ".py",
   "mimetype": "text/x-python",
   "name": "python",
   "nbconvert_exporter": "python",
   "pygments_lexer": "ipython2",
   "version": "2.7.6"
  }
 },
 "nbformat": 4,
 "nbformat_minor": 5
}
