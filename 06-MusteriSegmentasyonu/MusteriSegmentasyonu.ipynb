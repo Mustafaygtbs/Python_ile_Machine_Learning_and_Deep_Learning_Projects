{
 "cells": [
  {
   "metadata": {},
   "cell_type": "markdown",
   "source": "# K-Means Clustering",
   "id": "90e8c3b85e882f01"
  },
  {
   "metadata": {},
   "cell_type": "markdown",
   "source": [
    "Çok sayıdaki ham veriyi gruplara ayırmak için kullanılır.\n",
    "Ham veriler hakkında önceden sınıflandırma yapmamız gerekmektedir.\n",
    "\n",
    "K-Means, gözetimsiz öğrenme (unsupervised learning) algoritmalarından biridir ve özellikle kümeleme (clustering) işlemlerinde yaygın olarak kullanılır. Veriyi K farklı gruba ayırarak benzer özelliklere sahip verileri aynı kümede toplamayı amaçlar.\n",
    "\n",
    "## K-Means Algoritmasının Çalışma Prensibi\n",
    "Başlangıç Küme Merkezlerini (Centroids) Belirleme:\n",
    "\n",
    "Küme sayısı K belirlenir.\n",
    "\n",
    "Rastgele K tane başlangıç merkezi (centroid) seçilir.\n",
    "\n",
    "\n",
    "Her Noktanın En Yakın Küme Merkezine Atanması:\n",
    "\n",
    "Her veri noktası, kendisine en yakın olan küme merkezine atanır.\n",
    "\n",
    "Bunun için genellikle Öklid Mesafesi (Euclidean Distance) kullanılır.\n",
    "\n",
    "\n",
    "Küme Merkezlerini Güncelleme:\n",
    "\n",
    "Küme merkezleri, küme içindeki noktaların ortalaması alınarak güncellenir.\n",
    "\n",
    "\n",
    "Adımları Tekrarlama:\n",
    "\n",
    "Veri noktalarının kümeleri değişmediği ya da küme merkezleri sabit kalana kadar adımlar tekrar edilir.\n"
   ],
   "id": "1f8ef1a351393718"
  },
  {
   "metadata": {},
   "cell_type": "markdown",
   "source": [
    "✅ Avantajları\n",
    "\n",
    "✔ Basit ve hızlı bir algoritmadır.\n",
    "\n",
    "✔ Büyük veri kümelerinde verimli çalışır.\n",
    "\n",
    "✔ Çoğu kümeleme problemlerinde başarılıdır.\n",
    "\n",
    "\n",
    "❌ Dezavantajları\n",
    "\n",
    "✖ K değeri önceden belirlenmelidir (yanlış K seçimi kötü sonuçlara yol açabilir).\n",
    "\n",
    "✖ Başlangıç küme merkezleri rastgele seçildiğinden farklı sonuçlar üretebilir.\n",
    "\n",
    "✖ Ölçeklendirilmemiş verilerde kötü performans gösterebilir (Öncesinde ölçeklendirme yapılmalıdır).\n",
    "K-Means, gözetimsiz öğrenme yöntemlerinden en popüler olanlarından biridir. Doğru K değerini belirleyerek ve veriyi uygun şekilde ölçeklendirerek etkili sonuçlar alınaiblir."
   ],
   "id": "a33afe89922e50af"
  },
  {
   "metadata": {},
   "cell_type": "markdown",
   "source": "!!! K değerini belirlerken elbow metodu kullanılır. K değerleri distortion değerleri ile birlikte grafiğe döktünüzde dirsek noktasında bulunan K değeri en optimal K değeri olarak kabul edilir.",
   "id": "4b4fce71b69caf5f"
  },
  {
   "metadata": {
    "ExecuteTime": {
     "end_time": "2025-03-03T22:52:16.908913Z",
     "start_time": "2025-03-03T22:52:12.510639Z"
    }
   },
   "cell_type": "code",
   "source": [
    "import pandas as pd\n",
    "from sklearn.cluster import KMeans\n",
    "from sklearn.preprocessing import MinMaxScaler\n",
    "import matplotlib.pyplot as plt\n",
    "\n",
    "df=pd.read_csv(\"Avm_Musterileri.csv\")\n",
    "df.head()"
   ],
   "id": "2fb753e5aa325658",
   "outputs": [
    {
     "data": {
      "text/plain": [
       "   CustomerID  Annual Income (k$)  Spending Score (1-100)\n",
       "0           1                  15                      39\n",
       "1           2                  15                      81\n",
       "2           3                  16                       6\n",
       "3           4                  16                      77\n",
       "4           5                  17                      40"
      ],
      "text/html": [
       "<div>\n",
       "<style scoped>\n",
       "    .dataframe tbody tr th:only-of-type {\n",
       "        vertical-align: middle;\n",
       "    }\n",
       "\n",
       "    .dataframe tbody tr th {\n",
       "        vertical-align: top;\n",
       "    }\n",
       "\n",
       "    .dataframe thead th {\n",
       "        text-align: right;\n",
       "    }\n",
       "</style>\n",
       "<table border=\"1\" class=\"dataframe\">\n",
       "  <thead>\n",
       "    <tr style=\"text-align: right;\">\n",
       "      <th></th>\n",
       "      <th>CustomerID</th>\n",
       "      <th>Annual Income (k$)</th>\n",
       "      <th>Spending Score (1-100)</th>\n",
       "    </tr>\n",
       "  </thead>\n",
       "  <tbody>\n",
       "    <tr>\n",
       "      <th>0</th>\n",
       "      <td>1</td>\n",
       "      <td>15</td>\n",
       "      <td>39</td>\n",
       "    </tr>\n",
       "    <tr>\n",
       "      <th>1</th>\n",
       "      <td>2</td>\n",
       "      <td>15</td>\n",
       "      <td>81</td>\n",
       "    </tr>\n",
       "    <tr>\n",
       "      <th>2</th>\n",
       "      <td>3</td>\n",
       "      <td>16</td>\n",
       "      <td>6</td>\n",
       "    </tr>\n",
       "    <tr>\n",
       "      <th>3</th>\n",
       "      <td>4</td>\n",
       "      <td>16</td>\n",
       "      <td>77</td>\n",
       "    </tr>\n",
       "    <tr>\n",
       "      <th>4</th>\n",
       "      <td>5</td>\n",
       "      <td>17</td>\n",
       "      <td>40</td>\n",
       "    </tr>\n",
       "  </tbody>\n",
       "</table>\n",
       "</div>"
      ]
     },
     "execution_count": 1,
     "metadata": {},
     "output_type": "execute_result"
    }
   ],
   "execution_count": 1
  },
  {
   "metadata": {
    "ExecuteTime": {
     "end_time": "2025-03-03T22:52:18.664279Z",
     "start_time": "2025-03-03T22:52:18.368492Z"
    }
   },
   "cell_type": "code",
   "source": [
    "plt.scatter(df[\"Annual Income (k$)\"], df[\"Spending Score (1-100)\"])\n",
    "plt.xlabel(\"Annual Income (k$)\")\n",
    "plt.ylabel(\"Spending Score (1-100)\")\n",
    "plt.show()"
   ],
   "id": "9371cf276fe46dbc",
   "outputs": [
    {
     "data": {
      "text/plain": [
       "<Figure size 640x480 with 1 Axes>"
      ],
      "image/png": "[encoded data removed]"
     },
     "metadata": {},
     "output_type": "display_data"
    }
   ],
   "execution_count": 2
  },
  {
   "metadata": {
    "ExecuteTime": {
     "end_time": "2025-03-03T22:52:19.490836Z",
     "start_time": "2025-03-03T22:52:19.480485Z"
    }
   },
   "cell_type": "code",
   "source": [
    "df.rename(columns={\"Annual Income (k$)\":\"income\"},inplace=True)\n",
    "df.rename(columns={\"Spending Score (1-100)\":\"score\"},inplace=True)"
   ],
   "id": "243607436dcde9cc",
   "outputs": [],
   "execution_count": 3
  },
  {
   "metadata": {
    "ExecuteTime": {
     "end_time": "2025-03-03T22:52:20.099438Z",
     "start_time": "2025-03-03T22:52:20.070691Z"
    }
   },
   "cell_type": "code",
   "source": [
    "scaller=MinMaxScaler()\n",
    "scaller.fit(df[[\"income\"]])\n",
    "df[\"income\"]=scaller.transform(df[[\"income\"]])\n",
    "\n",
    "scaller.fit(df[[\"score\"]])\n",
    "df[\"score\"]=scaller.transform(df[[\"score\"]])\n",
    "df.head()"
   ],
   "id": "4a508aa8c14abfae",
   "outputs": [
    {
     "data": {
      "text/plain": [
       "   CustomerID    income     score\n",
       "0           1  0.000000  0.387755\n",
       "1           2  0.000000  0.816327\n",
       "2           3  0.008197  0.051020\n",
       "3           4  0.008197  0.775510\n",
       "4           5  0.016393  0.397959"
      ],
      "text/html": [
       "<div>\n",
       "<style scoped>\n",
       "    .dataframe tbody tr th:only-of-type {\n",
       "        vertical-align: middle;\n",
       "    }\n",
       "\n",
       "    .dataframe tbody tr th {\n",
       "        vertical-align: top;\n",
       "    }\n",
       "\n",
       "    .dataframe thead th {\n",
       "        text-align: right;\n",
       "    }\n",
       "</style>\n",
       "<table border=\"1\" class=\"dataframe\">\n",
       "  <thead>\n",
       "    <tr style=\"text-align: right;\">\n",
       "      <th></th>\n",
       "      <th>CustomerID</th>\n",
       "      <th>income</th>\n",
       "      <th>score</th>\n",
       "    </tr>\n",
       "  </thead>\n",
       "  <tbody>\n",
       "    <tr>\n",
       "      <th>0</th>\n",
       "      <td>1</td>\n",
       "      <td>0.000000</td>\n",
       "      <td>0.387755</td>\n",
       "    </tr>\n",
       "    <tr>\n",
       "      <th>1</th>\n",
       "      <td>2</td>\n",
       "      <td>0.000000</td>\n",
       "      <td>0.816327</td>\n",
       "    </tr>\n",
       "    <tr>\n",
       "      <th>2</th>\n",
       "      <td>3</td>\n",
       "      <td>0.008197</td>\n",
       "      <td>0.051020</td>\n",
       "    </tr>\n",
       "    <tr>\n",
       "      <th>3</th>\n",
       "      <td>4</td>\n",
       "      <td>0.008197</td>\n",
       "      <td>0.775510</td>\n",
       "    </tr>\n",
       "    <tr>\n",
       "      <th>4</th>\n",
       "      <td>5</td>\n",
       "      <td>0.016393</td>\n",
       "      <td>0.397959</td>\n",
       "    </tr>\n",
       "  </tbody>\n",
       "</table>\n",
       "</div>"
      ]
     },
     "execution_count": 4,
     "metadata": {},
     "output_type": "execute_result"
    }
   ],
   "execution_count": 4
  },
  {
   "metadata": {},
   "cell_type": "markdown",
   "source": "Elbow yöntemi kullanılarak K değerini belirleyelim.",
   "id": "e9729f2dd2cbf71c"
  },
  {
   "metadata": {
    "ExecuteTime": {
     "end_time": "2025-03-03T22:52:23.001254Z",
     "start_time": "2025-03-03T22:52:22.810964Z"
    }
   },
   "cell_type": "code",
   "source": [
    "k_range=range(1,11)\n",
    "\n",
    "list_dist=[]\n",
    "\n",
    "for k in k_range:\n",
    "    kmeans_model=KMeans(n_clusters=k, n_init=\"auto\")\n",
    "    kmeans_model.fit(df[[\"income\",\"score\"]])\n",
    "    list_dist.append(kmeans_model.inertia_)"
   ],
   "id": "dc73d67dda6ded4",
   "outputs": [],
   "execution_count": 5
  },
  {
   "metadata": {},
   "cell_type": "markdown",
   "source": "Windows’ta K-Means bellek sızıntısı sorununu kalıcı olarak çözmek için ortam değişkenlerini ayarlayabilirsin. Bunun için **Başlat menüsüne** “Edit the system environment variables” yazarak açılan pencereye gir. **\"Advanced\" (Gelişmiş) sekmesine** git ve **\"Environment Variables...\" (Ortam Değişkenleri...)** butonuna tıkla. Açılan pencerede **\"System Variables\" (Sistem Değişkenleri)** bölümüne gel ve **\"New...\" (Yeni...)** butonuna bas. Değişken adı kısmına **`OMP_NUM_THREADS`**, değişken değeri kısmına ise **`1`** yaz ve **OK** butonuna basarak değişikliği kaydet. Tüm pencereleri kapattıktan sonra bilgisayarını yeniden başlat. Değişikliğin başarıyla uygulandığını kontrol etmek için **Komut İstemi (CMD)** aç ve şu komutu çalıştır: `echo %OMP_NUM_THREADS%`. Eğer çıktı olarak `1` görüyorsan işlem başarıyla tamamlanmıştır. Bilgisayarını yeniden başlatmayı unutma",
   "id": "145a9afc31115cf"
  },
  {
   "metadata": {
    "ExecuteTime": {
     "end_time": "2025-03-03T22:56:51.553232Z",
     "start_time": "2025-03-03T22:56:51.253230Z"
    }
   },
   "cell_type": "code",
   "source": [
    "plt.xlabel(\"K\")\n",
    "plt.ylabel(\"Distortion Değeri\")\n",
    "plt.plot(k_range,list_dist)\n",
    "plt.savefig(\"ElbowDirsekNoktası.png\",dpi=300)\n",
    "plt.show()"
   ],
   "id": "35329a69fb7847a0",
   "outputs": [
    {
     "data": {
      "text/plain": [
       "<Figure size 640x480 with 1 Axes>"
      ],
      "image/png": "[encoded data removed]"
     },
     "metadata": {},
     "output_type": "display_data"
    }
   ],
   "execution_count": 7
  },
  {
   "metadata": {
    "ExecuteTime": {
     "end_time": "2025-03-03T22:58:05.466362Z",
     "start_time": "2025-03-03T22:58:05.454463Z"
    }
   },
   "cell_type": "code",
   "source": [
    "# en uygun K değeri 5.\n",
    "kmeans_model=KMeans(n_clusters=5)\n",
    "y_predicted=kmeans_model.fit_predict(df[[\"income\",\"score\"]])\n",
    "y_predicted"
   ],
   "id": "ff2c7a9c281945af",
   "outputs": [
    {
     "data": {
      "text/plain": [
       "array([4, 3, 4, 3, 4, 3, 4, 3, 4, 3, 4, 3, 4, 3, 4, 3, 4, 3, 4, 3, 4, 3,\n",
       "       4, 3, 4, 3, 4, 3, 4, 3, 4, 3, 4, 3, 4, 3, 4, 3, 4, 3, 4, 3, 0, 0,\n",
       "       4, 3, 0, 0, 0, 0, 0, 0, 0, 0, 0, 0, 0, 0, 0, 0, 0, 0, 0, 0, 0, 0,\n",
       "       0, 0, 0, 0, 0, 0, 0, 0, 0, 0, 0, 0, 0, 0, 0, 0, 0, 0, 0, 0, 0, 0,\n",
       "       0, 0, 0, 0, 0, 0, 0, 0, 0, 0, 0, 0, 0, 0, 0, 0, 0, 0, 0, 0, 0, 0,\n",
       "       0, 0, 0, 0, 0, 0, 0, 0, 0, 0, 0, 0, 0, 2, 1, 2, 0, 2, 1, 2, 1, 2,\n",
       "       0, 2, 1, 2, 1, 2, 1, 2, 1, 2, 0, 2, 1, 2, 1, 2, 1, 2, 1, 2, 1, 2,\n",
       "       1, 2, 1, 2, 1, 2, 1, 2, 1, 2, 1, 2, 1, 2, 1, 2, 1, 2, 1, 2, 1, 2,\n",
       "       1, 2, 1, 2, 1, 2, 1, 2, 1, 2, 1, 2, 1, 2, 1, 2, 1, 2, 1, 2, 1, 2,\n",
       "       1, 2])"
      ]
     },
     "execution_count": 9,
     "metadata": {},
     "output_type": "execute_result"
    }
   ],
   "execution_count": 9
  },
  {
   "metadata": {
    "ExecuteTime": {
     "end_time": "2025-03-03T22:58:38.366425Z",
     "start_time": "2025-03-03T22:58:38.355902Z"
    }
   },
   "cell_type": "code",
   "source": [
    "df[\"cluster\"]=y_predicted\n",
    "df.head()"
   ],
   "id": "f33a108100fb685c",
   "outputs": [
    {
     "data": {
      "text/plain": [
       "   CustomerID    income     score  cluster\n",
       "0           1  0.000000  0.387755        4\n",
       "1           2  0.000000  0.816327        3\n",
       "2           3  0.008197  0.051020        4\n",
       "3           4  0.008197  0.775510        3\n",
       "4           5  0.016393  0.397959        4"
      ],
      "text/html": [
       "<div>\n",
       "<style scoped>\n",
       "    .dataframe tbody tr th:only-of-type {\n",
       "        vertical-align: middle;\n",
       "    }\n",
       "\n",
       "    .dataframe tbody tr th {\n",
       "        vertical-align: top;\n",
       "    }\n",
       "\n",
       "    .dataframe thead th {\n",
       "        text-align: right;\n",
       "    }\n",
       "</style>\n",
       "<table border=\"1\" class=\"dataframe\">\n",
       "  <thead>\n",
       "    <tr style=\"text-align: right;\">\n",
       "      <th></th>\n",
       "      <th>CustomerID</th>\n",
       "      <th>income</th>\n",
       "      <th>score</th>\n",
       "      <th>cluster</th>\n",
       "    </tr>\n",
       "  </thead>\n",
       "  <tbody>\n",
       "    <tr>\n",
       "      <th>0</th>\n",
       "      <td>1</td>\n",
       "      <td>0.000000</td>\n",
       "      <td>0.387755</td>\n",
       "      <td>4</td>\n",
       "    </tr>\n",
       "    <tr>\n",
       "      <th>1</th>\n",
       "      <td>2</td>\n",
       "      <td>0.000000</td>\n",
       "      <td>0.816327</td>\n",
       "      <td>3</td>\n",
       "    </tr>\n",
       "    <tr>\n",
       "      <th>2</th>\n",
       "      <td>3</td>\n",
       "      <td>0.008197</td>\n",
       "      <td>0.051020</td>\n",
       "      <td>4</td>\n",
       "    </tr>\n",
       "    <tr>\n",
       "      <th>3</th>\n",
       "      <td>4</td>\n",
       "      <td>0.008197</td>\n",
       "      <td>0.775510</td>\n",
       "      <td>3</td>\n",
       "    </tr>\n",
       "    <tr>\n",
       "      <th>4</th>\n",
       "      <td>5</td>\n",
       "      <td>0.016393</td>\n",
       "      <td>0.397959</td>\n",
       "      <td>4</td>\n",
       "    </tr>\n",
       "  </tbody>\n",
       "</table>\n",
       "</div>"
      ]
     },
     "execution_count": 10,
     "metadata": {},
     "output_type": "execute_result"
    }
   ],
   "execution_count": 10
  },
  {
   "metadata": {
    "ExecuteTime": {
     "end_time": "2025-03-03T22:59:01.837604Z",
     "start_time": "2025-03-03T22:59:01.831372Z"
    }
   },
   "cell_type": "code",
   "source": "kmeans_model.cluster_centers_",
   "id": "c6ac6ca192b6942f",
   "outputs": [
    {
     "data": {
      "text/plain": [
       "array([[0.32866853, 0.49340468],\n",
       "       [0.6       , 0.16443149],\n",
       "       [0.58638083, 0.82783883],\n",
       "       [0.08792846, 0.79962894],\n",
       "       [0.08792846, 0.19619666]])"
      ]
     },
     "execution_count": 11,
     "metadata": {},
     "output_type": "execute_result"
    }
   ],
   "execution_count": 11
  },
  {
   "metadata": {
    "ExecuteTime": {
     "end_time": "2025-03-03T23:05:36.337571Z",
     "start_time": "2025-03-03T23:05:36.097379Z"
    }
   },
   "cell_type": "code",
   "source": [
    "df1=df[df.cluster==0]\n",
    "df2=df[df.cluster==1]\n",
    "df3=df[df.cluster==2]\n",
    "df4=df[df.cluster==3]\n",
    "df5=df[df.cluster==4]\n",
    "\n",
    "plt.xlabel(\"income\")\n",
    "plt.ylabel(\"score\")\n",
    "\n",
    "plt.scatter(df1[\"income\"], df1[\"score\"],color=\"red\")\n",
    "plt.scatter(df2[\"income\"], df2[\"score\"],color=\"blue\")\n",
    "plt.scatter(df3[\"income\"], df3[\"score\"],color=\"green\")\n",
    "plt.scatter(df4[\"income\"], df4[\"score\"],color=\"purple\")\n",
    "plt.scatter(df5[\"income\"], df5[\"score\"],color=\"black\")\n",
    "\n",
    "plt.scatter(kmeans_model.cluster_centers_[:0],kmeans_model.cluster_centers_[:1],color=\"orange\",marker=\"*\")\n",
    "plt.legend()\n",
    "plt.show()"
   ],
   "id": "38da3b19b848857d",
   "outputs": [
    {
     "ename": "ValueError",
     "evalue": "x and y must be the same size",
     "output_type": "error",
     "traceback": [
      "\u001B[1;31m---------------------------------------------------------------------------\u001B[0m",
      "\u001B[1;31mValueError\u001B[0m                                Traceback (most recent call last)",
      "Cell \u001B[1;32mIn[14], line 16\u001B[0m\n\u001B[0;32m     13\u001B[0m plt\u001B[38;5;241m.\u001B[39mscatter(df4[\u001B[38;5;124m\"\u001B[39m\u001B[38;5;124mincome\u001B[39m\u001B[38;5;124m\"\u001B[39m], df4[\u001B[38;5;124m\"\u001B[39m\u001B[38;5;124mscore\u001B[39m\u001B[38;5;124m\"\u001B[39m],color\u001B[38;5;241m=\u001B[39m\u001B[38;5;124m\"\u001B[39m\u001B[38;5;124mpurple\u001B[39m\u001B[38;5;124m\"\u001B[39m)\n\u001B[0;32m     14\u001B[0m plt\u001B[38;5;241m.\u001B[39mscatter(df5[\u001B[38;5;124m\"\u001B[39m\u001B[38;5;124mincome\u001B[39m\u001B[38;5;124m\"\u001B[39m], df5[\u001B[38;5;124m\"\u001B[39m\u001B[38;5;124mscore\u001B[39m\u001B[38;5;124m\"\u001B[39m],color\u001B[38;5;241m=\u001B[39m\u001B[38;5;124m\"\u001B[39m\u001B[38;5;124mblack\u001B[39m\u001B[38;5;124m\"\u001B[39m)\n\u001B[1;32m---> 16\u001B[0m plt\u001B[38;5;241m.\u001B[39mscatter(kmeans_model\u001B[38;5;241m.\u001B[39mcluster_centers_[:\u001B[38;5;241m0\u001B[39m],kmeans_model\u001B[38;5;241m.\u001B[39mcluster_centers_[:\u001B[38;5;241m1\u001B[39m],color\u001B[38;5;241m=\u001B[39m\u001B[38;5;124m\"\u001B[39m\u001B[38;5;124morange\u001B[39m\u001B[38;5;124m\"\u001B[39m,marker\u001B[38;5;241m=\u001B[39m\u001B[38;5;124m\"\u001B[39m\u001B[38;5;124m*\u001B[39m\u001B[38;5;124m\"\u001B[39m)\n\u001B[0;32m     17\u001B[0m plt\u001B[38;5;241m.\u001B[39mlegend()\n\u001B[0;32m     18\u001B[0m plt\u001B[38;5;241m.\u001B[39msavefig(\u001B[38;5;124m\"\u001B[39m\u001B[38;5;124mK_MeansClustering.png\u001B[39m\u001B[38;5;124m\"\u001B[39m,dpi\u001B[38;5;241m=\u001B[39m\u001B[38;5;241m300\u001B[39m)\n",
      "File \u001B[1;32m~\\anaconda3\\Lib\\site-packages\\matplotlib\\pyplot.py:3903\u001B[0m, in \u001B[0;36mscatter\u001B[1;34m(x, y, s, c, marker, cmap, norm, vmin, vmax, alpha, linewidths, edgecolors, plotnonfinite, data, **kwargs)\u001B[0m\n\u001B[0;32m   3884\u001B[0m \u001B[38;5;129m@_copy_docstring_and_deprecators\u001B[39m(Axes\u001B[38;5;241m.\u001B[39mscatter)\n\u001B[0;32m   3885\u001B[0m \u001B[38;5;28;01mdef\u001B[39;00m \u001B[38;5;21mscatter\u001B[39m(\n\u001B[0;32m   3886\u001B[0m     x: \u001B[38;5;28mfloat\u001B[39m \u001B[38;5;241m|\u001B[39m ArrayLike,\n\u001B[1;32m   (...)\u001B[0m\n\u001B[0;32m   3901\u001B[0m     \u001B[38;5;241m*\u001B[39m\u001B[38;5;241m*\u001B[39mkwargs,\n\u001B[0;32m   3902\u001B[0m ) \u001B[38;5;241m-\u001B[39m\u001B[38;5;241m>\u001B[39m PathCollection:\n\u001B[1;32m-> 3903\u001B[0m     __ret \u001B[38;5;241m=\u001B[39m gca()\u001B[38;5;241m.\u001B[39mscatter(\n\u001B[0;32m   3904\u001B[0m         x,\n\u001B[0;32m   3905\u001B[0m         y,\n\u001B[0;32m   3906\u001B[0m         s\u001B[38;5;241m=\u001B[39ms,\n\u001B[0;32m   3907\u001B[0m         c\u001B[38;5;241m=\u001B[39mc,\n\u001B[0;32m   3908\u001B[0m         marker\u001B[38;5;241m=\u001B[39mmarker,\n\u001B[0;32m   3909\u001B[0m         cmap\u001B[38;5;241m=\u001B[39mcmap,\n\u001B[0;32m   3910\u001B[0m         norm\u001B[38;5;241m=\u001B[39mnorm,\n\u001B[0;32m   3911\u001B[0m         vmin\u001B[38;5;241m=\u001B[39mvmin,\n\u001B[0;32m   3912\u001B[0m         vmax\u001B[38;5;241m=\u001B[39mvmax,\n\u001B[0;32m   3913\u001B[0m         alpha\u001B[38;5;241m=\u001B[39malpha,\n\u001B[0;32m   3914\u001B[0m         linewidths\u001B[38;5;241m=\u001B[39mlinewidths,\n\u001B[0;32m   3915\u001B[0m         edgecolors\u001B[38;5;241m=\u001B[39medgecolors,\n\u001B[0;32m   3916\u001B[0m         plotnonfinite\u001B[38;5;241m=\u001B[39mplotnonfinite,\n\u001B[0;32m   3917\u001B[0m         \u001B[38;5;241m*\u001B[39m\u001B[38;5;241m*\u001B[39m({\u001B[38;5;124m\"\u001B[39m\u001B[38;5;124mdata\u001B[39m\u001B[38;5;124m\"\u001B[39m: data} \u001B[38;5;28;01mif\u001B[39;00m data \u001B[38;5;129;01mis\u001B[39;00m \u001B[38;5;129;01mnot\u001B[39;00m \u001B[38;5;28;01mNone\u001B[39;00m \u001B[38;5;28;01melse\u001B[39;00m {}),\n\u001B[0;32m   3918\u001B[0m         \u001B[38;5;241m*\u001B[39m\u001B[38;5;241m*\u001B[39mkwargs,\n\u001B[0;32m   3919\u001B[0m     )\n\u001B[0;32m   3920\u001B[0m     sci(__ret)\n\u001B[0;32m   3921\u001B[0m     \u001B[38;5;28;01mreturn\u001B[39;00m __ret\n",
      "File \u001B[1;32m~\\anaconda3\\Lib\\site-packages\\matplotlib\\__init__.py:1473\u001B[0m, in \u001B[0;36m_preprocess_data.<locals>.inner\u001B[1;34m(ax, data, *args, **kwargs)\u001B[0m\n\u001B[0;32m   1470\u001B[0m \u001B[38;5;129m@functools\u001B[39m\u001B[38;5;241m.\u001B[39mwraps(func)\n\u001B[0;32m   1471\u001B[0m \u001B[38;5;28;01mdef\u001B[39;00m \u001B[38;5;21minner\u001B[39m(ax, \u001B[38;5;241m*\u001B[39margs, data\u001B[38;5;241m=\u001B[39m\u001B[38;5;28;01mNone\u001B[39;00m, \u001B[38;5;241m*\u001B[39m\u001B[38;5;241m*\u001B[39mkwargs):\n\u001B[0;32m   1472\u001B[0m     \u001B[38;5;28;01mif\u001B[39;00m data \u001B[38;5;129;01mis\u001B[39;00m \u001B[38;5;28;01mNone\u001B[39;00m:\n\u001B[1;32m-> 1473\u001B[0m         \u001B[38;5;28;01mreturn\u001B[39;00m func(\n\u001B[0;32m   1474\u001B[0m             ax,\n\u001B[0;32m   1475\u001B[0m             \u001B[38;5;241m*\u001B[39m\u001B[38;5;28mmap\u001B[39m(sanitize_sequence, args),\n\u001B[0;32m   1476\u001B[0m             \u001B[38;5;241m*\u001B[39m\u001B[38;5;241m*\u001B[39m{k: sanitize_sequence(v) \u001B[38;5;28;01mfor\u001B[39;00m k, v \u001B[38;5;129;01min\u001B[39;00m kwargs\u001B[38;5;241m.\u001B[39mitems()})\n\u001B[0;32m   1478\u001B[0m     bound \u001B[38;5;241m=\u001B[39m new_sig\u001B[38;5;241m.\u001B[39mbind(ax, \u001B[38;5;241m*\u001B[39margs, \u001B[38;5;241m*\u001B[39m\u001B[38;5;241m*\u001B[39mkwargs)\n\u001B[0;32m   1479\u001B[0m     auto_label \u001B[38;5;241m=\u001B[39m (bound\u001B[38;5;241m.\u001B[39marguments\u001B[38;5;241m.\u001B[39mget(label_namer)\n\u001B[0;32m   1480\u001B[0m                   \u001B[38;5;129;01mor\u001B[39;00m bound\u001B[38;5;241m.\u001B[39mkwargs\u001B[38;5;241m.\u001B[39mget(label_namer))\n",
      "File \u001B[1;32m~\\anaconda3\\Lib\\site-packages\\matplotlib\\axes\\_axes.py:4787\u001B[0m, in \u001B[0;36mAxes.scatter\u001B[1;34m(self, x, y, s, c, marker, cmap, norm, vmin, vmax, alpha, linewidths, edgecolors, plotnonfinite, **kwargs)\u001B[0m\n\u001B[0;32m   4785\u001B[0m y \u001B[38;5;241m=\u001B[39m np\u001B[38;5;241m.\u001B[39mma\u001B[38;5;241m.\u001B[39mravel(y)\n\u001B[0;32m   4786\u001B[0m \u001B[38;5;28;01mif\u001B[39;00m x\u001B[38;5;241m.\u001B[39msize \u001B[38;5;241m!=\u001B[39m y\u001B[38;5;241m.\u001B[39msize:\n\u001B[1;32m-> 4787\u001B[0m     \u001B[38;5;28;01mraise\u001B[39;00m \u001B[38;5;167;01mValueError\u001B[39;00m(\u001B[38;5;124m\"\u001B[39m\u001B[38;5;124mx and y must be the same size\u001B[39m\u001B[38;5;124m\"\u001B[39m)\n\u001B[0;32m   4789\u001B[0m \u001B[38;5;28;01mif\u001B[39;00m s \u001B[38;5;129;01mis\u001B[39;00m \u001B[38;5;28;01mNone\u001B[39;00m:\n\u001B[0;32m   4790\u001B[0m     s \u001B[38;5;241m=\u001B[39m (\u001B[38;5;241m20\u001B[39m \u001B[38;5;28;01mif\u001B[39;00m mpl\u001B[38;5;241m.\u001B[39mrcParams[\u001B[38;5;124m'\u001B[39m\u001B[38;5;124m_internal.classic_mode\u001B[39m\u001B[38;5;124m'\u001B[39m] \u001B[38;5;28;01melse\u001B[39;00m\n\u001B[0;32m   4791\u001B[0m          mpl\u001B[38;5;241m.\u001B[39mrcParams[\u001B[38;5;124m'\u001B[39m\u001B[38;5;124mlines.markersize\u001B[39m\u001B[38;5;124m'\u001B[39m] \u001B[38;5;241m*\u001B[39m\u001B[38;5;241m*\u001B[39m \u001B[38;5;241m2.0\u001B[39m)\n",
      "\u001B[1;31mValueError\u001B[0m: x and y must be the same size"
     ]
    },
    {
     "data": {
      "text/plain": [
       "<Figure size 640x480 with 1 Axes>"
      ],
      "image/png": "[encoded data removed]"
     },
     "metadata": {},
     "output_type": "display_data"
    }
   ],
   "execution_count": 14
  },
  {
   "metadata": {},
   "cell_type": "code",
   "outputs": [],
   "execution_count": null,
   "source": "",
   "id": "f88d532dbdb0e8f0"
  }
 ],
 "metadata": {
  "kernelspec": {
   "display_name": "Python 3",
   "language": "python",
   "name": "python3"
  },
  "language_info": {
   "codemirror_mode": {
    "name": "ipython",
    "version": 2
   },
   "file_extension": ".py",
   "mimetype": "text/x-python",
   "name": "python",
   "nbconvert_exporter": "python",
   "pygments_lexer": "ipython2",
   "version": "2.7.6"
  }
 },
 "nbformat": 4,
 "nbformat_minor": 5
}
