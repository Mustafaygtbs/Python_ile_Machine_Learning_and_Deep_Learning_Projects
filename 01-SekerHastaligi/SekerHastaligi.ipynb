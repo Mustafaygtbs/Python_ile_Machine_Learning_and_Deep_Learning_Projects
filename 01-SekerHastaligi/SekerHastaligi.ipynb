{
 "cells": [
  {
   "metadata": {},
   "cell_type": "markdown",
   "source": [
    "##  Veri setini iki kısma ayıracağız.\n",
    "### 1. kısmi yapay zeka modelini(KNN) eğitmek için kullanacağız\n",
    "### 2. kısmı iste modelimizin başarısını % olarak test etmek için kullanacağız."
   ],
   "id": "bde85b920ca3a45e"
  },
  {
   "cell_type": "code",
   "id": "initial_id",
   "metadata": {
    "collapsed": true,
    "ExecuteTime": {
     "end_time": "2024-08-07T11:50:17.477723Z",
     "start_time": "2024-08-07T11:50:16.266688Z"
    }
   },
   "source": [
    "import pandas as pd\n",
    "import numpy as np\n",
    "import matplotlib.pyplot as plt\n",
    "from sklearn.model_selection import train_test_split\n",
    "from sklearn.neighbors import KNeighborsClassifier\n"
   ],
   "outputs": [],
   "execution_count": 21
  },
  {
   "metadata": {
    "ExecuteTime": {
     "end_time": "2024-08-07T11:50:18.062281Z",
     "start_time": "2024-08-07T11:50:18.051668Z"
    }
   },
   "cell_type": "code",
   "source": [
    "data=pd.read_csv(\"diabetes.csv\")\n",
    "data.head()"
   ],
   "id": "4cbf2da0d7092c58",
   "outputs": [
    {
     "data": {
      "text/plain": [
       "   Pregnancies  Glucose  BloodPressure  SkinThickness  Insulin   BMI  \\\n",
       "0            6      148             72             35        0  33.6   \n",
       "1            1       85             66             29        0  26.6   \n",
       "2            8      183             64              0        0  23.3   \n",
       "3            1       89             66             23       94  28.1   \n",
       "4            0      137             40             35      168  43.1   \n",
       "\n",
       "   DiabetesPedigreeFunction  Age  Outcome  \n",
       "0                     0.627   50        1  \n",
       "1                     0.351   31        0  \n",
       "2                     0.672   32        1  \n",
       "3                     0.167   21        0  \n",
       "4                     2.288   33        1  "
      ],
      "text/html": [
       "<div>\n",
       "<style scoped>\n",
       "    .dataframe tbody tr th:only-of-type {\n",
       "        vertical-align: middle;\n",
       "    }\n",
       "\n",
       "    .dataframe tbody tr th {\n",
       "        vertical-align: top;\n",
       "    }\n",
       "\n",
       "    .dataframe thead th {\n",
       "        text-align: right;\n",
       "    }\n",
       "</style>\n",
       "<table border=\"1\" class=\"dataframe\">\n",
       "  <thead>\n",
       "    <tr style=\"text-align: right;\">\n",
       "      <th></th>\n",
       "      <th>Pregnancies</th>\n",
       "      <th>Glucose</th>\n",
       "      <th>BloodPressure</th>\n",
       "      <th>SkinThickness</th>\n",
       "      <th>Insulin</th>\n",
       "      <th>BMI</th>\n",
       "      <th>DiabetesPedigreeFunction</th>\n",
       "      <th>Age</th>\n",
       "      <th>Outcome</th>\n",
       "    </tr>\n",
       "  </thead>\n",
       "  <tbody>\n",
       "    <tr>\n",
       "      <th>0</th>\n",
       "      <td>6</td>\n",
       "      <td>148</td>\n",
       "      <td>72</td>\n",
       "      <td>35</td>\n",
       "      <td>0</td>\n",
       "      <td>33.6</td>\n",
       "      <td>0.627</td>\n",
       "      <td>50</td>\n",
       "      <td>1</td>\n",
       "    </tr>\n",
       "    <tr>\n",
       "      <th>1</th>\n",
       "      <td>1</td>\n",
       "      <td>85</td>\n",
       "      <td>66</td>\n",
       "      <td>29</td>\n",
       "      <td>0</td>\n",
       "      <td>26.6</td>\n",
       "      <td>0.351</td>\n",
       "      <td>31</td>\n",
       "      <td>0</td>\n",
       "    </tr>\n",
       "    <tr>\n",
       "      <th>2</th>\n",
       "      <td>8</td>\n",
       "      <td>183</td>\n",
       "      <td>64</td>\n",
       "      <td>0</td>\n",
       "      <td>0</td>\n",
       "      <td>23.3</td>\n",
       "      <td>0.672</td>\n",
       "      <td>32</td>\n",
       "      <td>1</td>\n",
       "    </tr>\n",
       "    <tr>\n",
       "      <th>3</th>\n",
       "      <td>1</td>\n",
       "      <td>89</td>\n",
       "      <td>66</td>\n",
       "      <td>23</td>\n",
       "      <td>94</td>\n",
       "      <td>28.1</td>\n",
       "      <td>0.167</td>\n",
       "      <td>21</td>\n",
       "      <td>0</td>\n",
       "    </tr>\n",
       "    <tr>\n",
       "      <th>4</th>\n",
       "      <td>0</td>\n",
       "      <td>137</td>\n",
       "      <td>40</td>\n",
       "      <td>35</td>\n",
       "      <td>168</td>\n",
       "      <td>43.1</td>\n",
       "      <td>2.288</td>\n",
       "      <td>33</td>\n",
       "      <td>1</td>\n",
       "    </tr>\n",
       "  </tbody>\n",
       "</table>\n",
       "</div>"
      ]
     },
     "execution_count": 22,
     "metadata": {},
     "output_type": "execute_result"
    }
   ],
   "execution_count": 22
  },
  {
   "metadata": {
    "ExecuteTime": {
     "end_time": "2024-08-07T11:50:18.929264Z",
     "start_time": "2024-08-07T11:50:18.801962Z"
    }
   },
   "cell_type": "code",
   "source": [
    "# Outcome =1 ise Şeker hastası\n",
    "# Outcome =0 ise sağlıklı\n",
    "seker_hastalari=data[data.Outcome==1]\n",
    "saglikli_insanlar=data[data.Outcome==0]\n",
    "\n",
    "plt.scatter(saglikli_insanlar.Age,saglikli_insanlar.Glucose,color=\"green\",label=\"Saglikli Insanlar\",alpha=0.4)\n",
    "plt.scatter(seker_hastalari.Age,seker_hastalari.Glucose,color=\"red\",label=\"Seker Hastalari\",alpha=0.4)\n",
    "plt.xlabel(\"Age\")\n",
    "plt.ylabel(\"Glucose\")\n",
    "plt.legend()\n",
    "plt.show()\n",
    "# şeker hastaları ve sağlıklı insanların oluşturduğu gerçek grafik."
   ],
   "id": "956147fe36c38b2a",
   "outputs": [
    {
     "data": {
      "text/plain": [
       "<Figure size 640x480 with 1 Axes>"
      ],
      "image/png": "[encoded data removed]"
     },
     "metadata": {},
     "output_type": "display_data"
    }
   ],
   "execution_count": 23
  },
  {
   "metadata": {
    "ExecuteTime": {
     "end_time": "2024-08-07T11:50:19.460394Z",
     "start_time": "2024-08-07T11:50:19.450656Z"
    }
   },
   "cell_type": "code",
   "source": [
    "# x ve y eksenleri\n",
    "y=data.Outcome.values\n",
    "x_veri=data.drop([\"Outcome\"],axis=1)\n",
    "# outcome sütununu çıkarım x_veri df sini oluşturalım.\n",
    "\n",
    "\n",
    "print(\"Normalization before\")\n",
    "x_veri.head()"
   ],
   "id": "31d5aa684f2be8c",
   "outputs": [
    {
     "name": "stdout",
     "output_type": "stream",
     "text": [
      "Normalization before\n"
     ]
    },
    {
     "data": {
      "text/plain": [
       "   Pregnancies  Glucose  BloodPressure  SkinThickness  Insulin   BMI  \\\n",
       "0            6      148             72             35        0  33.6   \n",
       "1            1       85             66             29        0  26.6   \n",
       "2            8      183             64              0        0  23.3   \n",
       "3            1       89             66             23       94  28.1   \n",
       "4            0      137             40             35      168  43.1   \n",
       "\n",
       "   DiabetesPedigreeFunction  Age  \n",
       "0                     0.627   50  \n",
       "1                     0.351   31  \n",
       "2                     0.672   32  \n",
       "3                     0.167   21  \n",
       "4                     2.288   33  "
      ],
      "text/html": [
       "<div>\n",
       "<style scoped>\n",
       "    .dataframe tbody tr th:only-of-type {\n",
       "        vertical-align: middle;\n",
       "    }\n",
       "\n",
       "    .dataframe tbody tr th {\n",
       "        vertical-align: top;\n",
       "    }\n",
       "\n",
       "    .dataframe thead th {\n",
       "        text-align: right;\n",
       "    }\n",
       "</style>\n",
       "<table border=\"1\" class=\"dataframe\">\n",
       "  <thead>\n",
       "    <tr style=\"text-align: right;\">\n",
       "      <th></th>\n",
       "      <th>Pregnancies</th>\n",
       "      <th>Glucose</th>\n",
       "      <th>BloodPressure</th>\n",
       "      <th>SkinThickness</th>\n",
       "      <th>Insulin</th>\n",
       "      <th>BMI</th>\n",
       "      <th>DiabetesPedigreeFunction</th>\n",
       "      <th>Age</th>\n",
       "    </tr>\n",
       "  </thead>\n",
       "  <tbody>\n",
       "    <tr>\n",
       "      <th>0</th>\n",
       "      <td>6</td>\n",
       "      <td>148</td>\n",
       "      <td>72</td>\n",
       "      <td>35</td>\n",
       "      <td>0</td>\n",
       "      <td>33.6</td>\n",
       "      <td>0.627</td>\n",
       "      <td>50</td>\n",
       "    </tr>\n",
       "    <tr>\n",
       "      <th>1</th>\n",
       "      <td>1</td>\n",
       "      <td>85</td>\n",
       "      <td>66</td>\n",
       "      <td>29</td>\n",
       "      <td>0</td>\n",
       "      <td>26.6</td>\n",
       "      <td>0.351</td>\n",
       "      <td>31</td>\n",
       "    </tr>\n",
       "    <tr>\n",
       "      <th>2</th>\n",
       "      <td>8</td>\n",
       "      <td>183</td>\n",
       "      <td>64</td>\n",
       "      <td>0</td>\n",
       "      <td>0</td>\n",
       "      <td>23.3</td>\n",
       "      <td>0.672</td>\n",
       "      <td>32</td>\n",
       "    </tr>\n",
       "    <tr>\n",
       "      <th>3</th>\n",
       "      <td>1</td>\n",
       "      <td>89</td>\n",
       "      <td>66</td>\n",
       "      <td>23</td>\n",
       "      <td>94</td>\n",
       "      <td>28.1</td>\n",
       "      <td>0.167</td>\n",
       "      <td>21</td>\n",
       "    </tr>\n",
       "    <tr>\n",
       "      <th>4</th>\n",
       "      <td>0</td>\n",
       "      <td>137</td>\n",
       "      <td>40</td>\n",
       "      <td>35</td>\n",
       "      <td>168</td>\n",
       "      <td>43.1</td>\n",
       "      <td>2.288</td>\n",
       "      <td>33</td>\n",
       "    </tr>\n",
       "  </tbody>\n",
       "</table>\n",
       "</div>"
      ]
     },
     "execution_count": 24,
     "metadata": {},
     "output_type": "execute_result"
    }
   ],
   "execution_count": 24
  },
  {
   "metadata": {
    "ExecuteTime": {
     "end_time": "2024-08-07T11:50:20.120527Z",
     "start_time": "2024-08-07T11:50:20.110422Z"
    }
   },
   "cell_type": "code",
   "source": [
    "# normalization yapılmalı tüm değerler 0-1 arasına çekilmeli yoksa büyük değerler küçük değerleri ezer.\n",
    "print(\"Normalization after\")\n",
    "x=(x_veri-np.min(x_veri))/(np.max(x_veri)-np.min(x_veri))\n",
    "x.head()"
   ],
   "id": "799bd7bd185a1c7a",
   "outputs": [
    {
     "name": "stdout",
     "output_type": "stream",
     "text": [
      "Normalization after\n"
     ]
    },
    {
     "data": {
      "text/plain": [
       "   Pregnancies   Glucose  BloodPressure  SkinThickness   Insulin       BMI  \\\n",
       "0     0.007092  0.174941       0.085106       0.041371  0.000000  0.039716   \n",
       "1     0.001182  0.100473       0.078014       0.034279  0.000000  0.031442   \n",
       "2     0.009456  0.216312       0.075650       0.000000  0.000000  0.027541   \n",
       "3     0.001182  0.105201       0.078014       0.027187  0.111111  0.033215   \n",
       "4     0.000000  0.161939       0.047281       0.041371  0.198582  0.050946   \n",
       "\n",
       "   DiabetesPedigreeFunction       Age  \n",
       "0                  0.000741  0.059102  \n",
       "1                  0.000415  0.036643  \n",
       "2                  0.000794  0.037825  \n",
       "3                  0.000197  0.024823  \n",
       "4                  0.002704  0.039007  "
      ],
      "text/html": [
       "<div>\n",
       "<style scoped>\n",
       "    .dataframe tbody tr th:only-of-type {\n",
       "        vertical-align: middle;\n",
       "    }\n",
       "\n",
       "    .dataframe tbody tr th {\n",
       "        vertical-align: top;\n",
       "    }\n",
       "\n",
       "    .dataframe thead th {\n",
       "        text-align: right;\n",
       "    }\n",
       "</style>\n",
       "<table border=\"1\" class=\"dataframe\">\n",
       "  <thead>\n",
       "    <tr style=\"text-align: right;\">\n",
       "      <th></th>\n",
       "      <th>Pregnancies</th>\n",
       "      <th>Glucose</th>\n",
       "      <th>BloodPressure</th>\n",
       "      <th>SkinThickness</th>\n",
       "      <th>Insulin</th>\n",
       "      <th>BMI</th>\n",
       "      <th>DiabetesPedigreeFunction</th>\n",
       "      <th>Age</th>\n",
       "    </tr>\n",
       "  </thead>\n",
       "  <tbody>\n",
       "    <tr>\n",
       "      <th>0</th>\n",
       "      <td>0.007092</td>\n",
       "      <td>0.174941</td>\n",
       "      <td>0.085106</td>\n",
       "      <td>0.041371</td>\n",
       "      <td>0.000000</td>\n",
       "      <td>0.039716</td>\n",
       "      <td>0.000741</td>\n",
       "      <td>0.059102</td>\n",
       "    </tr>\n",
       "    <tr>\n",
       "      <th>1</th>\n",
       "      <td>0.001182</td>\n",
       "      <td>0.100473</td>\n",
       "      <td>0.078014</td>\n",
       "      <td>0.034279</td>\n",
       "      <td>0.000000</td>\n",
       "      <td>0.031442</td>\n",
       "      <td>0.000415</td>\n",
       "      <td>0.036643</td>\n",
       "    </tr>\n",
       "    <tr>\n",
       "      <th>2</th>\n",
       "      <td>0.009456</td>\n",
       "      <td>0.216312</td>\n",
       "      <td>0.075650</td>\n",
       "      <td>0.000000</td>\n",
       "      <td>0.000000</td>\n",
       "      <td>0.027541</td>\n",
       "      <td>0.000794</td>\n",
       "      <td>0.037825</td>\n",
       "    </tr>\n",
       "    <tr>\n",
       "      <th>3</th>\n",
       "      <td>0.001182</td>\n",
       "      <td>0.105201</td>\n",
       "      <td>0.078014</td>\n",
       "      <td>0.027187</td>\n",
       "      <td>0.111111</td>\n",
       "      <td>0.033215</td>\n",
       "      <td>0.000197</td>\n",
       "      <td>0.024823</td>\n",
       "    </tr>\n",
       "    <tr>\n",
       "      <th>4</th>\n",
       "      <td>0.000000</td>\n",
       "      <td>0.161939</td>\n",
       "      <td>0.047281</td>\n",
       "      <td>0.041371</td>\n",
       "      <td>0.198582</td>\n",
       "      <td>0.050946</td>\n",
       "      <td>0.002704</td>\n",
       "      <td>0.039007</td>\n",
       "    </tr>\n",
       "  </tbody>\n",
       "</table>\n",
       "</div>"
      ]
     },
     "execution_count": 25,
     "metadata": {},
     "output_type": "execute_result"
    }
   ],
   "execution_count": 25
  },
  {
   "metadata": {
    "ExecuteTime": {
     "end_time": "2024-08-07T11:56:45.874010Z",
     "start_time": "2024-08-07T11:56:45.841247Z"
    }
   },
   "cell_type": "code",
   "source": [
    "# train data ile test datasının ayrılması gerekiyor\n",
    "# train datayı modeli eğitmek için kullanılacak\n",
    "# test data ise modeli test etmek ve doğruluk % si hesaplamak için kullanılacak.\n",
    "\n",
    "x_train,x_test,y_train,y_test=train_test_split(x,y,test_size=0.3,random_state=1)\n",
    "knn=KNeighborsClassifier(n_neighbors=3)\n",
    "knn.fit(x_train,y_train)\n",
    "predicted=knn.predict(x_test)\n",
    "print(\"k=0 için test verilerinin doğrulama testi sonucu \",knn.score(x_test,y_test))"
   ],
   "id": "5baf5e5a8ae79b7e",
   "outputs": [
    {
     "name": "stdout",
     "output_type": "stream",
     "text": [
      "k=0 için test verilerinin doğrulama testi sonucu  0.7359307359307359\n"
     ]
    }
   ],
   "execution_count": 40
  },
  {
   "metadata": {
    "ExecuteTime": {
     "end_time": "2024-08-07T12:20:58.828866Z",
     "start_time": "2024-08-07T12:20:58.638295Z"
    }
   },
   "cell_type": "code",
   "source": [
    "count=1\n",
    "for k in range(1,20):\n",
    "    x_train,x_test,y_train,y_test=train_test_split(x,y,test_size=0.1,random_state=1)\n",
    "    knn=KNeighborsClassifier(n_neighbors=k)\n",
    "    knn.fit(x_train,y_train)\n",
    "    predicted=knn.predict(x_test)\n",
    "    print(count,\" \",\"Doğruluk oranı:% \",knn.score(x_test,y_test)*100)\n",
    "    count+=1"
   ],
   "id": "ccba93fa229ea8db",
   "outputs": [
    {
     "name": "stdout",
     "output_type": "stream",
     "text": [
      "1   Doğruluk oranı:%  79.22077922077922\n",
      "2   Doğruluk oranı:%  74.02597402597402\n",
      "3   Doğruluk oranı:%  77.92207792207793\n",
      "4   Doğruluk oranı:%  74.02597402597402\n",
      "5   Doğruluk oranı:%  72.72727272727273\n",
      "6   Doğruluk oranı:%  75.32467532467533\n",
      "7   Doğruluk oranı:%  74.02597402597402\n",
      "8   Doğruluk oranı:%  76.62337662337663\n",
      "9   Doğruluk oranı:%  76.62337662337663\n",
      "10   Doğruluk oranı:%  76.62337662337663\n",
      "11   Doğruluk oranı:%  77.92207792207793\n",
      "12   Doğruluk oranı:%  77.92207792207793\n",
      "13   Doğruluk oranı:%  77.92207792207793\n",
      "14   Doğruluk oranı:%  79.22077922077922\n",
      "15   Doğruluk oranı:%  79.22077922077922\n",
      "16   Doğruluk oranı:%  77.92207792207793\n",
      "17   Doğruluk oranı:%  79.22077922077922\n",
      "18   Doğruluk oranı:%  79.22077922077922\n",
      "19   Doğruluk oranı:%  77.92207792207793\n"
     ]
    }
   ],
   "execution_count": 45
  },
  {
   "metadata": {
    "ExecuteTime": {
     "end_time": "2024-08-07T11:54:45.975854Z",
     "start_time": "2024-08-07T11:54:45.971978Z"
    }
   },
   "cell_type": "code",
   "source": [
    "# k=16 de en yüksek doğruluğu veriyor.\n",
    "# 16  Doğruluk oranı:%  78.57142857142857\n",
    "\n",
    "# test_size=0.1 yaparsak k=17 de en yüksek doğruluğu veriyor\n",
    "# 17   Doğruluk oranı:%  79.22077922077922"
   ],
   "id": "5d3e73ba3522ded1",
   "outputs": [],
   "execution_count": 36
  },
  {
   "metadata": {},
   "cell_type": "code",
   "outputs": [],
   "execution_count": null,
   "source": "",
   "id": "a35d00edd83e54fd"
  }
 ],
 "metadata": {
  "kernelspec": {
   "display_name": "Python 3",
   "language": "python",
   "name": "python3"
  },
  "language_info": {
   "codemirror_mode": {
    "name": "ipython",
    "version": 2
   },
   "file_extension": ".py",
   "mimetype": "text/x-python",
   "name": "python",
   "nbconvert_exporter": "python",
   "pygments_lexer": "ipython2",
   "version": "2.7.6"
  }
 },
 "nbformat": 4,
 "nbformat_minor": 5
}
