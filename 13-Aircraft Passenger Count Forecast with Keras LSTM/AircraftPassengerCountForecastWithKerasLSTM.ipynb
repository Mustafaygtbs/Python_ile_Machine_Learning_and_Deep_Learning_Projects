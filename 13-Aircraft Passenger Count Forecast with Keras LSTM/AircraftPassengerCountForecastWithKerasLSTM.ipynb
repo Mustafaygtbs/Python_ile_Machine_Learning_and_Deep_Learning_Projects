{
 "cells": [
  {
   "metadata": {},
   "cell_type": "markdown",
   "source": "# Keras LSTM ile Uçak Yolcu Sayısı Tahmini (Zaman Serisi Tahmini) Projesi",
   "id": "9ea56c5888318942"
  },
  {
   "metadata": {},
   "cell_type": "markdown",
   "source": "Soru: Önceki iki aya ait yolcu sayısı  verildiğinde, gelecek ay yolcu sayısı kaçtır?",
   "id": "4aa27da5178fe428"
  },
  {
   "metadata": {},
   "cell_type": "markdown",
   "source": [
    "### LSTM (Long Short-Term Memory) Derin Öğrenme Modeli\n",
    "\n",
    "LSTM, zaman serisi verileri ve sıralı veri analizinde kullanılan özel bir tekrarlayan sinir ağı (RNN) türüdür. Standart RNN'lerin uzun vadeli bağımlılıkları öğrenmedeki sınırlamalarını aşmak için tasarlanmıştır.\n",
    "\n",
    "#### 1-Hücre Durumu (Cell State): Bilginin uzun süre saklandığı bir tür \"bellek bandı\" işlevi görür.\n",
    "\n",
    "#### 2-Kapılar (Gates): Bilgi akışını kontrol eden üç temel kapı vardır:\n",
    "\n",
    "    Unut Kapısı (Forget Gate): Hücre durumunda hangi bilgilerin unutulacağına karar verir\n",
    "\n",
    "    Giriş Kapısı (Input Gate): Yeni gelen bilgilerden hangilerinin hücre durumuna ekleneceğini belirler\n",
    "\n",
    "    Çıkış Kapısı (Output Gate): Güncellenmiş hücre durumundan hangi bilgilerin çıktı olarak kullanılacağını belirler\n",
    "\n",
    "Bu karmaşık yapı, LSTM'in uzun sıralı verilerde dahi önemli bilgileri hatırlayabilmesini ve önemsiz bilgileri unutabilmesini sağlar."
   ],
   "id": "cf7b7f6eafad6ad9"
  },
  {
   "metadata": {},
   "cell_type": "markdown",
   "source": [
    "### LSTM'in Avantajları\n",
    "\n",
    "    Uzun vadeli bağımlılıkları öğrenebilir\n",
    "    Kaybolan gradyan (vanishing gradient) problemine çözüm sunar\n",
    "    Sıralı verilerde yüksek başarı gösterir\n",
    "    Farklı uzunluklardaki veri dizileriyle çalışabilir\n",
    "\n",
    "### Tipik LSTM Uygulamaları\n",
    "\n",
    "    Dil modelleme ve metin üretimi\n",
    "    Konuşma tanıma\n",
    "    Duygu analizi\n",
    "    Zaman serisi tahmini\n",
    "    Anomali tespiti\n",
    "    Müzik kompozisyonu\n"
   ],
   "id": "dd1a0efc4e023a55"
  },
  {
   "metadata": {},
   "cell_type": "markdown",
   "source": [
    "### Zaman Serisi (Time Series) Analizi\n",
    "Zaman serisi, belirli zaman aralıklarında sıralı olarak kaydedilen veri noktaları koleksiyonudur. Her veri noktası belirli bir zaman damgasıyla ilişkilendirilmiştir.\n",
    "\n",
    "### LSTM ile Zaman Serisi Analizi\n",
    "\n",
    "LSTM'ler zaman serisi analizinde özellikle şu durumlarda güçlüdür:\n",
    "\n",
    "    Karmaşık Desenlerin Yakalanması: Doğrusal olmayan ve karmaşık zaman ilişkilerini öğrenebilir.\n",
    "    Çok Değişkenli Analiz: Birden fazla değişkenin etkisini aynı anda modelleyebilir.\n",
    "    Uzun Vadeli Bağımlılıklar: Çok önceki zaman noktalarındaki bilgilerin mevcut tahminlere etkisini yakalayabilir.\n",
    "\n",
    "### Pratik LSTM Zaman Serisi Uygulamaları:\n",
    "    Hisse senedi fiyat tahmini\n",
    "    Elektrik tüketimi tahminleri\n",
    "    Hava durumu tahmini\n",
    "    Satış ve talep tahminleri\n",
    "    Endüstriyel ekipman arıza tahminleri\n",
    "    Web sitesi ziyaret trafiği tahmini"
   ],
   "id": "77c2be6d75b70185"
  },
  {
   "metadata": {
    "ExecuteTime": {
     "end_time": "2025-03-15T22:24:12.020440Z",
     "start_time": "2025-03-15T22:24:03.000325Z"
    }
   },
   "cell_type": "code",
   "source": [
    "import pandas as pd\n",
    "import numpy as np\n",
    "import matplotlib.pyplot as plt\n",
    "import tensorflow as tf\n",
    "from tensorflow.keras.layers import Dense,LSTM\n",
    "from tensorflow.keras.models import Sequential\n",
    "from sklearn.preprocessing import MinMaxScaler"
   ],
   "id": "77cceffa46f62114",
   "outputs": [],
   "execution_count": 1
  },
  {
   "metadata": {
    "ExecuteTime": {
     "end_time": "2025-03-15T22:25:26.001351Z",
     "start_time": "2025-03-15T22:25:25.963213Z"
    }
   },
   "cell_type": "code",
   "source": [
    "data=pd.read_csv('AirPassengers.csv')\n",
    "data.head()"
   ],
   "id": "88d4f894c93be40f",
   "outputs": [
    {
     "data": {
      "text/plain": [
       "     Month  #Passengers\n",
       "0  1949-01          112\n",
       "1  1949-02          118\n",
       "2  1949-03          132\n",
       "3  1949-04          129\n",
       "4  1949-05          121"
      ],
      "text/html": [
       "<div>\n",
       "<style scoped>\n",
       "    .dataframe tbody tr th:only-of-type {\n",
       "        vertical-align: middle;\n",
       "    }\n",
       "\n",
       "    .dataframe tbody tr th {\n",
       "        vertical-align: top;\n",
       "    }\n",
       "\n",
       "    .dataframe thead th {\n",
       "        text-align: right;\n",
       "    }\n",
       "</style>\n",
       "<table border=\"1\" class=\"dataframe\">\n",
       "  <thead>\n",
       "    <tr style=\"text-align: right;\">\n",
       "      <th></th>\n",
       "      <th>Month</th>\n",
       "      <th>#Passengers</th>\n",
       "    </tr>\n",
       "  </thead>\n",
       "  <tbody>\n",
       "    <tr>\n",
       "      <th>0</th>\n",
       "      <td>1949-01</td>\n",
       "      <td>112</td>\n",
       "    </tr>\n",
       "    <tr>\n",
       "      <th>1</th>\n",
       "      <td>1949-02</td>\n",
       "      <td>118</td>\n",
       "    </tr>\n",
       "    <tr>\n",
       "      <th>2</th>\n",
       "      <td>1949-03</td>\n",
       "      <td>132</td>\n",
       "    </tr>\n",
       "    <tr>\n",
       "      <th>3</th>\n",
       "      <td>1949-04</td>\n",
       "      <td>129</td>\n",
       "    </tr>\n",
       "    <tr>\n",
       "      <th>4</th>\n",
       "      <td>1949-05</td>\n",
       "      <td>121</td>\n",
       "    </tr>\n",
       "  </tbody>\n",
       "</table>\n",
       "</div>"
      ]
     },
     "execution_count": 2,
     "metadata": {},
     "output_type": "execute_result"
    }
   ],
   "execution_count": 2
  },
  {
   "metadata": {
    "ExecuteTime": {
     "end_time": "2025-03-15T22:26:10.968486Z",
     "start_time": "2025-03-15T22:26:10.959385Z"
    }
   },
   "cell_type": "code",
   "source": "data.rename(columns={\"#Passengers\":\"passengers\"},inplace=True)",
   "id": "26b1637cffb6eac7",
   "outputs": [],
   "execution_count": 3
  },
  {
   "metadata": {
    "ExecuteTime": {
     "end_time": "2025-03-15T22:26:14.158701Z",
     "start_time": "2025-03-15T22:26:14.149678Z"
    }
   },
   "cell_type": "code",
   "source": "data.head()",
   "id": "6da8d193f65e0f82",
   "outputs": [
    {
     "data": {
      "text/plain": [
       "     Month  passengers\n",
       "0  1949-01         112\n",
       "1  1949-02         118\n",
       "2  1949-03         132\n",
       "3  1949-04         129\n",
       "4  1949-05         121"
      ],
      "text/html": [
       "<div>\n",
       "<style scoped>\n",
       "    .dataframe tbody tr th:only-of-type {\n",
       "        vertical-align: middle;\n",
       "    }\n",
       "\n",
       "    .dataframe tbody tr th {\n",
       "        vertical-align: top;\n",
       "    }\n",
       "\n",
       "    .dataframe thead th {\n",
       "        text-align: right;\n",
       "    }\n",
       "</style>\n",
       "<table border=\"1\" class=\"dataframe\">\n",
       "  <thead>\n",
       "    <tr style=\"text-align: right;\">\n",
       "      <th></th>\n",
       "      <th>Month</th>\n",
       "      <th>passengers</th>\n",
       "    </tr>\n",
       "  </thead>\n",
       "  <tbody>\n",
       "    <tr>\n",
       "      <th>0</th>\n",
       "      <td>1949-01</td>\n",
       "      <td>112</td>\n",
       "    </tr>\n",
       "    <tr>\n",
       "      <th>1</th>\n",
       "      <td>1949-02</td>\n",
       "      <td>118</td>\n",
       "    </tr>\n",
       "    <tr>\n",
       "      <th>2</th>\n",
       "      <td>1949-03</td>\n",
       "      <td>132</td>\n",
       "    </tr>\n",
       "    <tr>\n",
       "      <th>3</th>\n",
       "      <td>1949-04</td>\n",
       "      <td>129</td>\n",
       "    </tr>\n",
       "    <tr>\n",
       "      <th>4</th>\n",
       "      <td>1949-05</td>\n",
       "      <td>121</td>\n",
       "    </tr>\n",
       "  </tbody>\n",
       "</table>\n",
       "</div>"
      ]
     },
     "execution_count": 4,
     "metadata": {},
     "output_type": "execute_result"
    }
   ],
   "execution_count": 4
  },
  {
   "metadata": {
    "ExecuteTime": {
     "end_time": "2025-03-15T22:26:34.800917Z",
     "start_time": "2025-03-15T22:26:34.793165Z"
    }
   },
   "cell_type": "code",
   "source": [
    "data=data[\"passengers\"]\n",
    "data.head()"
   ],
   "id": "c4426179337fd439",
   "outputs": [
    {
     "data": {
      "text/plain": [
       "0    112\n",
       "1    118\n",
       "2    132\n",
       "3    129\n",
       "4    121\n",
       "Name: passengers, dtype: int64"
      ]
     },
     "execution_count": 5,
     "metadata": {},
     "output_type": "execute_result"
    }
   ],
   "execution_count": 5
  },
  {
   "metadata": {
    "ExecuteTime": {
     "end_time": "2025-03-15T22:28:05.284131Z",
     "start_time": "2025-03-15T22:28:05.277692Z"
    }
   },
   "cell_type": "code",
   "source": "data=np.array(data).reshape(-1,1)",
   "id": "a0dcffd49d59bab2",
   "outputs": [],
   "execution_count": 10
  },
  {
   "metadata": {
    "ExecuteTime": {
     "end_time": "2025-03-15T22:28:35.884532Z",
     "start_time": "2025-03-15T22:28:35.877818Z"
    }
   },
   "cell_type": "code",
   "source": "type(data)",
   "id": "bebef7ac71e0892b",
   "outputs": [
    {
     "data": {
      "text/plain": [
       "numpy.ndarray"
      ]
     },
     "execution_count": 13,
     "metadata": {},
     "output_type": "execute_result"
    }
   ],
   "execution_count": 13
  },
  {
   "metadata": {
    "ExecuteTime": {
     "end_time": "2025-03-15T22:30:33.100070Z",
     "start_time": "2025-03-15T22:30:32.927906Z"
    }
   },
   "cell_type": "code",
   "source": [
    "plt.plot(data)\n",
    "plt.savefig('RealData.png')\n",
    "plt.show()"
   ],
   "id": "e6a9c3ff882f207e",
   "outputs": [
    {
     "data": {
      "text/plain": [
       "<Figure size 640x480 with 1 Axes>"
      ],
      "image/png": "[encoded data removed]"
     },
     "metadata": {},
     "output_type": "display_data"
    }
   ],
   "execution_count": 16
  },
  {
   "metadata": {
    "ExecuteTime": {
     "end_time": "2025-03-15T22:31:27.350190Z",
     "start_time": "2025-03-15T22:31:27.341854Z"
    }
   },
   "cell_type": "code",
   "source": [
    "scaling=MinMaxScaler()\n",
    "\n",
    "data=scaling.fit_transform(data)"
   ],
   "id": "8efe9625f32ac2c9",
   "outputs": [],
   "execution_count": 17
  },
  {
   "metadata": {
    "ExecuteTime": {
     "end_time": "2025-03-15T22:31:30.758684Z",
     "start_time": "2025-03-15T22:31:30.751416Z"
    }
   },
   "cell_type": "code",
   "source": "len(data)",
   "id": "88cb1b161c3e997c",
   "outputs": [
    {
     "data": {
      "text/plain": [
       "144"
      ]
     },
     "execution_count": 18,
     "metadata": {},
     "output_type": "execute_result"
    }
   ],
   "execution_count": 18
  },
  {
   "metadata": {
    "ExecuteTime": {
     "end_time": "2025-03-15T22:32:25.405633Z",
     "start_time": "2025-03-15T22:32:25.401481Z"
    }
   },
   "cell_type": "code",
   "source": [
    "train=data[0:100,:]\n",
    "test=data[100:,:]"
   ],
   "id": "c93a761ee8809f2d",
   "outputs": [],
   "execution_count": 20
  },
  {
   "metadata": {
    "ExecuteTime": {
     "end_time": "2025-03-15T22:40:47.052007Z",
     "start_time": "2025-03-15T22:40:47.045812Z"
    }
   },
   "cell_type": "code",
   "source": [
    "def get_data(data,steps):\n",
    "    dataX=[]\n",
    "    dataY=[]\n",
    "    for i in range(len(data)-steps-1):\n",
    "        a=data[i:(i+steps),0]\n",
    "        dataX.append(a)\n",
    "        dataY.append(data[i+steps,0])\n",
    "    return np.array(dataX),np.array(dataY)"
   ],
   "id": "6f0c49b5e63a4ff2",
   "outputs": [],
   "execution_count": 24
  },
  {
   "metadata": {},
   "cell_type": "markdown",
   "source": [
    "Bu fonksiyon, zaman serisi verilerini LSTM modeli gibi sıralı modeller için uygun giriş-çıkış çiftlerine dönüştürmek amacıyla kullanılır. Fonksiyonun amacı, geçmiş veri noktalarından gelecekteki değerleri tahmin etmeye yönelik bir model eğitmek için veri hazırlamaktır.\n",
    "\n",
    "Fonksiyonun işleyişi şöyle:\n",
    "\n",
    "    İki boş liste oluşturuluyor: dataX (giriş verileri için) ve dataY (hedef/çıkış verileri için)\n",
    "\n",
    "Veri üzerinde for döngüsü ile geziniyor:\n",
    "\n",
    "    Her adımda, i pozisyonundan başlayarak steps kadar ardışık veri öğesi alınıyor\n",
    "    Bu veri parçası dataX listesine ekleniyor (model girişi)\n",
    "    Bundan hemen sonraki değer (i+steps konumundaki) dataY listesine ekleniyor (modelin tahmin etmesi gereken değer)\n",
    "\n",
    "\n",
    "Son olarak, bu listeleri numpy dizilerine dönüştürüp döndürüyor"
   ],
   "id": "fb2f56c858a07c4c"
  },
  {
   "metadata": {
    "ExecuteTime": {
     "end_time": "2025-03-15T22:59:12.014608Z",
     "start_time": "2025-03-15T22:59:12.009840Z"
    }
   },
   "cell_type": "code",
   "source": "steps=2",
   "id": "477c315f5b6d5905",
   "outputs": [],
   "execution_count": 43
  },
  {
   "metadata": {
    "ExecuteTime": {
     "end_time": "2025-03-15T22:59:12.298912Z",
     "start_time": "2025-03-15T22:59:12.292552Z"
    }
   },
   "cell_type": "code",
   "source": [
    "X_train, y_train = get_data(train,steps)\n",
    "X_test, y_test = get_data(test,steps)"
   ],
   "id": "37118037633a32c5",
   "outputs": [],
   "execution_count": 44
  },
  {
   "metadata": {
    "ExecuteTime": {
     "end_time": "2025-03-15T22:59:12.490317Z",
     "start_time": "2025-03-15T22:59:12.484376Z"
    }
   },
   "cell_type": "code",
   "source": [
    "X_train=np.reshape(X_train,(X_train.shape[0],1,X_train.shape[1]))\n",
    "X_test=np.reshape(X_test,(X_test.shape[0],1,X_test.shape[1]))"
   ],
   "id": "d508f837afadba7a",
   "outputs": [],
   "execution_count": 45
  },
  {
   "metadata": {
    "ExecuteTime": {
     "end_time": "2025-03-15T22:59:12.728287Z",
     "start_time": "2025-03-15T22:59:12.673402Z"
    }
   },
   "cell_type": "code",
   "source": [
    "model=Sequential()\n",
    "model.add(LSTM(128,input_shape=(1,steps)))\n",
    "model.add(Dense(64))\n",
    "model.add(Dense(1))\n",
    "model.compile(optimizer='adam',loss='mean_squared_error')"
   ],
   "id": "a70920c8f1359a15",
   "outputs": [
    {
     "name": "stderr",
     "output_type": "stream",
     "text": [
      "C:\\Users\\yigit\\anaconda3\\Lib\\site-packages\\keras\\src\\layers\\rnn\\rnn.py:200: UserWarning: Do not pass an `input_shape`/`input_dim` argument to a layer. When using Sequential models, prefer using an `Input(shape)` object as the first layer in the model instead.\n",
      "  super().__init__(**kwargs)\n"
     ]
    }
   ],
   "execution_count": 46
  },
  {
   "metadata": {
    "ExecuteTime": {
     "end_time": "2025-03-15T22:59:13.213803Z",
     "start_time": "2025-03-15T22:59:13.193750Z"
    }
   },
   "cell_type": "code",
   "source": "model.summary()",
   "id": "c86bead53966724c",
   "outputs": [
    {
     "data": {
      "text/plain": [
       "\u001B[1mModel: \"sequential_1\"\u001B[0m\n"
      ],
      "text/html": [
       "<pre style=\"white-space:pre;overflow-x:auto;line-height:normal;font-family:Menlo,'DejaVu Sans Mono',consolas,'Courier New',monospace\"><span style=\"font-weight: bold\">Model: \"sequential_1\"</span>\n",
       "</pre>\n"
      ]
     },
     "metadata": {},
     "output_type": "display_data"
    },
    {
     "data": {
      "text/plain": [
       "┏━━━━━━━━━━━━━━━━━━━━━━━━━━━━━━━━━┳━━━━━━━━━━━━━━━━━━━━━━━━┳━━━━━━━━━━━━━━━┓\n",
       "┃\u001B[1m \u001B[0m\u001B[1mLayer (type)                   \u001B[0m\u001B[1m \u001B[0m┃\u001B[1m \u001B[0m\u001B[1mOutput Shape          \u001B[0m\u001B[1m \u001B[0m┃\u001B[1m \u001B[0m\u001B[1m      Param #\u001B[0m\u001B[1m \u001B[0m┃\n",
       "┡━━━━━━━━━━━━━━━━━━━━━━━━━━━━━━━━━╇━━━━━━━━━━━━━━━━━━━━━━━━╇━━━━━━━━━━━━━━━┩\n",
       "│ lstm_1 (\u001B[38;5;33mLSTM\u001B[0m)                   │ (\u001B[38;5;45mNone\u001B[0m, \u001B[38;5;34m128\u001B[0m)            │        \u001B[38;5;34m67,072\u001B[0m │\n",
       "├─────────────────────────────────┼────────────────────────┼───────────────┤\n",
       "│ dense_2 (\u001B[38;5;33mDense\u001B[0m)                 │ (\u001B[38;5;45mNone\u001B[0m, \u001B[38;5;34m64\u001B[0m)             │         \u001B[38;5;34m8,256\u001B[0m │\n",
       "├─────────────────────────────────┼────────────────────────┼───────────────┤\n",
       "│ dense_3 (\u001B[38;5;33mDense\u001B[0m)                 │ (\u001B[38;5;45mNone\u001B[0m, \u001B[38;5;34m1\u001B[0m)              │            \u001B[38;5;34m65\u001B[0m │\n",
       "└─────────────────────────────────┴────────────────────────┴───────────────┘\n"
      ],
      "text/html": [
       "<pre style=\"white-space:pre;overflow-x:auto;line-height:normal;font-family:Menlo,'DejaVu Sans Mono',consolas,'Courier New',monospace\">┏━━━━━━━━━━━━━━━━━━━━━━━━━━━━━━━━━┳━━━━━━━━━━━━━━━━━━━━━━━━┳━━━━━━━━━━━━━━━┓\n",
       "┃<span style=\"font-weight: bold\"> Layer (type)                    </span>┃<span style=\"font-weight: bold\"> Output Shape           </span>┃<span style=\"font-weight: bold\">       Param # </span>┃\n",
       "┡━━━━━━━━━━━━━━━━━━━━━━━━━━━━━━━━━╇━━━━━━━━━━━━━━━━━━━━━━━━╇━━━━━━━━━━━━━━━┩\n",
       "│ lstm_1 (<span style=\"color: #0087ff; text-decoration-color: #0087ff\">LSTM</span>)                   │ (<span style=\"color: #00d7ff; text-decoration-color: #00d7ff\">None</span>, <span style=\"color: #00af00; text-decoration-color: #00af00\">128</span>)            │        <span style=\"color: #00af00; text-decoration-color: #00af00\">67,072</span> │\n",
       "├─────────────────────────────────┼────────────────────────┼───────────────┤\n",
       "│ dense_2 (<span style=\"color: #0087ff; text-decoration-color: #0087ff\">Dense</span>)                 │ (<span style=\"color: #00d7ff; text-decoration-color: #00d7ff\">None</span>, <span style=\"color: #00af00; text-decoration-color: #00af00\">64</span>)             │         <span style=\"color: #00af00; text-decoration-color: #00af00\">8,256</span> │\n",
       "├─────────────────────────────────┼────────────────────────┼───────────────┤\n",
       "│ dense_3 (<span style=\"color: #0087ff; text-decoration-color: #0087ff\">Dense</span>)                 │ (<span style=\"color: #00d7ff; text-decoration-color: #00d7ff\">None</span>, <span style=\"color: #00af00; text-decoration-color: #00af00\">1</span>)              │            <span style=\"color: #00af00; text-decoration-color: #00af00\">65</span> │\n",
       "└─────────────────────────────────┴────────────────────────┴───────────────┘\n",
       "</pre>\n"
      ]
     },
     "metadata": {},
     "output_type": "display_data"
    },
    {
     "data": {
      "text/plain": [
       "\u001B[1m Total params: \u001B[0m\u001B[38;5;34m75,393\u001B[0m (294.50 KB)\n"
      ],
      "text/html": [
       "<pre style=\"white-space:pre;overflow-x:auto;line-height:normal;font-family:Menlo,'DejaVu Sans Mono',consolas,'Courier New',monospace\"><span style=\"font-weight: bold\"> Total params: </span><span style=\"color: #00af00; text-decoration-color: #00af00\">75,393</span> (294.50 KB)\n",
       "</pre>\n"
      ]
     },
     "metadata": {},
     "output_type": "display_data"
    },
    {
     "data": {
      "text/plain": [
       "\u001B[1m Trainable params: \u001B[0m\u001B[38;5;34m75,393\u001B[0m (294.50 KB)\n"
      ],
      "text/html": [
       "<pre style=\"white-space:pre;overflow-x:auto;line-height:normal;font-family:Menlo,'DejaVu Sans Mono',consolas,'Courier New',monospace\"><span style=\"font-weight: bold\"> Trainable params: </span><span style=\"color: #00af00; text-decoration-color: #00af00\">75,393</span> (294.50 KB)\n",
       "</pre>\n"
      ]
     },
     "metadata": {},
     "output_type": "display_data"
    },
    {
     "data": {
      "text/plain": [
       "\u001B[1m Non-trainable params: \u001B[0m\u001B[38;5;34m0\u001B[0m (0.00 B)\n"
      ],
      "text/html": [
       "<pre style=\"white-space:pre;overflow-x:auto;line-height:normal;font-family:Menlo,'DejaVu Sans Mono',consolas,'Courier New',monospace\"><span style=\"font-weight: bold\"> Non-trainable params: </span><span style=\"color: #00af00; text-decoration-color: #00af00\">0</span> (0.00 B)\n",
       "</pre>\n"
      ]
     },
     "metadata": {},
     "output_type": "display_data"
    }
   ],
   "execution_count": 47
  },
  {
   "metadata": {
    "ExecuteTime": {
     "end_time": "2025-03-15T22:59:21.634652Z",
     "start_time": "2025-03-15T22:59:14.583277Z"
    }
   },
   "cell_type": "code",
   "source": "model.fit(X_train,y_train,epochs=25,batch_size=1)",
   "id": "7854be1658366c89",
   "outputs": [
    {
     "name": "stdout",
     "output_type": "stream",
     "text": [
      "Epoch 1/25\n",
      "\u001B[1m97/97\u001B[0m \u001B[32m━━━━━━━━━━━━━━━━━━━━\u001B[0m\u001B[37m\u001B[0m \u001B[1m2s\u001B[0m 2ms/step - loss: 0.0182\n",
      "Epoch 2/25\n",
      "\u001B[1m97/97\u001B[0m \u001B[32m━━━━━━━━━━━━━━━━━━━━\u001B[0m\u001B[37m\u001B[0m \u001B[1m0s\u001B[0m 2ms/step - loss: 0.0038\n",
      "Epoch 3/25\n",
      "\u001B[1m97/97\u001B[0m \u001B[32m━━━━━━━━━━━━━━━━━━━━\u001B[0m\u001B[37m\u001B[0m \u001B[1m0s\u001B[0m 2ms/step - loss: 0.0030\n",
      "Epoch 4/25\n",
      "\u001B[1m97/97\u001B[0m \u001B[32m━━━━━━━━━━━━━━━━━━━━\u001B[0m\u001B[37m\u001B[0m \u001B[1m0s\u001B[0m 2ms/step - loss: 0.0040\n",
      "Epoch 5/25\n",
      "\u001B[1m97/97\u001B[0m \u001B[32m━━━━━━━━━━━━━━━━━━━━\u001B[0m\u001B[37m\u001B[0m \u001B[1m0s\u001B[0m 2ms/step - loss: 0.0027\n",
      "Epoch 6/25\n",
      "\u001B[1m97/97\u001B[0m \u001B[32m━━━━━━━━━━━━━━━━━━━━\u001B[0m\u001B[37m\u001B[0m \u001B[1m0s\u001B[0m 2ms/step - loss: 0.0027\n",
      "Epoch 7/25\n",
      "\u001B[1m97/97\u001B[0m \u001B[32m━━━━━━━━━━━━━━━━━━━━\u001B[0m\u001B[37m\u001B[0m \u001B[1m0s\u001B[0m 2ms/step - loss: 0.0036\n",
      "Epoch 8/25\n",
      "\u001B[1m97/97\u001B[0m \u001B[32m━━━━━━━━━━━━━━━━━━━━\u001B[0m\u001B[37m\u001B[0m \u001B[1m0s\u001B[0m 2ms/step - loss: 0.0023\n",
      "Epoch 9/25\n",
      "\u001B[1m97/97\u001B[0m \u001B[32m━━━━━━━━━━━━━━━━━━━━\u001B[0m\u001B[37m\u001B[0m \u001B[1m0s\u001B[0m 2ms/step - loss: 0.0031\n",
      "Epoch 10/25\n",
      "\u001B[1m97/97\u001B[0m \u001B[32m━━━━━━━━━━━━━━━━━━━━\u001B[0m\u001B[37m\u001B[0m \u001B[1m0s\u001B[0m 2ms/step - loss: 0.0030\n",
      "Epoch 11/25\n",
      "\u001B[1m97/97\u001B[0m \u001B[32m━━━━━━━━━━━━━━━━━━━━\u001B[0m\u001B[37m\u001B[0m \u001B[1m0s\u001B[0m 2ms/step - loss: 0.0024\n",
      "Epoch 12/25\n",
      "\u001B[1m97/97\u001B[0m \u001B[32m━━━━━━━━━━━━━━━━━━━━\u001B[0m\u001B[37m\u001B[0m \u001B[1m0s\u001B[0m 2ms/step - loss: 0.0028\n",
      "Epoch 13/25\n",
      "\u001B[1m97/97\u001B[0m \u001B[32m━━━━━━━━━━━━━━━━━━━━\u001B[0m\u001B[37m\u001B[0m \u001B[1m0s\u001B[0m 2ms/step - loss: 0.0021\n",
      "Epoch 14/25\n",
      "\u001B[1m97/97\u001B[0m \u001B[32m━━━━━━━━━━━━━━━━━━━━\u001B[0m\u001B[37m\u001B[0m \u001B[1m0s\u001B[0m 2ms/step - loss: 0.0029\n",
      "Epoch 15/25\n",
      "\u001B[1m97/97\u001B[0m \u001B[32m━━━━━━━━━━━━━━━━━━━━\u001B[0m\u001B[37m\u001B[0m \u001B[1m0s\u001B[0m 2ms/step - loss: 0.0027\n",
      "Epoch 16/25\n",
      "\u001B[1m97/97\u001B[0m \u001B[32m━━━━━━━━━━━━━━━━━━━━\u001B[0m\u001B[37m\u001B[0m \u001B[1m0s\u001B[0m 2ms/step - loss: 0.0028\n",
      "Epoch 17/25\n",
      "\u001B[1m97/97\u001B[0m \u001B[32m━━━━━━━━━━━━━━━━━━━━\u001B[0m\u001B[37m\u001B[0m \u001B[1m0s\u001B[0m 2ms/step - loss: 0.0025\n",
      "Epoch 18/25\n",
      "\u001B[1m97/97\u001B[0m \u001B[32m━━━━━━━━━━━━━━━━━━━━\u001B[0m\u001B[37m\u001B[0m \u001B[1m0s\u001B[0m 2ms/step - loss: 0.0033\n",
      "Epoch 19/25\n",
      "\u001B[1m97/97\u001B[0m \u001B[32m━━━━━━━━━━━━━━━━━━━━\u001B[0m\u001B[37m\u001B[0m \u001B[1m0s\u001B[0m 2ms/step - loss: 0.0019\n",
      "Epoch 20/25\n",
      "\u001B[1m97/97\u001B[0m \u001B[32m━━━━━━━━━━━━━━━━━━━━\u001B[0m\u001B[37m\u001B[0m \u001B[1m0s\u001B[0m 2ms/step - loss: 0.0028\n",
      "Epoch 21/25\n",
      "\u001B[1m97/97\u001B[0m \u001B[32m━━━━━━━━━━━━━━━━━━━━\u001B[0m\u001B[37m\u001B[0m \u001B[1m0s\u001B[0m 2ms/step - loss: 0.0020\n",
      "Epoch 22/25\n",
      "\u001B[1m97/97\u001B[0m \u001B[32m━━━━━━━━━━━━━━━━━━━━\u001B[0m\u001B[37m\u001B[0m \u001B[1m0s\u001B[0m 2ms/step - loss: 0.0028\n",
      "Epoch 23/25\n",
      "\u001B[1m97/97\u001B[0m \u001B[32m━━━━━━━━━━━━━━━━━━━━\u001B[0m\u001B[37m\u001B[0m \u001B[1m0s\u001B[0m 2ms/step - loss: 0.0020\n",
      "Epoch 24/25\n",
      "\u001B[1m97/97\u001B[0m \u001B[32m━━━━━━━━━━━━━━━━━━━━\u001B[0m\u001B[37m\u001B[0m \u001B[1m0s\u001B[0m 2ms/step - loss: 0.0021\n",
      "Epoch 25/25\n",
      "\u001B[1m97/97\u001B[0m \u001B[32m━━━━━━━━━━━━━━━━━━━━\u001B[0m\u001B[37m\u001B[0m \u001B[1m0s\u001B[0m 2ms/step - loss: 0.0031\n"
     ]
    },
    {
     "data": {
      "text/plain": [
       "<keras.src.callbacks.history.History at 0x23873f81eb0>"
      ]
     },
     "execution_count": 48,
     "metadata": {},
     "output_type": "execute_result"
    }
   ],
   "execution_count": 48
  },
  {
   "metadata": {
    "ExecuteTime": {
     "end_time": "2025-03-15T22:59:24.836357Z",
     "start_time": "2025-03-15T22:59:24.441106Z"
    }
   },
   "cell_type": "code",
   "source": "y_pred=model.predict(X_test)",
   "id": "f2149221fd8b081a",
   "outputs": [
    {
     "name": "stdout",
     "output_type": "stream",
     "text": [
      "\u001B[1m2/2\u001B[0m \u001B[32m━━━━━━━━━━━━━━━━━━━━\u001B[0m\u001B[37m\u001B[0m \u001B[1m0s\u001B[0m 175ms/step\n"
     ]
    }
   ],
   "execution_count": 49
  },
  {
   "metadata": {
    "ExecuteTime": {
     "end_time": "2025-03-15T22:59:25.581645Z",
     "start_time": "2025-03-15T22:59:25.575015Z"
    }
   },
   "cell_type": "code",
   "source": [
    "y_pred=scaling.inverse_transform(y_pred)\n",
    "y_test=y_test.reshape(-1,1)\n",
    "y_test=scaling.inverse_transform(y_test)"
   ],
   "id": "74f6766140d35eb6",
   "outputs": [],
   "execution_count": 50
  },
  {
   "metadata": {
    "ExecuteTime": {
     "end_time": "2025-03-15T23:00:22.907214Z",
     "start_time": "2025-03-15T23:00:22.677763Z"
    }
   },
   "cell_type": "code",
   "source": [
    "plt.plot(y_test,label=\"gerçek yolcu sayıları\")\n",
    "plt.plot(y_pred,label=\"tahmini yolcu sayısı\")\n",
    "plt.ylabel(\"Months\")\n",
    "plt.xlabel(\"Yolcu Sayısı\")\n",
    "plt.legend()\n",
    "plt.savefig('ModelinTahmini.png')\n",
    "plt.show()"
   ],
   "id": "464aaf8edf42d6a1",
   "outputs": [
    {
     "data": {
      "text/plain": [
       "<Figure size 640x480 with 1 Axes>"
      ],
      "image/png": "[encoded data removed]"
     },
     "metadata": {},
     "output_type": "display_data"
    }
   ],
   "execution_count": 52
  },
  {
   "metadata": {},
   "cell_type": "markdown",
   "source": [
    "### 1-Epochs\n",
    "    Tanım: Modelin eğitim veri seti üzerinde kaç tur (iterasyon) tam olarak eğitim alacağını belirtir.\n",
    "    Ne İşe Yarar: Veri setiniz bir kez (1 epoch) baştan sona modele verilip, model ağırlıkları her adımdan sonra güncellenir. Toplamda epochs kadar bu süreç tekrarlanır.\n",
    "    Etkisi: Epoch sayısının yüksek olması, modelin veri üzerinde daha uzun süre eğitilmesi anlamına gelir. Gereğinden fazla olursa aşırı öğrenmeye (overfitting) sebep olabilir, çok düşük tutulursa model yeterince öğrenemeyebilir.\n",
    "\n",
    "### 2-Batch Size\n",
    "    Tanım: Her bir adımda modele verilecek veri örneklerinin sayısını belirtir.\n",
    "    Ne İşe Yarar: Tüm veri seti bir anda yerine küçük parçalara (mini batch) bölünerek eğitim yapılır. Her batch için ağırlık güncellemeleri yapılır.\n",
    "    Etkisi:\n",
    "    Küçük batch boyutu (örneğin 16, 32): Daha sık ağırlık güncellemesi yapar, ancak her güncellemede daha fazla dalgalanma (noise) olabilir.\n",
    "    Büyük batch boyutu (örneğin 128, 256): Güncellemeler daha istikrarlı olabilir ancak eğitim daha yavaş (hesaplama gereksinimi daha büyük) ilerleyebilir ve bazen modelin genelleme kapasitesi kötü etkilenebilir.\n",
    "\n",
    "### 3-Optimizer (Optimizasyon Yöntemi)\n",
    "    Tanım: Ağın ağırlıklarını güncellemek için kullanılan algoritmadır (örn. Adam, SGD, RMSprop vb.).\n",
    "    Ne İşe Yarar: Hata fonksiyonundan (loss function) elde edilen gradyanlar ile, modelin parametrelerini daha iyi bir sonuç verecek şekilde adım adım iyileştirir.\n",
    "    Etkisi: Farklı optimize ediciler farklı güncelleme stratejileri izler.\n",
    "    Adam: Genellikle hızlı yakınsama ve istikrarlı sonuçlar sağlar, çoğu problemde yaygın kullanılır.\n",
    "    SGD (Stochastic Gradient Descent): Basit ve çoğu zaman daha yavaş olabilir ancak çok büyük veri setlerinde veya online öğrenmede işe yarar.\n",
    "\n",
    "### 4-Loss (Hata Fonksiyonu)\n",
    "    Tanım: Modelin çıkışıyla hedef değer arasındaki farkı ölçen metrik.\n",
    "    Ne İşe Yarar: Eğitimin amacı bu hatayı minimize etmektir. LSTM ile zaman serisi tahmininde genellikle mean_squared_error (mse) veya mean_absolute_error (mae) kullanılır.\n",
    "    Etkisi: Seçilen hata fonksiyonu, modelin hangi yönü öğrenmesini istediğinizi doğrudan belirler. Farklı hata fonksiyonları farklı optimizasyon davranışlarına ve sonuçlara yol açabilir.\n",
    "\n",
    "### 5-Learning Rate (Öğrenme Hızı)\n",
    "    Tanım: Optimizasyon algoritmasının bir adımda ağırlıkları ne kadar değiştireceğini belirleyen sabittir (örneğin lr=0.001).\n",
    "    Ne İşe Yarar: Çok yüksek learning rate, ağırlıkların hızlı fakat kararsız güncellenmesine neden olabilir. Çok düşük olursa modelin yakınsaması çok uzun sürebilir veya yerel minimumdan çıkması zorlaşabilir.\n",
    "    Etkisi: Genelde optimizer parametreleri içinde ayarlanır (Adam(lr=0.001) gibi).\n",
    "\n",
    "### 6-Units / Neurons (LSTM katmanındaki nöron sayısı)\n",
    "    Tanım: LSTM hücresinin (katmanının) içindeki nöron sayısını belirler.\n",
    "    Ne İşe Yarar: Daha fazla nöron, modelin daha karmaşık kalıpları öğrenmesini sağlayabilir ancak hesapsal yükü ve aşırı öğrenme ihtimalini de artırır.\n",
    "    Etkisi: Model kapasitesini doğrudan etkiler. Çok az ise underfitting, çok fazla ise overfitting görülebilir. Doğru dengeyi bulmak için denemeler yapmak gerekir.\n",
    "\n",
    "### 7-Dropout\n",
    "    Tanım: Eğitim sırasında katmandaki bazı nöronları rastgele devre dışı bırakma oranını ifade eder (örneğin dropout=0.2 ile %20 devre dışı).\n",
    "    Ne İşe Yarar: Modelin belirli nöronlara aşırı bağımlı olmasını engelleyerek aşırı öğrenmeyi (overfitting) azaltır.\n",
    "    Etkisi: Çok yüksek dropout değeri öğrenmeyi zorlaştırabilir, çok düşük değer ise aşırı öğrenmeyi yeterince önleyemeyebilir.\n",
    "### 8-Activation Fonksiyonları\n",
    "    Tanım: Nöronların çıkışını şekillendiren fonksiyonlardır (örn. relu, tanh, sigmoid vb.).\n",
    "    Ne İşe Yarar: Doğrusal olmayan yapıları modele kazandırır. LSTM içinde genellikle tanh ve sigmoid dahili olarak kullanılır, ek katmanlarda farklı aktivasyonlar tercih edilebilir.\n",
    "    Etkisi: Aktivasyon fonksiyonunun seçimi, modelin nasıl öğrendiğini büyük ölçüde değiştirebilir (örneğin relu derin ağlarda sıkça tercih edilirken, LSTM hücrelerinde genelde varsayılan olarak tanh kullanılır).\n",
    "\n",
    "### 9-Validation Split / Validation Data\n",
    "    Tanım: Eğitim verisinin bir kısmını doğrulama (validation) için ayırma oranı (validation_split=0.2 gibi).\n",
    "    Ne İşe Yarar: Modelin eğitimi sırasında overfitting olup olmadığını gözlemlemek için kullanılır. Eğitim verisine dahil edilmez; her epoch sonunda doğrulama seti üzerinde sonuç ölçülür.\n",
    "    Etkisi: Eğitim esnasında doğrulama kaybı (validation loss) ve doğrulama metriğini izlemek, modelin ne zaman durdurulması gerektiği ve model seçimi konusunda fikir verir.\n",
    "\n",
    "### 10-Verbose\n",
    "\n",
    "    Tanım: Eğitim sürecinde ekrana yazdırılacak ayrıntı seviyesini kontrol eder (verbose=0, verbose=1, verbose=2).\n",
    "    Ne İşe Yarar: Eğitim ilerlerken konsolda, epoch bazında ya da adım bazında detaylı çıktılar almak isteyebilirsiniz.\n",
    "    Etkisi: Eğitim sırasında takip edeceğiniz bilginin miktarını belirler. Modelin eğitim süresi üzerinde doğrudan bir etkisi yoktur; daha çok kullanıcıya bilgilendirme amaçlıdır.\n",
    "\n",
    "\n",
    "Yukarıda sayılan parametreler, zaman serisi tahmini veya diğer derin öğrenme modellerinin eğitiminde en kritik bileşenler arasındadır. Genel yaklaşım, bu değerler için önce yaygın kabul görmüş varsayılan ayarları veya literatürdeki örnek ayarları deneyip, ardından doğrulama seti (validation) ve/veya çapraz doğrulama (cross-validation) sonuçlarına göre ince ayarlar yapmaktır.\n"
   ],
   "id": "d5c207702b959090"
  },
  {
   "metadata": {},
   "cell_type": "code",
   "outputs": [],
   "execution_count": null,
   "source": "",
   "id": "1bb4f79bfee52b42"
  }
 ],
 "metadata": {
  "kernelspec": {
   "display_name": "Python 3",
   "language": "python",
   "name": "python3"
  },
  "language_info": {
   "codemirror_mode": {
    "name": "ipython",
    "version": 2
   },
   "file_extension": ".py",
   "mimetype": "text/x-python",
   "name": "python",
   "nbconvert_exporter": "python",
   "pygments_lexer": "ipython2",
   "version": "2.7.6"
  }
 },
 "nbformat": 4,
 "nbformat_minor": 5
}
